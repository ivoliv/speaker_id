{
 "cells": [
  {
   "cell_type": "code",
   "execution_count": 1,
   "metadata": {},
   "outputs": [],
   "source": [
    "import data_import\n",
    "import naive_bayes\n",
    "import ml_utils"
   ]
  },
  {
   "cell_type": "code",
   "execution_count": 2,
   "metadata": {},
   "outputs": [],
   "source": [
    "data_path = '/Users/ivoliv/AI/insera/data/SpeechLabelingService'\n",
    "ORIG_DATA = True  # True: original data, False: IMDB dataset"
   ]
  },
  {
   "cell_type": "code",
   "execution_count": 3,
   "metadata": {},
   "outputs": [],
   "source": [
    "if ORIG_DATA:\n",
    "    train_file = 'training.txt'\n",
    "    train, valid = data_import.normalize_and_split(data_path, train_file, test_size=.20)\n",
    "else:\n",
    "    train_file = '/Users/ivoliv/Datasets/imbd_csv/movie_reviews.csv'\n",
    "    train, valid = data_import.import_imbd(train_file, to=10000, test_size=.20)"
   ]
  },
  {
   "cell_type": "code",
   "execution_count": 4,
   "metadata": {},
   "outputs": [
    {
     "name": "stdout",
     "output_type": "stream",
     "text": [
      "Train and validation files written to disk.\n",
      "Sizes: (696, 3) (175, 3)\n"
     ]
    }
   ],
   "source": [
    "data_import.create_split_files(data_path, train, valid)"
   ]
  },
  {
   "cell_type": "code",
   "execution_count": 5,
   "metadata": {},
   "outputs": [],
   "source": [
    "processed_data_path = '/Users/ivoliv/AI/insera/data/SpeechLabelingService/data'\n",
    "train, test = naive_bayes.get_splits(processed_data_path)"
   ]
  },
  {
   "cell_type": "code",
   "execution_count": 6,
   "metadata": {},
   "outputs": [
    {
     "data": {
      "text/html": [
       "<div>\n",
       "<style scoped>\n",
       "    .dataframe tbody tr th:only-of-type {\n",
       "        vertical-align: middle;\n",
       "    }\n",
       "\n",
       "    .dataframe tbody tr th {\n",
       "        vertical-align: top;\n",
       "    }\n",
       "\n",
       "    .dataframe thead th {\n",
       "        text-align: right;\n",
       "    }\n",
       "</style>\n",
       "<table border=\"1\" class=\"dataframe\">\n",
       "  <thead>\n",
       "    <tr style=\"text-align: right;\">\n",
       "      <th></th>\n",
       "      <th>tag</th>\n",
       "      <th>statement</th>\n",
       "      <th>tag_id</th>\n",
       "    </tr>\n",
       "  </thead>\n",
       "  <tbody>\n",
       "    <tr>\n",
       "      <th>0</th>\n",
       "      <td>Patient</td>\n",
       "      <td>Yeah, it's in the back definitely. It hurts.</td>\n",
       "      <td>1</td>\n",
       "    </tr>\n",
       "    <tr>\n",
       "      <th>1</th>\n",
       "      <td>Patient</td>\n",
       "      <td>... the neck and he thought this would be a li...</td>\n",
       "      <td>1</td>\n",
       "    </tr>\n",
       "    <tr>\n",
       "      <th>2</th>\n",
       "      <td>Patient</td>\n",
       "      <td>I- I really do.</td>\n",
       "      <td>1</td>\n",
       "    </tr>\n",
       "    <tr>\n",
       "      <th>3</th>\n",
       "      <td>Patient</td>\n",
       "      <td>Uh ... you know, so I'm taking ...</td>\n",
       "      <td>1</td>\n",
       "    </tr>\n",
       "    <tr>\n",
       "      <th>4</th>\n",
       "      <td>Patient</td>\n",
       "      <td>So now I'm a fat adult so I still use it (laug...</td>\n",
       "      <td>1</td>\n",
       "    </tr>\n",
       "  </tbody>\n",
       "</table>\n",
       "</div>"
      ],
      "text/plain": [
       "       tag                                          statement  tag_id\n",
       "0  Patient       Yeah, it's in the back definitely. It hurts.       1\n",
       "1  Patient  ... the neck and he thought this would be a li...       1\n",
       "2  Patient                                    I- I really do.       1\n",
       "3  Patient                 Uh ... you know, so I'm taking ...       1\n",
       "4  Patient  So now I'm a fat adult so I still use it (laug...       1"
      ]
     },
     "execution_count": 6,
     "metadata": {},
     "output_type": "execute_result"
    }
   ],
   "source": [
    "train.head()"
   ]
  },
  {
   "cell_type": "code",
   "execution_count": 7,
   "metadata": {},
   "outputs": [
    {
     "name": "stdout",
     "output_type": "stream",
     "text": [
      "Counting and feature vectorizing... Done.\n",
      "Transform and tfidf... Done.\n"
     ]
    }
   ],
   "source": [
    "count_vect, X_train_counts = naive_bayes.create_counts(train)\n",
    "tfidf_transformer, X_train_tfidf = naive_bayes.transform_and_tfidf(X_train_counts)"
   ]
  },
  {
   "cell_type": "code",
   "execution_count": 8,
   "metadata": {},
   "outputs": [
    {
     "name": "stdout",
     "output_type": "stream",
     "text": [
      "Training... Done.\n"
     ]
    }
   ],
   "source": [
    "clf = naive_bayes.train_model(X_train_tfidf, train['tag_id'])"
   ]
  },
  {
   "cell_type": "code",
   "execution_count": 9,
   "metadata": {},
   "outputs": [
    {
     "name": "stdout",
     "output_type": "stream",
     "text": [
      "Calculating missclassifications... Done\n",
      "Calculating missclassifications... Done\n"
     ]
    }
   ],
   "source": [
    "tr_miss = naive_bayes.calc_miss(clf, count_vect, tfidf_transformer, train)\n",
    "te_miss = naive_bayes.calc_miss(clf, count_vect, tfidf_transformer, test)"
   ]
  },
  {
   "cell_type": "code",
   "execution_count": 10,
   "metadata": {},
   "outputs": [
    {
     "name": "stdout",
     "output_type": "stream",
     "text": [
      "[20.98%, 32.57%]\n"
     ]
    }
   ],
   "source": [
    "print('[{:.2%}, {:.2%}]'.format(tr_miss, te_miss))"
   ]
  },
  {
   "cell_type": "code",
   "execution_count": 11,
   "metadata": {},
   "outputs": [
    {
     "name": "stdout",
     "output_type": "stream",
     "text": [
      "\n",
      "Correct classifications:\n",
      "        tag                                          statement  tag_id  0  1\n",
      "0   Patient       Yeah, it's in the back definitely. It hurts.       1  1  1\n",
      "1   Patient  ... the neck and he thought this would be a li...       1  1  1\n",
      "2   Patient                                    I- I really do.       1  1  1\n",
      "3   Patient                 Uh ... you know, so I'm taking ...       1  1  1\n",
      "4   Patient  So now I'm a fat adult so I still use it (laug...       1  1  1\n",
      "5    Doctor                              Mm-hmm (affirmative).       0  0  0\n",
      "7   Patient                                        I'm facing.       1  1  1\n",
      "8    Doctor                                              Okay.       0  0  0\n",
      "9    Doctor                                            Uh huh.       0  0  0\n",
      "10  Patient                          Just like my back, right?       1  1  1\n",
      "11   Doctor  ... and then we put in a graft and then screw ...       0  0  0\n",
      "13   Doctor                                               Yep.       0  0  0\n",
      "14  Patient  Um, I- I got- I gotta say, um ... when I check...       1  1  1\n",
      "15   Doctor                              It can. Yeah, it can.       0  0  0\n",
      "16  Patient                                         ... uh ...       1  1  1\n",
      "18  Patient                                        Dr. Tanner.       1  1  1\n",
      "19   Doctor                              Yeah. Just stay here.       0  0  0\n",
      "\n",
      "Missclassified:\n",
      "        tag                                          statement  tag_id  0  1\n",
      "6   Patient                                           (laughs)       1  1  0\n",
      "12    Other  Oh. Oh, oh, oh, oh, oh, oh, oh, oh, oh, oh, oh...       2  2  1\n",
      "17    Other           It's um- but it's fine, right? It'll ...       2  2  0\n"
     ]
    }
   ],
   "source": [
    "comp = ml_utils.show_sample(clf, count_vect, tfidf_transformer, train, 20)"
   ]
  },
  {
   "cell_type": "code",
   "execution_count": 12,
   "metadata": {},
   "outputs": [
    {
     "name": "stdout",
     "output_type": "stream",
     "text": [
      "\n",
      "Correct classifications:\n",
      "        tag                                          statement  tag_id  0  1\n",
      "0   Patient                     Before they'll let me go back.       1  1  1\n",
      "1   Patient                    But that's, uh, understandable.       1  1  1\n",
      "4    Doctor                            Keep it up. Keep it up.       0  0  0\n",
      "5    Doctor                                              Okay.       0  0  0\n",
      "6    Doctor                                              Yeah.       0  0  0\n",
      "7   Patient                                           She got-       1  1  1\n",
      "9   Patient           Uh, doing my physical therapy and stuff.       1  1  1\n",
      "10   Doctor  Oh yes, yes, yes. Um, they just need a physici...       0  0  0\n",
      "11  Patient                                It helps with this.       1  1  1\n",
      "14  Patient  Well, I don't drive in busy areas to begin wit...       1  1  1\n",
      "15   Doctor                                      Hm. Okay. Um.       0  0  0\n",
      "16   Doctor                   Yeah, how do you do the surgery?       0  0  0\n",
      "18   Doctor  ... you know, more spine problems in the veter...       0  0  0\n",
      "19  Patient  Stuff sticks to me longer than it does general...       1  1  1\n",
      "\n",
      "Missclassified:\n",
      "        tag                                          statement  tag_id  0  1\n",
      "2    Doctor                               It won't be too bad.       0  0  1\n",
      "3     Other  I wish I could have seen you guys before, thou...       2  2  1\n",
      "8   Patient                                           (laughs)       1  1  0\n",
      "12    Other  Well, ther- the therapy yesterday, he couldn't...       2  2  1\n",
      "13   Doctor  Ah. All right. Must be tired. Um, so I was jus...       0  0  1\n",
      "17    Other                                          Oh, okay.       2  2  0\n"
     ]
    }
   ],
   "source": [
    "comp = ml_utils.show_sample(clf, count_vect, tfidf_transformer, test, 20)"
   ]
  }
 ],
 "metadata": {
  "kernelspec": {
   "display_name": "Python 3",
   "language": "python",
   "name": "python3"
  },
  "language_info": {
   "codemirror_mode": {
    "name": "ipython",
    "version": 3
   },
   "file_extension": ".py",
   "mimetype": "text/x-python",
   "name": "python",
   "nbconvert_exporter": "python",
   "pygments_lexer": "ipython3",
   "version": "3.6.6"
  }
 },
 "nbformat": 4,
 "nbformat_minor": 2
}
