{
 "cells": [
  {
   "cell_type": "code",
   "execution_count": 1,
   "metadata": {},
   "outputs": [],
   "source": [
    "# To create python file:\n",
    "# jupyter nbconvert --to=python lang_model_new.ipynb\n",
    "\n",
    "import utils.data_import as data_import\n",
    "import utils.wiki_data as wiki_data\n",
    "import utils.ml_utils as ml_utils\n",
    "import model.neural as neural\n",
    "\n",
    "import torch\n",
    "import torch.nn as nn\n",
    "import torch.optim as optim\n",
    "\n",
    "from torchtext import data, vocab\n",
    "\n",
    "import os, sys\n",
    "import pdb\n",
    "import pandas as pd\n",
    "import numpy as np\n",
    "import math\n",
    "#from tqdm import tnrange, tqdm_notebook\n",
    "from tqdm import tqdm\n",
    "\n",
    "import importlib\n",
    "\n",
    "import settings\n",
    "\n",
    "np.random.seed(123)"
   ]
  },
  {
   "cell_type": "code",
   "execution_count": 2,
   "metadata": {},
   "outputs": [
    {
     "name": "stdout",
     "output_type": "stream",
     "text": [
      "Running in notebook: True\n"
     ]
    }
   ],
   "source": [
    "in_notebook = ml_utils.in_ipynb()\n",
    "print('Running in notebook:', in_notebook)"
   ]
  },
  {
   "cell_type": "code",
   "execution_count": 3,
   "metadata": {},
   "outputs": [
    {
     "name": "stdout",
     "output_type": "stream",
     "text": [
      "No cuda.\n"
     ]
    }
   ],
   "source": [
    "cuda = torch.cuda.is_available()\n",
    "if cuda:\n",
    "    print('Cuda is available!')\n",
    "    print('Device:', torch.cuda.get_device_name(torch.cuda.current_device()))\n",
    "else:\n",
    "    print('No cuda.')\n",
    "\n",
    "if in_notebook:\n",
    "    import matplotlib.pyplot as plt\n",
    "    %matplotlib inline"
   ]
  },
  {
   "cell_type": "code",
   "execution_count": 4,
   "metadata": {},
   "outputs": [
    {
     "name": "stdout",
     "output_type": "stream",
     "text": [
      "Generated train: 61,154 tokens (1,000 lines)\n",
      "Generated valid: 54,147 tokens (1,000 lines)\n",
      "Generated test:  65,832 tokens (1,000 lines)\n",
      "Generated vocab: 10,954\n",
      "Generated oov:   4.1%\n",
      "Exporting vocab to vocab.p... Done.\n"
     ]
    }
   ],
   "source": [
    "corpus = wiki_data.WikiCorpus(file_path=settings.wikitext_path, lines=settings.lines)\n",
    "corpus.vocab.export_vocab('vocab.p')"
   ]
  },
  {
   "cell_type": "code",
   "execution_count": 5,
   "metadata": {},
   "outputs": [
    {
     "name": "stdout",
     "output_type": "stream",
     "text": [
      "Batchifying train... Done.  torch.Size([1223, 50])\n",
      "Batchifying valid... Done.  torch.Size([1082, 50])\n",
      "Batchifying test...  Done.  torch.Size([1316, 50])\n"
     ]
    }
   ],
   "source": [
    "corpus.batchify(batch_size=settings.batch_size, seq_length=settings.window_size)"
   ]
  },
  {
   "cell_type": "code",
   "execution_count": 6,
   "metadata": {},
   "outputs": [
    {
     "name": "stdout",
     "output_type": "stream",
     "text": [
      "3 3866 3 1624 869 346 3519 305 14 160 1894 149 10 62 1197 1791 278 1199 2685 23 2233 346 2186 44 3 3890 566 36 4186 93 3874 3875 62 16 1 3 44 2235 38 46 14 3 3850 902 44 18 3 850 848 3 4187 3 2080 127 62 3 671 127 2 3 4188 3 1668 62 563 14 4189 4190 16 3 None\n",
      "<upcase> india <upcase> today criticized her acting skills , but remarked that : \" [ she has ] managed to find her feet in <upcase> bollywood now by banking on glamorous roles \" . <eol> <upcase> in 2008 and 2011 , <upcase> fernandez featured in the <upcase> uk magazine <upcase> eastern <upcase> eye 's \" <upcase> world 's <unk> <upcase> asian <upcase> women \" list , ranking twelfth . <upcase> None\n",
      "tensor([ 17,  18,   3,   4,  16,   3, 434, 119, 283, 435, 234, 235,  14, 436,\n",
      "        409,  79, 437,  23, 438,  81,  28, 439,   3,  82,  66, 387,  24,   3,\n",
      "        440,   3,  83,  14, 441,  17, 442,   3, 421, 443,  16,   1,   3,  24,\n",
      "         18,   3,  63, 396, 402, 158, 444,  14,  18, 445, 446,  17,  18,   3,\n",
      "        384,   3, 385, 447,  18, 448,  17, 449,   2,  44, 450,  23, 451, 240])\n",
      "count    19.000000\n",
      "mean     64.315789\n",
      "std      10.214655\n",
      "min      26.000000\n",
      "25%      63.500000\n",
      "50%      66.000000\n",
      "75%      69.500000\n",
      "max      73.000000\n",
      "Name: len, dtype: float64\n"
     ]
    },
    {
     "data": {
      "image/png": "[encoded data removed]",
      "text/plain": [
       "<Figure size 432x288 with 1 Axes>"
      ]
     },
     "metadata": {
      "needs_background": "light"
     },
     "output_type": "display_data"
    }
   ],
   "source": [
    "if in_notebook:\n",
    "    print(corpus.train.show_itoklist(29629,29629+70))\n",
    "    print(corpus.train.show_stoklist(corpus.vocab, 29629,29629+70))\n",
    "    print(corpus.train.batch_matrix[:70,1])\n",
    "    df = corpus.train.batch_stats()\n",
    "    df.hist()"
   ]
  },
  {
   "cell_type": "code",
   "execution_count": 7,
   "metadata": {},
   "outputs": [],
   "source": [
    "train_dl = wiki_data.WikiTextDataset(corpus.train)\n",
    "valid_dl = wiki_data.WikiTextDataset(corpus.valid)\n",
    "test_dl = wiki_data.WikiTextDataset(corpus.test)"
   ]
  },
  {
   "cell_type": "code",
   "execution_count": 8,
   "metadata": {},
   "outputs": [],
   "source": [
    "model = neural.lang_model_LSTM(vocab_dim=len(corpus.vocab),\n",
    "                               emb_dim=settings.emb_dim,\n",
    "                               hidden_dim=settings.hidden_dim,\n",
    "                               n_layers=settings.num_layers,\n",
    "                               dropout=settings.dropout\n",
    "                              )"
   ]
  },
  {
   "cell_type": "code",
   "execution_count": 9,
   "metadata": {},
   "outputs": [],
   "source": [
    "if cuda:\n",
    "    model = model.cuda()\n",
    "loss_func = nn.CrossEntropyLoss()"
   ]
  },
  {
   "cell_type": "code",
   "execution_count": 10,
   "metadata": {},
   "outputs": [
    {
     "name": "stdout",
     "output_type": "stream",
     "text": [
      "lang_model_LSTM(\n",
      "  (embedding): Embedding(10954, 50)\n",
      "  (lstm): LSTM(50, 300, num_layers=2, dropout=0.4, bidirectional=True)\n",
      "  (fc): Linear(in_features=600, out_features=10954, bias=True)\n",
      "  (dropout): Dropout(p=0.4)\n",
      ")\n"
     ]
    }
   ],
   "source": [
    "print(model)"
   ]
  },
  {
   "cell_type": "code",
   "execution_count": 11,
   "metadata": {},
   "outputs": [],
   "source": [
    "model = torch.load('model_weights.pt')"
   ]
  },
  {
   "cell_type": "code",
   "execution_count": 12,
   "metadata": {},
   "outputs": [],
   "source": [
    "missclass = []\n",
    "missclass_next = []\n",
    "losses = []"
   ]
  },
  {
   "cell_type": "code",
   "execution_count": 35,
   "metadata": {},
   "outputs": [],
   "source": [
    "def run_epochs(model, train_dl, valid_dl, epochs=settings.epochs,\n",
    "               losses=[], missclass=[]):\n",
    "    \n",
    "    opt = optim.Adam(model.parameters(), lr=0.01, weight_decay=1e-6)\n",
    "    #opt = optim.Adam(model.parameters(), lr=0.001)\n",
    "    \n",
    "    \n",
    "    scheduler = optim.lr_scheduler.StepLR(opt, step_size=20, gamma=0.8)\n",
    "    \n",
    "    best_missclass_te = 1e10\n",
    "    \n",
    "    try: # Allow for user interrupt\n",
    " \n",
    "        for epoch in range(1, epochs + 1):\n",
    "            scheduler.step()\n",
    "            running_loss = 0.0\n",
    "            running_corrects = 0\n",
    "            model.train() # turn on training mode\n",
    "\n",
    "            num_vals = 0\n",
    "            num_correct = 0\n",
    "            miss_next_wd = 0\n",
    "            next_wd_tot = 0\n",
    "\n",
    "            #pdb.set_trace()\n",
    "\n",
    "            for x, y in tqdm(train_dl, desc='Train {}/{}'.format(epoch, epochs)):\n",
    "                opt.zero_grad()\n",
    "                \n",
    "                if cuda:\n",
    "                    x = x.cuda()\n",
    "                    y = y.cuda()\n",
    "\n",
    "                preds = model(x)\n",
    "                loss = loss_func(preds.view(-1, preds.size(2)), y.view(-1).long())\n",
    "\n",
    "                loss.backward()\n",
    "                #torch.nn.utils.clip_grad_norm_(model.parameters(), 0.25)\n",
    "                opt.step()\n",
    "\n",
    "                running_loss += loss.item() * x.size(0) / x.size(1)\n",
    "\n",
    "                _, y_preds = torch.max(preds, dim=2)\n",
    "                num_correct += torch.sum(y == y_preds).item()\n",
    "                num_vals += y.size(0)*y.size(1)\n",
    "                \n",
    "                miss_next_wd += ml_utils.calc_miss_next_wds(y, y_preds)\n",
    "                next_wd_tot += y.size(1)\n",
    "\n",
    "            #pdb.set_trace()\n",
    "\n",
    "            missclass_tr = 1 - num_correct / num_vals\n",
    "            miss_next_wd_rate_tr = miss_next_wd / next_wd_tot\n",
    "\n",
    "            epoch_loss = running_loss / len(train_dl)\n",
    "\n",
    "            num_vals = 0\n",
    "            num_correct = 0\n",
    "            miss_next_wd = 0\n",
    "            next_wd_tot = 0\n",
    "\n",
    "            # calculate the validation loss for this epoch\n",
    "            val_loss = 0.0\n",
    "            model.eval() # turn on evaluation mode\n",
    "            \n",
    "            with torch.no_grad():\n",
    "                for x, y in tqdm(valid_dl, desc='Valid {}/{}'.format(epoch, epochs)):\n",
    "                    if cuda:\n",
    "                        x = x.cuda()\n",
    "                        y = y.cuda()   \n",
    "                        \n",
    "                    preds = model(x)\n",
    "                    loss = loss_func(preds.view(-1, preds.size(2)), y.view(-1).long())\n",
    "\n",
    "                    val_loss += loss.item() * x.size(0) / x.size(1)\n",
    "\n",
    "                    _, y_preds = torch.max(preds, dim=2)\n",
    "                    num_correct += torch.sum(y == y_preds).item()\n",
    "                    num_vals += y.size(0)*y.size(1)\n",
    "                    \n",
    "                    miss_next_wd += ml_utils.calc_miss_next_wds(y, y_preds)\n",
    "                    next_wd_tot += y.size(1)\n",
    "\n",
    "            #pdb.set_trace()\n",
    "\n",
    "            missclass_te = 1 - num_correct / num_vals\n",
    "            val_loss /= len(valid_dl)\n",
    "            \n",
    "            miss_next_wd_rate_val = miss_next_wd / next_wd_tot\n",
    "            \n",
    "            missclass_next.append((miss_next_wd_rate_tr, miss_next_wd_rate_val))\n",
    "            missclass.append((missclass_tr, missclass_te))\n",
    "            losses.append((epoch_loss, val_loss))\n",
    "\n",
    "            print('Epoch: {}/{}, Loss: [{:.4f}, {:.4f}], Ppl: [{:6.2f}, {:6.2f}], Miss: [{:.2%}, {:.2%}], [{:.2%}, {:.2%}]'\\\n",
    "                  .format(epoch, epochs, epoch_loss, val_loss, \n",
    "                          math.exp(epoch_loss), math.exp(val_loss), \n",
    "                          missclass_tr, missclass_te,\n",
    "                          miss_next_wd_rate_tr, miss_next_wd_rate_val))\n",
    "            sys.stdout.flush()\n",
    "\n",
    "            if missclass_te < best_missclass_te: \n",
    "                print('Saving weights file...', end=' ', flush=True)\n",
    "                torch.save(model, 'model_weights.pt')\n",
    "                print('Done.', flush=True)\n",
    "                best_missclass_te = missclass_te\n",
    "            \n",
    "    except KeyboardInterrupt:\n",
    "        print('Stopping with latest weights.')\n",
    "        \n",
    "    return model, opt, losses, missclass"
   ]
  },
  {
   "cell_type": "code",
   "execution_count": 36,
   "metadata": {
    "scrolled": false
   },
   "outputs": [
    {
     "name": "stderr",
     "output_type": "stream",
     "text": [
      "Train 1/10: 100%|██████████| 19/19 [01:00<00:00,  3.19s/it]\n",
      "Valid 1/10: 100%|██████████| 16/16 [00:13<00:00,  1.22it/s]"
     ]
    },
    {
     "name": "stdout",
     "output_type": "stream",
     "text": [
      "Epoch: 1/10, Loss: [0.2622, 3.1644], Ppl: [  1.30,  23.68], Miss: [4.44%, 28.20%], [18.53%, 48.38%]\n",
      "Saving weights file... Done.\n"
     ]
    },
    {
     "name": "stderr",
     "output_type": "stream",
     "text": [
      "\n",
      "Train 2/10: 100%|██████████| 19/19 [00:57<00:00,  3.01s/it]\n",
      "Valid 2/10: 100%|██████████| 16/16 [00:12<00:00,  1.27it/s]"
     ]
    },
    {
     "name": "stdout",
     "output_type": "stream",
     "text": [
      "Epoch: 2/10, Loss: [0.2414, 3.1197], Ppl: [  1.27,  22.64], Miss: [4.13%, 28.09%], [14.84%, 48.75%]\n",
      "Saving weights file... Done.\n"
     ]
    },
    {
     "name": "stderr",
     "output_type": "stream",
     "text": [
      "\n",
      "Train 3/10: 100%|██████████| 19/19 [01:00<00:00,  3.18s/it]\n",
      "Valid 3/10: 100%|██████████| 16/16 [00:14<00:00,  1.08it/s]"
     ]
    },
    {
     "name": "stdout",
     "output_type": "stream",
     "text": [
      "Epoch: 3/10, Loss: [0.1621, 3.0691], Ppl: [  1.18,  21.52], Miss: [2.68%, 27.82%], [12.11%, 49.12%]\n",
      "Saving weights file... Done.\n"
     ]
    },
    {
     "name": "stderr",
     "output_type": "stream",
     "text": [
      "\n",
      "Train 4/10: 100%|██████████| 19/19 [00:57<00:00,  3.01s/it]\n",
      "Valid 4/10: 100%|██████████| 16/16 [00:14<00:00,  1.12it/s]"
     ]
    },
    {
     "name": "stdout",
     "output_type": "stream",
     "text": [
      "Epoch: 4/10, Loss: [0.1188, 3.0359], Ppl: [  1.13,  20.82], Miss: [1.89%, 27.48%], [10.42%, 48.38%]\n",
      "Saving weights file... Done.\n"
     ]
    },
    {
     "name": "stderr",
     "output_type": "stream",
     "text": [
      "\n",
      "Train 5/10: 100%|██████████| 19/19 [00:52<00:00,  2.79s/it]\n",
      "Valid 5/10: 100%|██████████| 16/16 [00:12<00:00,  1.27it/s]"
     ]
    },
    {
     "name": "stdout",
     "output_type": "stream",
     "text": [
      "Epoch: 5/10, Loss: [0.1030, 3.0412], Ppl: [  1.11,  20.93], Miss: [1.62%, 27.40%], [11.68%, 49.12%]\n",
      "Saving weights file... Done.\n"
     ]
    },
    {
     "name": "stderr",
     "output_type": "stream",
     "text": [
      "\n",
      "Train 6/10: 100%|██████████| 19/19 [00:53<00:00,  2.81s/it]\n",
      "Valid 6/10: 100%|██████████| 16/16 [00:13<00:00,  1.22it/s]"
     ]
    },
    {
     "name": "stdout",
     "output_type": "stream",
     "text": [
      "Epoch: 6/10, Loss: [0.0946, 3.0447], Ppl: [  1.10,  21.00], Miss: [1.55%, 27.26%], [9.16%, 49.75%]\n",
      "Saving weights file... Done.\n"
     ]
    },
    {
     "name": "stderr",
     "output_type": "stream",
     "text": [
      "\n",
      "Train 7/10: 100%|██████████| 19/19 [00:53<00:00,  2.84s/it]\n",
      "Valid 7/10: 100%|██████████| 16/16 [00:12<00:00,  1.25it/s]"
     ]
    },
    {
     "name": "stdout",
     "output_type": "stream",
     "text": [
      "Epoch: 7/10, Loss: [0.0900, 3.0397], Ppl: [  1.09,  20.90], Miss: [1.44%, 27.31%], [8.74%, 48.25%]\n"
     ]
    },
    {
     "name": "stderr",
     "output_type": "stream",
     "text": [
      "\n",
      "Train 8/10: 100%|██████████| 19/19 [00:58<00:00,  3.06s/it]\n",
      "Valid 8/10: 100%|██████████| 16/16 [00:15<00:00,  1.04it/s]"
     ]
    },
    {
     "name": "stdout",
     "output_type": "stream",
     "text": [
      "Epoch: 8/10, Loss: [0.0867, 3.0352], Ppl: [  1.09,  20.80], Miss: [1.40%, 27.16%], [7.16%, 48.38%]\n",
      "Saving weights file... Done.\n"
     ]
    },
    {
     "name": "stderr",
     "output_type": "stream",
     "text": [
      "\n",
      "Train 9/10: 100%|██████████| 19/19 [00:56<00:00,  2.95s/it]\n",
      "Valid 9/10: 100%|██████████| 16/16 [00:13<00:00,  1.22it/s]"
     ]
    },
    {
     "name": "stdout",
     "output_type": "stream",
     "text": [
      "Epoch: 9/10, Loss: [0.0848, 3.0657], Ppl: [  1.09,  21.45], Miss: [1.43%, 27.26%], [8.21%, 48.50%]\n"
     ]
    },
    {
     "name": "stderr",
     "output_type": "stream",
     "text": [
      "\n",
      "Train 10/10: 100%|██████████| 19/19 [00:56<00:00,  2.95s/it]\n",
      "Valid 10/10: 100%|██████████| 16/16 [00:13<00:00,  1.19it/s]"
     ]
    },
    {
     "name": "stdout",
     "output_type": "stream",
     "text": [
      "Epoch: 10/10, Loss: [0.0843, 3.0702], Ppl: [  1.09,  21.55], Miss: [1.45%, 27.17%], [7.37%, 48.12%]\n"
     ]
    },
    {
     "name": "stderr",
     "output_type": "stream",
     "text": [
      "\n"
     ]
    }
   ],
   "source": [
    "model, opt, losses, missclass = run_epochs(model, train_dl, valid_dl, epochs=settings.epochs,\n",
    "                                           losses=losses, missclass=missclass)"
   ]
  },
  {
   "cell_type": "code",
   "execution_count": 37,
   "metadata": {},
   "outputs": [
    {
     "data": {
      "text/plain": [
       "tensor(2.3327, grad_fn=<NllLossBackward>)"
      ]
     },
     "execution_count": 37,
     "metadata": {},
     "output_type": "execute_result"
    }
   ],
   "source": [
    "x, y = next(iter(valid_dl))\n",
    "if cuda:\n",
    "    x = x.cuda()\n",
    "    y = y.cuda()\n",
    "loss_func = nn.CrossEntropyLoss()\n",
    "preds = model(x)\n",
    "_, y_preds = torch.max(preds, dim=2)\n",
    "ml_utils.calc_miss_next_wds(y, y_preds)\n",
    "loss = loss_func(preds.view(-1, preds.size(2)), y.view(-1).long())\n",
    "loss"
   ]
  },
  {
   "cell_type": "code",
   "execution_count": 38,
   "metadata": {},
   "outputs": [
    {
     "name": "stdout",
     "output_type": "stream",
     "text": [
      "torch.Size([70, 50])\n",
      "tensor([3792,   17,    3, 3688,    3,  411,    3,  500,   11,    3, 6689,   20,\n",
      "           3, 6018,    3,  339,   44, 2029, 1704, 2558,   14,    3, 6689,    3,\n",
      "        6676, 6690,    3, 2442,    3, 6686,  115, 2179,   23, 6691,   70,   18,\n",
      "           3, 6692, 1704,    3, 6693,    2,   14,    3, 6694,    3, 1587,   17,\n",
      "          18,    3, 3688,    3,  584,   44, 6691, 1704, 1846,   14,   38,    3,\n",
      "        6689,    3,  543,    3,  339,   44, 6695, 1704, 6696,   16])\n"
     ]
    }
   ],
   "source": [
    "print(y.shape)\n",
    "print(y[:,2])"
   ]
  },
  {
   "cell_type": "code",
   "execution_count": 39,
   "metadata": {},
   "outputs": [
    {
     "name": "stdout",
     "output_type": "stream",
     "text": [
      "tensor([4751,   17,    3, 3688,    3,  411,    3, 2426,   11,    3, 2427,   20,\n",
      "           3, 3941,    3, 2541,   44, 4314, 1704, 1098,   14,    3, 5079,    3,\n",
      "         904,  905,    3, 2442,    3, 2786,  115, 2622,   23, 3591,   70,   18,\n",
      "           3, 2993, 1704,    3, 4108,    2,   14,    3, 5079,    3, 1587,   17,\n",
      "          18,    3, 3688,    3, 1733,   44, 2053, 1704, 4277,   14,   38,    3,\n",
      "        4084,    3,  543,    3, 2541,   44, 2053, 1704, 4897,   18])\n"
     ]
    }
   ],
   "source": [
    "print(y_preds[:,2])"
   ]
  },
  {
   "cell_type": "code",
   "execution_count": 40,
   "metadata": {},
   "outputs": [
    {
     "data": {
      "image/png": "[encoded data removed]",
      "text/plain": [
       "<Figure size 432x288 with 1 Axes>"
      ]
     },
     "metadata": {
      "needs_background": "light"
     },
     "output_type": "display_data"
    }
   ],
   "source": [
    "if in_notebook:\n",
    "    plt.plot(losses)\n",
    "    plt.legend(['train', 'valid'])"
   ]
  },
  {
   "cell_type": "code",
   "execution_count": 41,
   "metadata": {},
   "outputs": [
    {
     "data": {
      "image/png": "[encoded data removed]",
      "text/plain": [
       "<Figure size 432x288 with 1 Axes>"
      ]
     },
     "metadata": {
      "needs_background": "light"
     },
     "output_type": "display_data"
    }
   ],
   "source": [
    "if in_notebook:\n",
    "    plt.plot(missclass)\n",
    "    plt.legend(['train', 'valid'])"
   ]
  },
  {
   "cell_type": "code",
   "execution_count": 42,
   "metadata": {},
   "outputs": [
    {
     "data": {
      "image/png": "[encoded data removed]",
      "text/plain": [
       "<Figure size 432x288 with 1 Axes>"
      ]
     },
     "metadata": {
      "needs_background": "light"
     },
     "output_type": "display_data"
    }
   ],
   "source": [
    "if in_notebook:\n",
    "    plt.plot(missclass_next)\n",
    "    plt.legend(['train', 'valid'])"
   ]
  },
  {
   "cell_type": "code",
   "execution_count": null,
   "metadata": {},
   "outputs": [],
   "source": []
  }
 ],
 "metadata": {
  "kernelspec": {
   "display_name": "Python 3",
   "language": "python",
   "name": "python3"
  },
  "language_info": {
   "codemirror_mode": {
    "name": "ipython",
    "version": 3
   },
   "file_extension": ".py",
   "mimetype": "text/x-python",
   "name": "python",
   "nbconvert_exporter": "python",
   "pygments_lexer": "ipython3",
   "version": "3.7.0"
  }
 },
 "nbformat": 4,
 "nbformat_minor": 2
}
