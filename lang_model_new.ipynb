{
 "cells": [
  {
   "cell_type": "code",
   "execution_count": 1,
   "metadata": {},
   "outputs": [],
   "source": [
    "# To create python file:\n",
    "# jupyter nbconvert --to=python lang_model_new.ipynb\n",
    "\n",
    "import utils.data_import as data_import\n",
    "import utils.wiki_data as wiki_data\n",
    "import utils.ml_utils as ml_utils\n",
    "import model.neural as neural\n",
    "\n",
    "import torch\n",
    "import torch.nn as nn\n",
    "import torch.optim as optim\n",
    "\n",
    "from torchtext import data, vocab\n",
    "\n",
    "import os, sys\n",
    "import pdb\n",
    "import pandas as pd\n",
    "import numpy as np\n",
    "import math\n",
    "#from tqdm import tnrange, tqdm_notebook\n",
    "from tqdm import tqdm\n",
    "\n",
    "import importlib\n",
    "\n",
    "import settings\n",
    "\n",
    "np.random.seed(123)"
   ]
  },
  {
   "cell_type": "code",
   "execution_count": 2,
   "metadata": {},
   "outputs": [
    {
     "name": "stdout",
     "output_type": "stream",
     "text": [
      "Running in notebook: True\n"
     ]
    }
   ],
   "source": [
    "in_notebook = ml_utils.in_ipynb()\n",
    "print('Running in notebook:', in_notebook)"
   ]
  },
  {
   "cell_type": "code",
   "execution_count": 3,
   "metadata": {},
   "outputs": [
    {
     "name": "stdout",
     "output_type": "stream",
     "text": [
      "No cuda.\n"
     ]
    }
   ],
   "source": [
    "cuda = torch.cuda.is_available()\n",
    "if cuda:\n",
    "    print('Cuda is available!')\n",
    "    print('Device:', torch.cuda.get_device_name(torch.cuda.current_device()))\n",
    "else:\n",
    "    print('No cuda.')\n",
    "\n",
    "if in_notebook:\n",
    "    import matplotlib.pyplot as plt\n",
    "    %matplotlib inline"
   ]
  },
  {
   "cell_type": "code",
   "execution_count": null,
   "metadata": {},
   "outputs": [],
   "source": []
  },
  {
   "cell_type": "code",
   "execution_count": 4,
   "metadata": {},
   "outputs": [
    {
     "name": "stdout",
     "output_type": "stream",
     "text": [
      "Generated train: 62,570 tokens (1,000 lines)\n",
      "Generated valid: 55,679 tokens (1,000 lines)\n",
      "Generated test:  67,571 tokens (1,000 lines)\n",
      "Generated vocab: 10,917\n",
      "Generated oov:   4.0%\n"
     ]
    }
   ],
   "source": [
    "corpus = wiki_data.WikiCorpus(file_path=settings.wikitext_path, lines=settings.lines)"
   ]
  },
  {
   "cell_type": "code",
   "execution_count": 5,
   "metadata": {},
   "outputs": [
    {
     "name": "stdout",
     "output_type": "stream",
     "text": [
      "Exporting vocab to vocab.p... Done.\n"
     ]
    }
   ],
   "source": [
    "if settings.maxvocabsize < len(corpus.vocab):\n",
    "    remove = corpus.vocab.least_frequent(len(corpus.vocab) - settings.maxvocabsize + 1)\n",
    "    remove = [tok[0] for tok in remove]\n",
    "    corpus.remove_token_list(remove)\n",
    "    \n",
    "corpus.vocab.export_vocab('vocab.p')"
   ]
  },
  {
   "cell_type": "code",
   "execution_count": null,
   "metadata": {},
   "outputs": [],
   "source": []
  },
  {
   "cell_type": "code",
   "execution_count": 27,
   "metadata": {},
   "outputs": [
    {
     "name": "stdout",
     "output_type": "stream",
     "text": [
      "[('<upcase>', 20881), ('the', 10654), (',', 7963), ('<unk>', 7514), ('.', 6636), ('of', 4549), ('@', 4172), ('and', 3991), ('in', 3665), ('<eol>', 3004), ('to', 2942), ('a', 2600), ('was', 1634), ('\"', 1608), ('-', 1473), ('on', 1087), ('as', 1084), ('for', 1046), (')', 1018), ('(', 1016)]\n"
     ]
    }
   ],
   "source": [
    "if in_notebook:\n",
    "    print(corpus.vocab.most_frequent(to=20))"
   ]
  },
  {
   "cell_type": "code",
   "execution_count": 6,
   "metadata": {},
   "outputs": [
    {
     "name": "stdout",
     "output_type": "stream",
     "text": [
      "Batchifying train... Done.  torch.Size([1251, 50])\n",
      "Batchifying valid... Done.  torch.Size([1113, 50])\n",
      "Batchifying test...  Done.  torch.Size([1351, 50])\n"
     ]
    }
   ],
   "source": [
    "corpus.batchify(batch_size=settings.batch_size, seq_length=settings.window_size)"
   ]
  },
  {
   "cell_type": "code",
   "execution_count": 7,
   "metadata": {},
   "outputs": [
    {
     "name": "stdout",
     "output_type": "stream",
     "text": [
      "5094 24 28 7920 16 3 95 3 739 934 46 28 2248 83 18 2 14 1038 3246 1947 3 28 16 3 2186 16 3 7502 132 2751 14 39 2 7936 42 3095 3754 95 1646 6552 24 28 7971 16 2 46 563 42 18 2751 3 7502 95 3 739 1870 83 18 3 2703 2 14 2 132 1041 3 3885 3 198 17 None\n",
      "especially as a receiver . <upcase> on <upcase> september 1 in a match against the <unk> , starting running back <upcase> a . <upcase> j . <upcase> harris was injured , and <unk> rushed for 73 yards on 12 carries as a backup . <unk> in again for the injured <upcase> harris on <upcase> september 13 against the <upcase> montreal <unk> , <unk> was named <upcase> canadian <upcase> player of None\n",
      "tensor([6507,   23,    3,  551,    3, 6576,   14,  230,  221,    3, 5652, 2343,\n",
      "         105,   24,   18, 6577, 6578,   14,    3, 4231,    2,   16,    3,  777,\n",
      "        6579,   39, 4394,   14,  218, 2714, 6508, 6520,  628,   45,  117,    2,\n",
      "          46,    2,   14,  162,   18, 2343,  961,  160,  350, 1061,  249,   16,\n",
      "           1,    1,    3, 2560,    1,    1,    3, 5167,    3, 1663,   16, 6507,\n",
      "         721,   95,   18, 2532, 2533,  277, 6580,   17, 1096, 1702])\n",
      "count    16.000000\n",
      "mean     69.500000\n",
      "std       5.597619\n",
      "min      57.000000\n",
      "25%      66.000000\n",
      "50%      70.000000\n",
      "75%      72.500000\n",
      "max      80.000000\n",
      "Name: len, dtype: float64\n"
     ]
    },
    {
     "data": {
      "image/png": "[encoded data removed]",
      "text/plain": [
       "<Figure size 432x288 with 1 Axes>"
      ]
     },
     "metadata": {
      "needs_background": "light"
     },
     "output_type": "display_data"
    }
   ],
   "source": [
    "if in_notebook:\n",
    "    print(corpus.valid.show_itoklist(29629,29629+70))\n",
    "    print(corpus.valid.show_stoklist(corpus.vocab, 29629,29629+70))\n",
    "    print(corpus.valid.batch_matrix[:70,1])\n",
    "    df = corpus.valid.batch_stats()\n",
    "    df.hist()"
   ]
  },
  {
   "cell_type": "code",
   "execution_count": 8,
   "metadata": {},
   "outputs": [],
   "source": [
    "train_dl = wiki_data.WikiTextDataset(corpus.train)\n",
    "valid_dl = wiki_data.WikiTextDataset(corpus.valid)\n",
    "test_dl = wiki_data.WikiTextDataset(corpus.test)"
   ]
  },
  {
   "cell_type": "code",
   "execution_count": 9,
   "metadata": {},
   "outputs": [],
   "source": [
    "model = neural.lang_model_LSTM(vocab_dim=len(corpus.vocab),\n",
    "                               emb_dim=settings.emb_dim,\n",
    "                               hidden_dim=settings.hidden_dim,\n",
    "                               n_layers=settings.num_layers,\n",
    "                               dropout=settings.dropout\n",
    "                              )"
   ]
  },
  {
   "cell_type": "code",
   "execution_count": 10,
   "metadata": {},
   "outputs": [],
   "source": [
    "if cuda:\n",
    "    model = model.cuda()\n",
    "loss_func = nn.CrossEntropyLoss()"
   ]
  },
  {
   "cell_type": "code",
   "execution_count": 11,
   "metadata": {},
   "outputs": [
    {
     "name": "stdout",
     "output_type": "stream",
     "text": [
      "lang_model_LSTM(\n",
      "  (embedding): Embedding(10917, 50)\n",
      "  (lstm): LSTM(50, 300, num_layers=2, dropout=0.4, bidirectional=True)\n",
      "  (fc): Linear(in_features=600, out_features=10917, bias=True)\n",
      "  (dropout): Dropout(p=0.4)\n",
      ")\n"
     ]
    }
   ],
   "source": [
    "print(model)"
   ]
  },
  {
   "cell_type": "code",
   "execution_count": 12,
   "metadata": {},
   "outputs": [],
   "source": [
    "#model = torch.load('model_weights.pt')"
   ]
  },
  {
   "cell_type": "code",
   "execution_count": 13,
   "metadata": {},
   "outputs": [],
   "source": [
    "missclass = []\n",
    "missclass_next = []\n",
    "losses = []"
   ]
  },
  {
   "cell_type": "code",
   "execution_count": 14,
   "metadata": {},
   "outputs": [],
   "source": [
    "def run_epochs(model, train_dl, valid_dl, epochs=settings.epochs,\n",
    "               losses=[], missclass=[]):\n",
    "    \n",
    "    opt = optim.Adam(model.parameters(), lr=0.01, weight_decay=1e-6)\n",
    "    #opt = optim.Adam(model.parameters(), lr=0.001)\n",
    "    \n",
    "    \n",
    "    scheduler = optim.lr_scheduler.StepLR(opt, step_size=20, gamma=0.8)\n",
    "    \n",
    "    best_missclass_te = 1e10\n",
    "    \n",
    "    try: # Allow for user interrupt\n",
    " \n",
    "        for epoch in range(1, epochs + 1):\n",
    "            scheduler.step()\n",
    "            running_loss = 0.0\n",
    "            running_corrects = 0\n",
    "            model.train() # turn on training mode\n",
    "\n",
    "            num_vals = 0\n",
    "            num_correct = 0\n",
    "            miss_next_wd = 0\n",
    "            next_wd_tot = 0\n",
    "\n",
    "            #pdb.set_trace()\n",
    "\n",
    "            for x, y in tqdm(train_dl, desc='Train {}/{}'.format(epoch, epochs)):\n",
    "                opt.zero_grad()\n",
    "                \n",
    "                if cuda:\n",
    "                    x = x.cuda()\n",
    "                    y = y.cuda()\n",
    "\n",
    "                preds = model(x)\n",
    "                loss = loss_func(preds.view(-1, preds.size(2)), y.view(-1).long())\n",
    "\n",
    "                loss.backward()\n",
    "                #torch.nn.utils.clip_grad_norm_(model.parameters(), 0.25)\n",
    "                opt.step()\n",
    "\n",
    "                running_loss += loss.item() * x.size(0) / x.size(1)\n",
    "\n",
    "                _, y_preds = torch.max(preds, dim=2)\n",
    "                num_correct += torch.sum(y == y_preds).item()\n",
    "                num_vals += y.size(0)*y.size(1)\n",
    "                \n",
    "                miss_next_wd += ml_utils.calc_miss_next_wds(y, y_preds)\n",
    "                next_wd_tot += y.size(1)\n",
    "\n",
    "            #pdb.set_trace()\n",
    "\n",
    "            missclass_tr = 1 - num_correct / num_vals\n",
    "            miss_next_wd_rate_tr = miss_next_wd / next_wd_tot\n",
    "\n",
    "            epoch_loss = running_loss / len(train_dl)\n",
    "\n",
    "            num_vals = 0\n",
    "            num_correct = 0\n",
    "            miss_next_wd = 0\n",
    "            next_wd_tot = 0\n",
    "\n",
    "            # calculate the validation loss for this epoch\n",
    "            val_loss = 0.0\n",
    "            model.eval() # turn on evaluation mode\n",
    "            \n",
    "            with torch.no_grad():\n",
    "                for x, y in tqdm(valid_dl, desc='Valid {}/{}'.format(epoch, epochs)):\n",
    "                    if cuda:\n",
    "                        x = x.cuda()\n",
    "                        y = y.cuda()   \n",
    "                        \n",
    "                    preds = model(x)\n",
    "                    loss = loss_func(preds.view(-1, preds.size(2)), y.view(-1).long())\n",
    "\n",
    "                    val_loss += loss.item() * x.size(0) / x.size(1)\n",
    "\n",
    "                    _, y_preds = torch.max(preds, dim=2)\n",
    "                    num_correct += torch.sum(y == y_preds).item()\n",
    "                    num_vals += y.size(0)*y.size(1)\n",
    "                    \n",
    "                    miss_next_wd += ml_utils.calc_miss_next_wds(y, y_preds)\n",
    "                    next_wd_tot += y.size(1)\n",
    "\n",
    "            #pdb.set_trace()\n",
    "\n",
    "            missclass_te = 1 - num_correct / num_vals\n",
    "            val_loss /= len(valid_dl)\n",
    "            \n",
    "            miss_next_wd_rate_val = miss_next_wd / next_wd_tot\n",
    "            \n",
    "            missclass_next.append((miss_next_wd_rate_tr, miss_next_wd_rate_val))\n",
    "            missclass.append((missclass_tr, missclass_te))\n",
    "            losses.append((epoch_loss, val_loss))\n",
    "\n",
    "            print('Epoch: {}/{}, Loss: [{:.4f}, {:.4f}], Ppl: [{:6.2f}, {:6.2f}], Miss: [{:.2%}, {:.2%}], [{:.2%}, {:.2%}]'\\\n",
    "                  .format(epoch, epochs, epoch_loss, val_loss, \n",
    "                          math.exp(epoch_loss), math.exp(val_loss), \n",
    "                          missclass_tr, missclass_te,\n",
    "                          miss_next_wd_rate_tr, miss_next_wd_rate_val))\n",
    "            sys.stdout.flush()\n",
    "\n",
    "            if missclass_te < best_missclass_te: \n",
    "                print('Saving weights file...', end=' ', flush=True)\n",
    "                torch.save(model, 'model_weights.pt')\n",
    "                print('Done.', flush=True)\n",
    "                best_missclass_te = missclass_te\n",
    "            \n",
    "    except KeyboardInterrupt:\n",
    "        print('Stopping with latest weights.')\n",
    "        \n",
    "    return model, opt, losses, missclass"
   ]
  },
  {
   "cell_type": "code",
   "execution_count": 28,
   "metadata": {
    "scrolled": false
   },
   "outputs": [
    {
     "name": "stderr",
     "output_type": "stream",
     "text": [
      "Train 1/50: 100%|██████████| 19/19 [01:08<00:00,  3.60s/it]\n",
      "Valid 1/50: 100%|██████████| 16/16 [00:25<00:00,  1.60s/it]"
     ]
    },
    {
     "name": "stdout",
     "output_type": "stream",
     "text": [
      "Epoch: 1/50, Loss: [5.7184, 5.7274], Ppl: [304.41, 307.17], Miss: [66.88%, 55.06%], [66.42%, 51.62%]\n",
      "Saving weights file... Done.\n"
     ]
    },
    {
     "name": "stderr",
     "output_type": "stream",
     "text": [
      "\n",
      "Train 2/50: 100%|██████████| 19/19 [01:22<00:00,  4.33s/it]\n",
      "Valid 2/50: 100%|██████████| 16/16 [00:16<00:00,  1.04s/it]"
     ]
    },
    {
     "name": "stdout",
     "output_type": "stream",
     "text": [
      "Epoch: 2/50, Loss: [4.7953, 5.3815], Ppl: [120.94, 217.35], Miss: [56.76%, 50.25%], [59.37%, 48.25%]\n",
      "Saving weights file... Done.\n"
     ]
    },
    {
     "name": "stderr",
     "output_type": "stream",
     "text": [
      "\n",
      "Train 3/50: 100%|██████████| 19/19 [01:08<00:00,  3.63s/it]\n",
      "Valid 3/50: 100%|██████████| 16/16 [00:15<00:00,  1.07it/s]"
     ]
    },
    {
     "name": "stdout",
     "output_type": "stream",
     "text": [
      "Epoch: 3/50, Loss: [4.2965, 5.0345], Ppl: [ 73.45, 153.62], Miss: [52.34%, 46.01%], [57.47%, 47.25%]\n",
      "Saving weights file... Done.\n"
     ]
    },
    {
     "name": "stderr",
     "output_type": "stream",
     "text": [
      "\n",
      "Train 4/50: 100%|██████████| 19/19 [01:13<00:00,  3.85s/it]\n",
      "Valid 4/50: 100%|██████████| 16/16 [00:14<00:00,  1.07it/s]"
     ]
    },
    {
     "name": "stdout",
     "output_type": "stream",
     "text": [
      "Epoch: 4/50, Loss: [3.9029, 4.8404], Ppl: [ 49.54, 126.52], Miss: [48.76%, 43.50%], [51.68%, 46.62%]\n",
      "Saving weights file... Done.\n"
     ]
    },
    {
     "name": "stderr",
     "output_type": "stream",
     "text": [
      "\n",
      "Train 5/50: 100%|██████████| 19/19 [01:05<00:00,  3.43s/it]\n",
      "Valid 5/50: 100%|██████████| 16/16 [00:14<00:00,  1.08it/s]"
     ]
    },
    {
     "name": "stdout",
     "output_type": "stream",
     "text": [
      "Epoch: 5/50, Loss: [3.5317, 4.7378], Ppl: [ 34.18, 114.19], Miss: [45.20%, 41.30%], [52.11%, 46.25%]\n",
      "Saving weights file... Done.\n"
     ]
    },
    {
     "name": "stderr",
     "output_type": "stream",
     "text": [
      "\n",
      "Train 6/50: 100%|██████████| 19/19 [01:03<00:00,  3.34s/it]\n",
      "Valid 6/50: 100%|██████████| 16/16 [00:15<00:00,  1.04it/s]"
     ]
    },
    {
     "name": "stdout",
     "output_type": "stream",
     "text": [
      "Epoch: 6/50, Loss: [3.2169, 4.5932], Ppl: [ 24.95,  98.81], Miss: [42.30%, 39.51%], [48.42%, 46.75%]\n",
      "Saving weights file... Done.\n"
     ]
    },
    {
     "name": "stderr",
     "output_type": "stream",
     "text": [
      "\n",
      "Train 7/50: 100%|██████████| 19/19 [01:01<00:00,  3.26s/it]\n",
      "Valid 7/50: 100%|██████████| 16/16 [00:18<00:00,  1.13s/it]"
     ]
    },
    {
     "name": "stdout",
     "output_type": "stream",
     "text": [
      "Epoch: 7/50, Loss: [2.9597, 4.5211], Ppl: [ 19.29,  91.94], Miss: [40.24%, 38.39%], [49.26%, 47.12%]\n",
      "Saving weights file... Done.\n"
     ]
    },
    {
     "name": "stderr",
     "output_type": "stream",
     "text": [
      "\n",
      "Train 8/50: 100%|██████████| 19/19 [01:10<00:00,  3.73s/it]\n",
      "Valid 8/50: 100%|██████████| 16/16 [00:16<00:00,  1.01s/it]"
     ]
    },
    {
     "name": "stdout",
     "output_type": "stream",
     "text": [
      "Epoch: 8/50, Loss: [2.6737, 4.3947], Ppl: [ 14.49,  81.02], Miss: [37.75%, 37.29%], [47.47%, 46.75%]\n",
      "Saving weights file... Done.\n"
     ]
    },
    {
     "name": "stderr",
     "output_type": "stream",
     "text": [
      "\n",
      "Train 9/50: 100%|██████████| 19/19 [01:01<00:00,  3.23s/it]\n",
      "Valid 9/50: 100%|██████████| 16/16 [00:14<00:00,  1.09it/s]"
     ]
    },
    {
     "name": "stdout",
     "output_type": "stream",
     "text": [
      "Epoch: 9/50, Loss: [2.4045, 4.2903], Ppl: [ 11.07,  72.99], Miss: [35.51%, 35.92%], [46.74%, 46.88%]\n",
      "Saving weights file... Done.\n"
     ]
    },
    {
     "name": "stderr",
     "output_type": "stream",
     "text": [
      "\n",
      "Train 10/50: 100%|██████████| 19/19 [01:04<00:00,  3.37s/it]\n",
      "Valid 10/50: 100%|██████████| 16/16 [00:15<00:00,  1.04it/s]"
     ]
    },
    {
     "name": "stdout",
     "output_type": "stream",
     "text": [
      "Epoch: 10/50, Loss: [2.1482, 4.2315], Ppl: [  8.57,  68.82], Miss: [32.94%, 35.09%], [44.74%, 46.62%]\n",
      "Saving weights file... Done.\n"
     ]
    },
    {
     "name": "stderr",
     "output_type": "stream",
     "text": [
      "\n",
      "Train 11/50: 100%|██████████| 19/19 [01:08<00:00,  3.59s/it]\n",
      "Valid 11/50: 100%|██████████| 16/16 [00:14<00:00,  1.09it/s]"
     ]
    },
    {
     "name": "stdout",
     "output_type": "stream",
     "text": [
      "Epoch: 11/50, Loss: [1.9431, 4.1842], Ppl: [  6.98,  65.64], Miss: [30.95%, 34.82%], [42.84%, 46.75%]\n",
      "Saving weights file... Done.\n"
     ]
    },
    {
     "name": "stderr",
     "output_type": "stream",
     "text": [
      "\n",
      "Train 12/50: 100%|██████████| 19/19 [01:02<00:00,  3.29s/it]\n",
      "Valid 12/50: 100%|██████████| 16/16 [00:14<00:00,  1.08it/s]"
     ]
    },
    {
     "name": "stdout",
     "output_type": "stream",
     "text": [
      "Epoch: 12/50, Loss: [1.7401, 4.0752], Ppl: [  5.70,  58.86], Miss: [28.75%, 33.57%], [41.47%, 47.38%]\n",
      "Saving weights file... Done.\n"
     ]
    },
    {
     "name": "stderr",
     "output_type": "stream",
     "text": [
      "\n",
      "Train 13/50: 100%|██████████| 19/19 [01:04<00:00,  3.38s/it]\n",
      "Valid 13/50: 100%|██████████| 16/16 [00:15<00:00,  1.06it/s]"
     ]
    },
    {
     "name": "stdout",
     "output_type": "stream",
     "text": [
      "Epoch: 13/50, Loss: [1.5695, 4.0692], Ppl: [  4.80,  58.51], Miss: [26.78%, 33.11%], [37.58%, 47.38%]\n",
      "Saving weights file... Done.\n"
     ]
    },
    {
     "name": "stderr",
     "output_type": "stream",
     "text": [
      "\n",
      "Train 14/50: 100%|██████████| 19/19 [01:08<00:00,  3.59s/it]\n",
      "Valid 14/50: 100%|██████████| 16/16 [00:14<00:00,  1.07it/s]"
     ]
    },
    {
     "name": "stdout",
     "output_type": "stream",
     "text": [
      "Epoch: 14/50, Loss: [1.4070, 4.0059], Ppl: [  4.08,  54.92], Miss: [24.77%, 32.33%], [38.00%, 47.25%]\n",
      "Saving weights file... Done.\n"
     ]
    },
    {
     "name": "stderr",
     "output_type": "stream",
     "text": [
      "\n",
      "Train 15/50: 100%|██████████| 19/19 [01:05<00:00,  3.45s/it]\n",
      "Valid 15/50: 100%|██████████| 16/16 [00:17<00:00,  1.11s/it]"
     ]
    },
    {
     "name": "stdout",
     "output_type": "stream",
     "text": [
      "Epoch: 15/50, Loss: [1.2607, 3.9912], Ppl: [  3.53,  54.12], Miss: [22.54%, 32.29%], [36.74%, 46.62%]\n",
      "Saving weights file... Done.\n"
     ]
    },
    {
     "name": "stderr",
     "output_type": "stream",
     "text": [
      "\n",
      "Train 16/50: 100%|██████████| 19/19 [01:18<00:00,  4.11s/it]\n",
      "Valid 16/50: 100%|██████████| 16/16 [00:17<00:00,  1.09s/it]"
     ]
    },
    {
     "name": "stdout",
     "output_type": "stream",
     "text": [
      "Epoch: 16/50, Loss: [1.1083, 3.9286], Ppl: [  3.03,  50.83], Miss: [20.16%, 31.67%], [35.89%, 46.88%]\n",
      "Saving weights file... Done.\n"
     ]
    },
    {
     "name": "stderr",
     "output_type": "stream",
     "text": [
      "\n",
      "Train 17/50: 100%|██████████| 19/19 [01:09<00:00,  3.65s/it]\n",
      "Valid 17/50: 100%|██████████| 16/16 [00:16<00:00,  1.03s/it]"
     ]
    },
    {
     "name": "stdout",
     "output_type": "stream",
     "text": [
      "Epoch: 17/50, Loss: [0.9655, 3.9142], Ppl: [  2.63,  50.11], Miss: [17.81%, 31.49%], [33.37%, 47.00%]\n",
      "Saving weights file... Done.\n"
     ]
    },
    {
     "name": "stderr",
     "output_type": "stream",
     "text": [
      "\n",
      "Train 18/50: 100%|██████████| 19/19 [01:06<00:00,  3.51s/it]\n",
      "Valid 18/50: 100%|██████████| 16/16 [00:13<00:00,  1.14it/s]"
     ]
    },
    {
     "name": "stdout",
     "output_type": "stream",
     "text": [
      "Epoch: 18/50, Loss: [0.8673, 3.8978], Ppl: [  2.38,  49.29], Miss: [16.03%, 30.99%], [32.74%, 47.38%]\n",
      "Saving weights file... Done.\n"
     ]
    },
    {
     "name": "stderr",
     "output_type": "stream",
     "text": [
      "\n",
      "Train 19/50: 100%|██████████| 19/19 [01:02<00:00,  3.28s/it]\n",
      "Valid 19/50: 100%|██████████| 16/16 [00:17<00:00,  1.07s/it]"
     ]
    },
    {
     "name": "stdout",
     "output_type": "stream",
     "text": [
      "Epoch: 19/50, Loss: [0.7685, 3.8731], Ppl: [  2.16,  48.09], Miss: [14.41%, 30.91%], [32.74%, 46.75%]\n",
      "Saving weights file... Done.\n"
     ]
    },
    {
     "name": "stderr",
     "output_type": "stream",
     "text": [
      "\n",
      "Train 20/50: 100%|██████████| 19/19 [01:05<00:00,  3.46s/it]\n",
      "Valid 20/50: 100%|██████████| 16/16 [00:16<00:00,  1.01s/it]"
     ]
    },
    {
     "name": "stdout",
     "output_type": "stream",
     "text": [
      "Epoch: 20/50, Loss: [0.6896, 3.8765], Ppl: [  1.99,  48.26], Miss: [12.94%, 30.78%], [31.79%, 47.62%]\n",
      "Saving weights file... Done.\n"
     ]
    },
    {
     "name": "stderr",
     "output_type": "stream",
     "text": [
      "\n",
      "Train 21/50: 100%|██████████| 19/19 [01:28<00:00,  4.68s/it]\n",
      "Valid 21/50: 100%|██████████| 16/16 [00:16<00:00,  1.02s/it]"
     ]
    },
    {
     "name": "stdout",
     "output_type": "stream",
     "text": [
      "Epoch: 21/50, Loss: [0.6020, 3.7967], Ppl: [  1.83,  44.55], Miss: [11.22%, 30.13%], [29.37%, 47.12%]\n",
      "Saving weights file... Done.\n"
     ]
    },
    {
     "name": "stderr",
     "output_type": "stream",
     "text": [
      "\n",
      "Train 22/50: 100%|██████████| 19/19 [01:22<00:00,  4.33s/it]\n",
      "Valid 22/50: 100%|██████████| 16/16 [00:22<00:00,  1.43s/it]"
     ]
    },
    {
     "name": "stdout",
     "output_type": "stream",
     "text": [
      "Epoch: 22/50, Loss: [0.5287, 3.7250], Ppl: [  1.70,  41.47], Miss: [9.73%, 29.88%], [27.89%, 46.75%]\n",
      "Saving weights file... Done.\n"
     ]
    },
    {
     "name": "stderr",
     "output_type": "stream",
     "text": [
      "\n",
      "Train 23/50: 100%|██████████| 19/19 [01:02<00:00,  3.29s/it]\n",
      "Valid 23/50: 100%|██████████| 16/16 [00:16<00:00,  1.05s/it]"
     ]
    },
    {
     "name": "stdout",
     "output_type": "stream",
     "text": [
      "Epoch: 23/50, Loss: [0.4697, 3.7110], Ppl: [  1.60,  40.90], Miss: [8.62%, 29.71%], [26.00%, 47.12%]\n",
      "Saving weights file... Done.\n"
     ]
    },
    {
     "name": "stderr",
     "output_type": "stream",
     "text": [
      "\n",
      "Train 24/50: 100%|██████████| 19/19 [01:07<00:00,  3.54s/it]\n",
      "Valid 24/50: 100%|██████████| 16/16 [00:15<00:00,  1.02it/s]"
     ]
    },
    {
     "name": "stdout",
     "output_type": "stream",
     "text": [
      "Epoch: 24/50, Loss: [0.4169, 3.7129], Ppl: [  1.52,  40.97], Miss: [7.55%, 29.56%], [26.00%, 47.62%]\n",
      "Saving weights file... Done.\n"
     ]
    },
    {
     "name": "stderr",
     "output_type": "stream",
     "text": [
      "\n",
      "Train 25/50: 100%|██████████| 19/19 [01:06<00:00,  3.48s/it]\n",
      "Valid 25/50: 100%|██████████| 16/16 [00:15<00:00,  1.02it/s]"
     ]
    },
    {
     "name": "stdout",
     "output_type": "stream",
     "text": [
      "Epoch: 25/50, Loss: [0.3803, 3.6681], Ppl: [  1.46,  39.18], Miss: [6.68%, 29.24%], [24.11%, 47.50%]\n",
      "Saving weights file... Done.\n"
     ]
    },
    {
     "name": "stderr",
     "output_type": "stream",
     "text": [
      "\n",
      "Train 26/50: 100%|██████████| 19/19 [01:17<00:00,  4.10s/it]\n",
      "Valid 26/50: 100%|██████████| 16/16 [00:16<00:00,  1.04s/it]"
     ]
    },
    {
     "name": "stdout",
     "output_type": "stream",
     "text": [
      "Epoch: 26/50, Loss: [0.3411, 3.6538], Ppl: [  1.41,  38.62], Miss: [5.93%, 28.92%], [24.42%, 47.38%]\n",
      "Saving weights file... Done.\n"
     ]
    },
    {
     "name": "stderr",
     "output_type": "stream",
     "text": [
      "\n",
      "Train 27/50: 100%|██████████| 19/19 [01:10<00:00,  3.70s/it]\n",
      "Valid 27/50: 100%|██████████| 16/16 [00:16<00:00,  1.01s/it]"
     ]
    },
    {
     "name": "stdout",
     "output_type": "stream",
     "text": [
      "Epoch: 27/50, Loss: [0.3107, 3.6412], Ppl: [  1.36,  38.14], Miss: [5.39%, 28.77%], [21.47%, 47.25%]\n",
      "Saving weights file... Done.\n"
     ]
    },
    {
     "name": "stderr",
     "output_type": "stream",
     "text": [
      "\n",
      "Train 28/50: 100%|██████████| 19/19 [01:08<00:00,  3.63s/it]\n",
      "Valid 28/50: 100%|██████████| 16/16 [00:14<00:00,  1.14it/s]"
     ]
    },
    {
     "name": "stdout",
     "output_type": "stream",
     "text": [
      "Epoch: 28/50, Loss: [0.2877, 3.6507], Ppl: [  1.33,  38.50], Miss: [4.86%, 28.86%], [21.37%, 48.00%]\n"
     ]
    },
    {
     "name": "stderr",
     "output_type": "stream",
     "text": [
      "\n",
      "Train 29/50:   5%|▌         | 1/19 [00:03<00:55,  3.10s/it]"
     ]
    },
    {
     "name": "stdout",
     "output_type": "stream",
     "text": [
      "Stopping with latest weights.\n"
     ]
    },
    {
     "name": "stderr",
     "output_type": "stream",
     "text": [
      "\n"
     ]
    }
   ],
   "source": [
    "model, opt, losses, missclass = run_epochs(model, train_dl, valid_dl, epochs=settings.epochs,\n",
    "                                           losses=losses, missclass=missclass)"
   ]
  },
  {
   "cell_type": "code",
   "execution_count": 29,
   "metadata": {},
   "outputs": [
    {
     "data": {
      "text/plain": [
       "tensor(2.9636, grad_fn=<NllLossBackward>)"
      ]
     },
     "execution_count": 29,
     "metadata": {},
     "output_type": "execute_result"
    }
   ],
   "source": [
    "x, y = next(iter(valid_dl))\n",
    "if cuda:\n",
    "    x = x.cuda()\n",
    "    y = y.cuda()\n",
    "loss_func = nn.CrossEntropyLoss()\n",
    "preds = model(x)\n",
    "_, y_preds = torch.max(preds, dim=2)\n",
    "ml_utils.calc_miss_next_wds(y, y_preds)\n",
    "loss = loss_func(preds.view(-1, preds.size(2)), y.view(-1).long())\n",
    "loss"
   ]
  },
  {
   "cell_type": "code",
   "execution_count": 30,
   "metadata": {},
   "outputs": [
    {
     "name": "stdout",
     "output_type": "stream",
     "text": [
      "torch.Size([70, 50])\n",
      "tensor([6643,   14,  474, 6663, 1136,   18, 3774,   17,    3, 3672,    3,  413,\n",
      "           3,  502,   11,    3, 6664,   20,    3, 5995,    3,  341,   46, 2026,\n",
      "        1702, 2551,   14,    3, 6664,    3,    8,   16, 6665,    3, 2435,    3,\n",
      "        6661,  117, 2176,   23, 6666,   72,   18,    3, 6667, 1702,    3, 6668,\n",
      "           2,   14,    3, 6669,    3, 1585,   17,   18,    3, 3672,    3,  586,\n",
      "          46, 6666, 1702, 1843,   14,   39,    3, 6664,    3,  545])\n"
     ]
    }
   ],
   "source": [
    "print(y.shape)\n",
    "print(y[:,2])"
   ]
  },
  {
   "cell_type": "code",
   "execution_count": 31,
   "metadata": {},
   "outputs": [
    {
     "name": "stdout",
     "output_type": "stream",
     "text": [
      "tensor([2058,   14,  474, 1278, 1136,   18, 1401,   17,    3,  521,    3,  413,\n",
      "           3, 3313,   11,    3, 5950,   20,    3, 5471,    3,  341,   46, 3843,\n",
      "        1702,  701,   14,    3, 1796,    3,  468,   16, 3918,    3, 2435,    3,\n",
      "        3924,  117,  988,   23, 1548,   72,   18,    3,   65, 1702,    3,  430,\n",
      "           2,   14,    3, 1796,    3, 1585,   17,   18,    3, 3672,    3,  457,\n",
      "          46, 3500, 1702, 1715,   14,   39,    3, 1796,    3, 1758])\n"
     ]
    }
   ],
   "source": [
    "print(y_preds[:,2])"
   ]
  },
  {
   "cell_type": "code",
   "execution_count": 32,
   "metadata": {},
   "outputs": [
    {
     "data": {
      "image/png": "[encoded data removed]",
      "text/plain": [
       "<Figure size 432x288 with 1 Axes>"
      ]
     },
     "metadata": {
      "needs_background": "light"
     },
     "output_type": "display_data"
    }
   ],
   "source": [
    "if in_notebook:\n",
    "    plt.plot(losses)\n",
    "    plt.legend(['train', 'valid'])"
   ]
  },
  {
   "cell_type": "code",
   "execution_count": 33,
   "metadata": {},
   "outputs": [
    {
     "data": {
      "image/png": "[encoded data removed]",
      "text/plain": [
       "<Figure size 432x288 with 1 Axes>"
      ]
     },
     "metadata": {
      "needs_background": "light"
     },
     "output_type": "display_data"
    }
   ],
   "source": [
    "if in_notebook:\n",
    "    plt.plot(missclass)\n",
    "    plt.legend(['train', 'valid'])"
   ]
  },
  {
   "cell_type": "code",
   "execution_count": 34,
   "metadata": {},
   "outputs": [
    {
     "data": {
      "image/png": "[encoded data removed]",
      "text/plain": [
       "<Figure size 432x288 with 1 Axes>"
      ]
     },
     "metadata": {
      "needs_background": "light"
     },
     "output_type": "display_data"
    }
   ],
   "source": [
    "if in_notebook:\n",
    "    plt.plot(missclass_next)\n",
    "    plt.legend(['train', 'valid'])"
   ]
  },
  {
   "cell_type": "code",
   "execution_count": 35,
   "metadata": {},
   "outputs": [
    {
     "name": "stdout",
     "output_type": "stream",
     "text": [
      "losses = [(9.85296713879234, 8.734478332400322), (7.703589562365883, 7.561258778572083), (6.602057563882125, 6.93454685330391), (5.968885494533337, 6.509060522317887), (5.435221888140629, 5.9868359595537175), (5.71837361862785, 5.727385249733925), (4.7952721593254495, 5.381504732370377), (4.296545973075064, 5.034509737491609), (3.9028769756618296, 4.840398742258548), (3.531744946680571, 4.73782262712717), (3.2169426576714772, 4.593216481208802), (2.9596557775296666, 4.5211131429672236), (2.6736561492869733, 4.394748745560646), (2.404519958496094, 4.290293128192425), (2.1481870296126915, 4.231501913964748), (1.9431496756955193, 4.184197981953621), (1.7401057810532423, 4.075236743986606), (1.569538859819111, 4.069156402945518), (1.4069676295707103, 4.005944408476353), (1.2606753135354896, 3.991165669858456), (1.1083284378679172, 3.9285782030224805), (0.965533598159489, 3.914222409427165), (0.8673239154564707, 3.897821213304996), (0.7685122565219276, 3.873063178360462), (0.689556532564916, 3.87654549330473), (0.6019641901003686, 3.796658280789852), (0.5287476816930268, 3.724978549182415), (0.46971200626147436, 3.711023388504982), (0.4168883526952643, 3.712938151955604), (0.3803102074798785, 3.668131236433983), (0.3411115842900778, 3.6537716588377958), (0.3107037409983184, 3.641161907613277), (0.28774570066677907, 3.6507130092382427)]\n",
      "missclass = [(0.9292, 0.8783273381294964), (0.870128, 0.7977158273381295), (0.764432, 0.6960971223021583), (0.69824, 0.6276438848920863), (0.636016, 0.5510071942446043), (0.668832, 0.5506294964028777), (0.5676479999999999, 0.5024820143884892), (0.5233920000000001, 0.46005395683453243), (0.48764799999999997, 0.4349640287769784), (0.45198400000000005, 0.4129856115107914), (0.422976, 0.3951258992805755), (0.402432, 0.3839028776978417), (0.37748800000000005, 0.3728956834532374), (0.35505600000000004, 0.3592446043165468), (0.329376, 0.35086330935251797), (0.30945599999999995, 0.3481654676258993), (0.28747199999999995, 0.3356834532374101), (0.26779200000000003, 0.33113309352517983), (0.24774399999999996, 0.32330935251798565), (0.22542399999999996, 0.32291366906474817), (0.20163200000000003, 0.3167446043165467), (0.17809600000000003, 0.3149460431654676), (0.16032000000000002, 0.30989208633093523), (0.14406399999999997, 0.3091187050359713), (0.12939199999999995, 0.3077517985611511), (0.11220799999999997, 0.30133093525179855), (0.09732799999999997, 0.2988489208633094), (0.08622399999999997, 0.2971402877697842), (0.07547199999999998, 0.29557553956834537), (0.06676800000000005, 0.2923741007194245), (0.05932800000000005, 0.2891906474820144), (0.05391999999999997, 0.2877338129496403), (0.048624, 0.28863309352517985)]\n",
      "missclass_next = [(0.9631578947368421, 0.93125), (0.871578947368421, 0.5525), (0.82, 0.73), (0.72, 0.6525), (0.66, 0.505), (0.6642105263157895, 0.51625), (0.5936842105263158, 0.4825), (0.5747368421052632, 0.4725), (0.5168421052631579, 0.46625), (0.5210526315789473, 0.4625), (0.4842105263157895, 0.4675), (0.4926315789473684, 0.47125), (0.4747368421052632, 0.4675), (0.4673684210526316, 0.46875), (0.4473684210526316, 0.46625), (0.4284210526315789, 0.4675), (0.4147368421052632, 0.47375), (0.3757894736842105, 0.47375), (0.38, 0.4725), (0.36736842105263157, 0.46625), (0.3589473684210526, 0.46875), (0.3336842105263158, 0.47), (0.3273684210526316, 0.47375), (0.3273684210526316, 0.4675), (0.3178947368421053, 0.47625), (0.29368421052631577, 0.47125), (0.2789473684210526, 0.4675), (0.26, 0.47125), (0.26, 0.47625), (0.24105263157894738, 0.475), (0.24421052631578946, 0.47375), (0.21473684210526317, 0.4725), (0.21368421052631578, 0.48)]\n"
     ]
    }
   ],
   "source": [
    "print('losses =', losses)\n",
    "print('missclass =', missclass)\n",
    "print('missclass_next =', missclass_next)"
   ]
  },
  {
   "cell_type": "code",
   "execution_count": null,
   "metadata": {},
   "outputs": [],
   "source": []
  }
 ],
 "metadata": {
  "kernelspec": {
   "display_name": "Python 3",
   "language": "python",
   "name": "python3"
  },
  "language_info": {
   "codemirror_mode": {
    "name": "ipython",
    "version": 3
   },
   "file_extension": ".py",
   "mimetype": "text/x-python",
   "name": "python",
   "nbconvert_exporter": "python",
   "pygments_lexer": "ipython3",
   "version": "3.7.0"
  }
 },
 "nbformat": 4,
 "nbformat_minor": 2
}
