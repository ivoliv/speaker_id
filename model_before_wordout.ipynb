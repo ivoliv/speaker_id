{
 "cells": [
  {
   "cell_type": "code",
   "execution_count": 1,
   "metadata": {},
   "outputs": [
    {
     "name": "stderr",
     "output_type": "stream",
     "text": [
      "/anaconda3/envs/ONE/lib/python3.7/site-packages/sklearn/utils/__init__.py:4: DeprecationWarning: Using or importing the ABCs from 'collections' instead of from 'collections.abc' is deprecated, and in 3.8 it will stop working\n",
      "  from collections import Sequence\n"
     ]
    }
   ],
   "source": [
    "import utils.data_import as data_import\n",
    "import utils.ml_utils as ml_utils\n",
    "\n",
    "import torch, torchtext\n",
    "import torch.nn as nn\n",
    "import torch.nn.functional as F\n",
    "import torch.optim as optim\n",
    "\n",
    "from torchtext import data, vocab\n",
    "\n",
    "import os, sys\n",
    "import pdb\n",
    "import pandas as pd"
   ]
  },
  {
   "cell_type": "code",
   "execution_count": 2,
   "metadata": {},
   "outputs": [
    {
     "name": "stdout",
     "output_type": "stream",
     "text": [
      "text length: 213886\n"
     ]
    }
   ],
   "source": [
    "import settings\n",
    "\n",
    "if settings.ORIG_DATA == 0:\n",
    "    train_file = 'training.txt'\n",
    "    train, valid = data_import.normalize_and_split(org_data_path, train_file, test_size=settings.test_size)\n",
    "elif settings.ORIG_DATA == 1:\n",
    "    train_file = settings.imdb_file\n",
    "    train, valid = data_import.import_imbd(train_file, to=10000, test_size=settings.test_size)\n",
    "elif settings.ORIG_DATA == 2:\n",
    "    df = data_import.import_wikitext(window_size=settings.window_size, lines=settings.lines)\n",
    "    train, valid = data_import.create_splits(df, test_size=settings.test_size)"
   ]
  },
  {
   "cell_type": "code",
   "execution_count": 3,
   "metadata": {},
   "outputs": [
    {
     "name": "stdout",
     "output_type": "stream",
     "text": [
      "No cuda.\n"
     ]
    }
   ],
   "source": [
    "cuda = torch.cuda.is_available()\n",
    "if cuda:\n",
    "    print('Cuda is available!')\n",
    "    print('Device:', torch.cuda.get_device_name(torch.cuda.current_device()))\n",
    "else:\n",
    "    print('No cuda.')\n",
    "    import matplotlib.pyplot as plt\n",
    "    %matplotlib inline"
   ]
  },
  {
   "cell_type": "code",
   "execution_count": 4,
   "metadata": {},
   "outputs": [
    {
     "data": {
      "text/html": [
       "<div>\n",
       "<style scoped>\n",
       "    .dataframe tbody tr th:only-of-type {\n",
       "        vertical-align: middle;\n",
       "    }\n",
       "\n",
       "    .dataframe tbody tr th {\n",
       "        vertical-align: top;\n",
       "    }\n",
       "\n",
       "    .dataframe thead th {\n",
       "        text-align: right;\n",
       "    }\n",
       "</style>\n",
       "<table border=\"1\" class=\"dataframe\">\n",
       "  <thead>\n",
       "    <tr style=\"text-align: right;\">\n",
       "      <th></th>\n",
       "      <th>tag</th>\n",
       "      <th>statement</th>\n",
       "      <th>tag_id</th>\n",
       "    </tr>\n",
       "  </thead>\n",
       "  <tbody>\n",
       "    <tr>\n",
       "      <th>2648</th>\n",
       "      <td>ship</td>\n",
       "      <td>following day , aware that Australia was now a...</td>\n",
       "      <td>875</td>\n",
       "    </tr>\n",
       "    <tr>\n",
       "      <th>2456</th>\n",
       "      <td>as</td>\n",
       "      <td>convoy escort and maritime reconnaissance duti...</td>\n",
       "      <td>336</td>\n",
       "    </tr>\n",
       "    <tr>\n",
       "      <th>4557</th>\n",
       "      <td>to</td>\n",
       "      <td>&lt;unk&gt; . The road , now called Main Street , pa...</td>\n",
       "      <td>6</td>\n",
       "    </tr>\n",
       "    <tr>\n",
       "      <th>4884</th>\n",
       "      <td>current</td>\n",
       "      <td>@-@ 25 and ran north of &lt;unk&gt; to the vicinity ...</td>\n",
       "      <td>1188</td>\n",
       "    </tr>\n",
       "    <tr>\n",
       "      <th>92</th>\n",
       "      <td>highly</td>\n",
       "      <td>lobster red \" on cooking . Mating occurs in th...</td>\n",
       "      <td>64</td>\n",
       "    </tr>\n",
       "  </tbody>\n",
       "</table>\n",
       "</div>"
      ],
      "text/plain": [
       "          tag                                          statement  tag_id\n",
       "2648     ship  following day , aware that Australia was now a...     875\n",
       "2456       as  convoy escort and maritime reconnaissance duti...     336\n",
       "4557       to  <unk> . The road , now called Main Street , pa...       6\n",
       "4884  current  @-@ 25 and ran north of <unk> to the vicinity ...    1188\n",
       "92     highly  lobster red \" on cooking . Mating occurs in th...      64"
      ]
     },
     "execution_count": 4,
     "metadata": {},
     "output_type": "execute_result"
    }
   ],
   "source": [
    "valid.head()"
   ]
  },
  {
   "cell_type": "code",
   "execution_count": 5,
   "metadata": {},
   "outputs": [
    {
     "name": "stdout",
     "output_type": "stream",
     "text": [
      "Writing files to ./data\n",
      "Train and validation files written to disk.\n",
      "Sizes: (4000, 3) (1000, 3)\n"
     ]
    }
   ],
   "source": [
    "data_import.create_split_files('.', train, valid)"
   ]
  },
  {
   "cell_type": "code",
   "execution_count": 6,
   "metadata": {},
   "outputs": [],
   "source": [
    "data_path = './data'"
   ]
  },
  {
   "cell_type": "code",
   "execution_count": 7,
   "metadata": {},
   "outputs": [],
   "source": [
    "TEXT = data.Field(sequential=True, lower=True)\n",
    "LABEL = data.Field(sequential=False, use_vocab=False)\n",
    "SENTIMENT = data.Field(sequential=False, use_vocab=False)"
   ]
  },
  {
   "cell_type": "code",
   "execution_count": 8,
   "metadata": {},
   "outputs": [],
   "source": [
    "datafields = [('tag', None),\n",
    "              ('statement', TEXT),\n",
    "              ('tag_id', LABEL)]\n",
    "\n",
    "train, test = data.TabularDataset.splits(\n",
    "    path=data_path,\n",
    "    train='train.csv', validation='valid.csv',\n",
    "    format='csv',\n",
    "    skip_header=True,\n",
    "    fields=datafields)"
   ]
  },
  {
   "cell_type": "code",
   "execution_count": 9,
   "metadata": {},
   "outputs": [
    {
     "name": "stdout",
     "output_type": "stream",
     "text": [
      "Writing files to ./imdb/data\n",
      "Train and validation files written to disk.\n",
      "Sizes: (8000, 3) (2000, 3)\n"
     ]
    }
   ],
   "source": [
    "train_file_imdb = settings.imdb_file\n",
    "train_imdb, valid_imdb = data_import.import_imbd(train_file_imdb, to=10000, test_size=settings.test_size)\n",
    "data_import.create_split_files('./imdb', train_imdb, valid_imdb)\n",
    "\n",
    "datafields = [('tag', None),\n",
    "              ('statement', TEXT),\n",
    "              ('tag_id', SENTIMENT)]\n",
    "\n",
    "train_imdb, test_imdb = data.TabularDataset.splits(\n",
    "    path='./imdb/data',\n",
    "    train='train.csv', validation='valid.csv',\n",
    "    format='csv',\n",
    "    skip_header=True,\n",
    "    fields=datafields)"
   ]
  },
  {
   "cell_type": "code",
   "execution_count": 10,
   "metadata": {},
   "outputs": [],
   "source": [
    "TEXT.build_vocab(train, test, train_imdb, test_imdb, vectors='glove.6B.'+str(settings.emb_dim)+'d')\n",
    "#TEXT.build_vocab(train, test, train_imdb, test_imdb)\n",
    "LABEL.build_vocab(train, test)\n",
    "SENTIMENT.build_vocab(train_imdb, test_imdb)"
   ]
  },
  {
   "cell_type": "code",
   "execution_count": 11,
   "metadata": {},
   "outputs": [
    {
     "name": "stdout",
     "output_type": "stream",
     "text": [
      "Vocab size: 144445\n",
      "Number of classes: 1322\n",
      "Number of sentiments: 2\n"
     ]
    }
   ],
   "source": [
    "n_vocab = len(dict(TEXT.vocab.freqs).keys())\n",
    "print('Vocab size:', n_vocab)\n",
    "n_classes = len(dict(LABEL.vocab.freqs).keys())\n",
    "print('Number of classes:', n_classes)\n",
    "n_sent = len(dict(SENTIMENT.vocab.freqs).keys())\n",
    "print('Number of sentiments:', n_sent)"
   ]
  },
  {
   "cell_type": "code",
   "execution_count": 12,
   "metadata": {},
   "outputs": [
    {
     "name": "stdout",
     "output_type": "stream",
     "text": [
      "len(trn): 4000\n",
      "len(test): 1000\n",
      "[('the', 146676), ('and', 70395), ('a', 68633), ('of', 67241), ('to', 60166), ('in', 44494), ('is', 43378), ('i', 28440), ('this', 28109), ('that', 27029), ('it', 26986), ('was', 23067), ('as', 20572), ('/><br', 20564), (',', 18905), ('with', 18705), ('for', 18161), ('<unk>', 16568), ('on', 16407), ('but', 15945)]\n",
      "['<unk>', '<pad>', 'the', 'and', 'a', 'of', 'to', 'in', 'is', 'i']\n"
     ]
    }
   ],
   "source": [
    "print('len(trn):', len(train))\n",
    "print('len(test):', len(test))\n",
    "print(TEXT.vocab.freqs.most_common(20))\n",
    "print(TEXT.vocab.itos[:10])\n",
    "#print(vars(train[0]))\n",
    "#print(LABEL.vocab.stoi)\n",
    "#print(SENTIMENT.vocab.stoi)"
   ]
  },
  {
   "cell_type": "code",
   "execution_count": 13,
   "metadata": {},
   "outputs": [
    {
     "name": "stdout",
     "output_type": "stream",
     "text": [
      "torch.Size([144446, 50])\n"
     ]
    },
    {
     "data": {
      "text/plain": [
       "tensor([ 0.4180,  0.2497, -0.4124,  0.1217,  0.3453, -0.0445, -0.4969, -0.1786,\n",
       "        -0.0007, -0.6566,  0.2784, -0.1477, -0.5568,  0.1466, -0.0095,  0.0117,\n",
       "         0.1020, -0.1279, -0.8443, -0.1218, -0.0168, -0.3328, -0.1552, -0.2313,\n",
       "        -0.1918, -1.8823, -0.7675,  0.0991, -0.4212, -0.1953,  4.0071, -0.1859,\n",
       "        -0.5229, -0.3168,  0.0006,  0.0074,  0.1778, -0.1590,  0.0120, -0.0542,\n",
       "        -0.2987, -0.1575, -0.3476, -0.0456, -0.4425,  0.1878,  0.0028, -0.1841,\n",
       "        -0.1151, -0.7858])"
      ]
     },
     "execution_count": 13,
     "metadata": {},
     "output_type": "execute_result"
    }
   ],
   "source": [
    "print(TEXT.vocab.vectors.shape)\n",
    "vocab_size = len(TEXT.vocab)\n",
    "TEXT.vocab.vectors[TEXT.vocab.stoi['the']]"
   ]
  },
  {
   "cell_type": "code",
   "execution_count": 14,
   "metadata": {},
   "outputs": [
    {
     "name": "stdout",
     "output_type": "stream",
     "text": [
      "len(trn): 4000\n",
      "len(vld): 1000\n"
     ]
    }
   ],
   "source": [
    "#trn, vld = train.split(0.7)\n",
    "trn = train\n",
    "vld = test\n",
    "print('len(trn):', len(trn))\n",
    "print('len(vld):', len(vld))\n",
    "#print('len(test):', len(test))"
   ]
  },
  {
   "cell_type": "code",
   "execution_count": 15,
   "metadata": {},
   "outputs": [],
   "source": [
    "train_iter, val_iter = data.BucketIterator.splits(\n",
    "    datasets=(trn, vld),\n",
    "    batch_sizes=(settings.batch_size, settings.batch_size),\n",
    "    sort_key=lambda x: len(x.statement),\n",
    "    sort_within_batch=False,\n",
    "    repeat=False\n",
    ")"
   ]
  },
  {
   "cell_type": "code",
   "execution_count": 16,
   "metadata": {},
   "outputs": [],
   "source": [
    "class BatchGenerator:\n",
    "    def __init__(self, dl, x_field, y_fields):\n",
    "        self.dl, self.x_field, self.y_fields = dl, x_field, y_fields\n",
    "        \n",
    "    def __len__(self):\n",
    "        return len(self.dl)\n",
    "    \n",
    "    def __iter__(self):\n",
    "        for batch in self.dl:\n",
    "            X = getattr(batch, self.x_field)\n",
    "            y = getattr(batch, self.y_fields)\n",
    "            #y = torch.cat([getattr(batch, feat).unsqueeze(1) \n",
    "            #               for feat in self.y_fields], dim=1).float()\n",
    "            if cuda:\n",
    "                X = X.cuda()\n",
    "            yield (X, y)"
   ]
  },
  {
   "cell_type": "code",
   "execution_count": 17,
   "metadata": {},
   "outputs": [],
   "source": [
    "train_dl = BatchGenerator(train_iter, 'statement', 'tag_id')\n",
    "valid_dl = BatchGenerator(val_iter, 'statement', 'tag_id')"
   ]
  },
  {
   "cell_type": "code",
   "execution_count": 18,
   "metadata": {},
   "outputs": [],
   "source": [
    "# Requires padding to be set to 100\n",
    "class SimpleForward(nn.Module):\n",
    "    def __init__(self, pretrained_vec, emb_dim=50):\n",
    "        super().__init__()\n",
    "        self.embedding = nn.Embedding(len(TEXT.vocab), emb_dim)\n",
    "        self.embedding.weight.data.copy_(pretrained_vec)\n",
    "        self.embedding.weight.requires_grad = False\n",
    "        \n",
    "        self.linear_layer = nn.Linear(emb_dim*100, 128)\n",
    "        self.linear_out = nn.Linear(128, n_classes)\n",
    "        \n",
    "    def forward(self, seq):\n",
    "        \n",
    "        seq = seq.permute(1, 0)\n",
    "        emb = self.embedding(seq)\n",
    "        \n",
    "        long_layer = emb.view(-1, emb_dim*100)\n",
    "        \n",
    "        out = F.relu(self.linear_layer(long_layer))\n",
    "        out = self.linear_out(out)\n",
    "        \n",
    "        return F.log_softmax(out, dim=-1)\n",
    "        "
   ]
  },
  {
   "cell_type": "code",
   "execution_count": 19,
   "metadata": {},
   "outputs": [],
   "source": [
    "class CNN(nn.Module):\n",
    "    def __init__(self, pretrained_vec, emb_dim, n_channels_per_filter, filter_sizes):\n",
    "        super().__init__()\n",
    "        self.embedding = nn.Embedding(len(TEXT.vocab), emb_dim)\n",
    "        self.embedding.weight.data.copy_(pretrained_vec)\n",
    "        self.embedding.weight.requires_grad = False\n",
    "        \n",
    "        self.conv_0 = nn.Conv2d(in_channels=1, out_channels=n_channels_per_filter,\n",
    "                                kernel_size=(filter_sizes[0], emb_dim))\n",
    "        self.conv_1 = nn.Conv2d(in_channels=1, out_channels=n_channels_per_filter,\n",
    "                                kernel_size=(filter_sizes[1], emb_dim))\n",
    "        self.conv_2 = nn.Conv2d(in_channels=1, out_channels=n_channels_per_filter,\n",
    "                                kernel_size=(filter_sizes[2], emb_dim))\n",
    "        \n",
    "        self.fc = nn.Linear(len(filter_sizes)*n_channels_per_filter, n_classes)\n",
    "        \n",
    "        self.dropout = nn.Dropout(0.5)\n",
    "        \n",
    "    def forward(self, seq):\n",
    "        \n",
    "        seq = seq.permute(1, 0)\n",
    "        emb = self.embedding(seq)\n",
    "        \n",
    "        #print(seq.shape)\n",
    "        #print(emb.shape)\n",
    "        \n",
    "        emb = emb.unsqueeze(1) # introduce 'channel 1'\n",
    "        \n",
    "        #print('emb:', emb.shape)\n",
    "        \n",
    "        out0 = F.relu(self.conv_0(emb).squeeze(3))\n",
    "        out1 = F.relu(self.conv_1(emb).squeeze(3))\n",
    "        out2 = F.relu(self.conv_2(emb).squeeze(3))\n",
    "        \n",
    "        #print('out0:', out0.shape)\n",
    "        \n",
    "        pooled_0 = F.max_pool1d(out0, out0.shape[2]).squeeze(2)\n",
    "        pooled_1 = F.max_pool1d(out1, out1.shape[2]).squeeze(2)\n",
    "        pooled_2 = F.max_pool1d(out2, out2.shape[2]).squeeze(2)\n",
    "        \n",
    "        #print('pooled0:', pooled_0.shape)\n",
    "        \n",
    "        cat = self.dropout(torch.cat((pooled_0, pooled_1, pooled_2), dim=1))\n",
    "        \n",
    "        #print('cat:', cat.shape)\n",
    "        \n",
    "        out = self.fc(cat)\n",
    "        \n",
    "        return F.log_softmax(out, dim=-1)"
   ]
  },
  {
   "cell_type": "code",
   "execution_count": 20,
   "metadata": {},
   "outputs": [],
   "source": [
    "class simpleRNN(nn.Module):\n",
    "    def __init__(self, pretrained_vec, emb_dim, hidden_dim, change_emb=True):\n",
    "        super().__init__()\n",
    "        self.embedding = nn.Embedding(len(TEXT.vocab), emb_dim)\n",
    "        self.embedding.weight.data.copy_(pretrained_vec)\n",
    "        self.embedding.weight.requires_grad = change_emb\n",
    "        \n",
    "        self.rnn = nn.RNN(emb_dim, hidden_dim)\n",
    "        \n",
    "        self.fc = nn.Linear(hidden_dim, n_classes)\n",
    "        \n",
    "    def forward(self, seq):\n",
    "        # seq dims: [seq len, batch size]\n",
    "        emb = self.embedding(seq)\n",
    "        # emb dims: [seq len, batch size, emb dim]\n",
    "        out, hid = self.rnn(emb)\n",
    "        # out dims: [seq len, batch size, hidden_dim]\n",
    "        # hid dims: [1, batch size, hidden_dim]\n",
    "        # hid.squeeze(0) -> [batch size, hidden_dim]\n",
    "        out = self.fc(hid.squeeze(0))\n",
    "        # out dims: [batch size, n_classes]\n",
    "        sm = F.log_softmax(out, dim=-1)\n",
    "        # sm dims: [batch size, n_classes]\n",
    "        \n",
    "        return sm"
   ]
  },
  {
   "cell_type": "code",
   "execution_count": 21,
   "metadata": {},
   "outputs": [],
   "source": [
    "class simpleLSTM(nn.Module):\n",
    "    def __init__(self, emb_dim, hidden_dim, n_layers=1, pretrained_vec=torch.zeros(0),\n",
    "                 change_emb=True, dropout=0):\n",
    "        super().__init__()\n",
    "        self.hidden_dim = hidden_dim\n",
    "        \n",
    "        self.embedding = nn.Embedding(len(TEXT.vocab), emb_dim)\n",
    "        if len(pretrained_vec) > 0:\n",
    "            print('Loaded pretrained vectors.')\n",
    "            self.embedding.weight.data.copy_(pretrained_vec)\n",
    "        else:\n",
    "            print('Not loaded pretrained vectors.')\n",
    "        \n",
    "        self.embedding.weight.requires_grad = change_emb\n",
    "        \n",
    "        self.lstm = nn.LSTM(emb_dim, hidden_dim, num_layers=n_layers,\n",
    "                            bidirectional=True, dropout=dropout)\n",
    "        \n",
    "        self.fc = nn.Linear(2*hidden_dim, n_classes)\n",
    "        \n",
    "        self.dropout = nn.Dropout(dropout)\n",
    "        \n",
    "    def forward(self, seq):\n",
    "        #pdb.set_trace()\n",
    "        # seq dims: [seq len, batch size]\n",
    "        \n",
    "        emb = self.embedding(seq)\n",
    "        # emb dims: [seq len, batch size, emb dim]\n",
    "        \n",
    "        out, (hid, cel) = self.lstm(emb)\n",
    "        \n",
    "        # out dims: [seq len, batch size, hidden_dim]\n",
    "        # hid dims: [2*n_layers, batch size, hidden_dim]\n",
    "        # cel dims: [2*n_layers, batch size, hidden_dim]\n",
    "        # out[-1,:,:hd] -> [batch size, hidden_dim]  (last time step hidden vector)\n",
    "        # out[0,:,hd:] <- [batch size, hidden_dim]  (first time step hidden vector)\n",
    "        conc = torch.cat((out[-1,:,:self.hidden_dim], out[0,:,self.hidden_dim:]), dim=1)\n",
    "        \n",
    "        conc = self.dropout(conc)\n",
    "        \n",
    "        out = self.fc(conc)\n",
    "        # out dims: [batch size, n_classes]\n",
    "        sm = F.log_softmax(out, dim=-1)\n",
    "        # sm dims: [batch size, n_classes]\n",
    "        \n",
    "        return sm"
   ]
  },
  {
   "cell_type": "code",
   "execution_count": 22,
   "metadata": {},
   "outputs": [],
   "source": [
    "#model = CNN(TEXT.vocab.vectors,\n",
    "#            emb_dim=emb_dim,\n",
    "#            n_channels_per_filter=100,\n",
    "#            filter_sizes=[3, 4, 5]\n",
    "#           )"
   ]
  },
  {
   "cell_type": "code",
   "execution_count": 23,
   "metadata": {},
   "outputs": [
    {
     "name": "stdout",
     "output_type": "stream",
     "text": [
      "Loaded pretrained vectors.\n"
     ]
    }
   ],
   "source": [
    "model = simpleLSTM(emb_dim=settings.emb_dim,\n",
    "                   hidden_dim=settings.hidden_dim,\n",
    "                   n_layers=settings.num_linear,\n",
    "                   pretrained_vec=TEXT.vocab.vectors,\n",
    "                   change_emb=True,\n",
    "                   dropout=settings.dropout\n",
    "                  )\n",
    "if cuda:\n",
    "    model = model.cuda()"
   ]
  },
  {
   "cell_type": "code",
   "execution_count": 24,
   "metadata": {},
   "outputs": [],
   "source": [
    "#x, y = next(iter(train_dl))\n",
    "#pred = model(x)\n",
    "#print(x.shape)\n",
    "#print(y.shape)\n",
    "#print(pred.shape)"
   ]
  },
  {
   "cell_type": "code",
   "execution_count": 25,
   "metadata": {},
   "outputs": [
    {
     "data": {
      "text/plain": [
       "70"
      ]
     },
     "execution_count": 25,
     "metadata": {},
     "output_type": "execute_result"
    }
   ],
   "source": [
    "len(vars(trn[0])['statement'])"
   ]
  },
  {
   "cell_type": "code",
   "execution_count": 26,
   "metadata": {},
   "outputs": [],
   "source": [
    "loss_func = nn.NLLLoss()"
   ]
  },
  {
   "cell_type": "code",
   "execution_count": 27,
   "metadata": {},
   "outputs": [
    {
     "name": "stdout",
     "output_type": "stream",
     "text": [
      "simpleLSTM(\n",
      "  (embedding): Embedding(144446, 50)\n",
      "  (lstm): LSTM(50, 100, num_layers=3, dropout=0.5, bidirectional=True)\n",
      "  (fc): Linear(in_features=200, out_features=1322, bias=True)\n",
      "  (dropout): Dropout(p=0.5)\n",
      ")\n"
     ]
    }
   ],
   "source": [
    "print(model)"
   ]
  },
  {
   "cell_type": "code",
   "execution_count": 28,
   "metadata": {},
   "outputs": [],
   "source": [
    "import tqdm\n",
    "\n",
    "def run_epochs(model, train_dl, valid_dl):\n",
    "    \n",
    "    opt = optim.Adam(model.parameters(), lr=0.001)\n",
    "    loss_func = nn.NLLLoss()\n",
    "\n",
    "    epochs = settings.epochs\n",
    "\n",
    "    missclass = []\n",
    "    losses = []\n",
    " \n",
    "    for epoch in range(1, epochs + 1):\n",
    "        running_loss = 0.0\n",
    "        running_corrects = 0\n",
    "        model.train() # turn on training mode\n",
    "\n",
    "        num_vals = 0\n",
    "        num_correct = 0\n",
    "\n",
    "        #pdb.set_trace()\n",
    "\n",
    "        #for x, y in train_dl: \n",
    "        for x, y in tqdm.tqdm(train_dl): \n",
    "            opt.zero_grad()\n",
    "\n",
    "            preds = model(x)\n",
    "            loss = loss_func(preds, y.long())\n",
    "\n",
    "            loss.backward()\n",
    "            opt.step()\n",
    "\n",
    "\n",
    "            running_loss += loss.item() * x.size(0)\n",
    "\n",
    "            _, y_pred = torch.max(preds, dim=1)\n",
    "            num_correct += torch.sum(y == y_pred).item()\n",
    "            num_vals += len(y.float())\n",
    "\n",
    "        #pdb.set_trace()\n",
    "\n",
    "        missclass_tr = 1 - num_correct / num_vals\n",
    "\n",
    "        epoch_loss = running_loss / len(trn)\n",
    "\n",
    "        num_vals = 0\n",
    "        num_correct = 0\n",
    "\n",
    "        # calculate the validation loss for this epoch\n",
    "        val_loss = 0.0\n",
    "        model.eval() # turn on evaluation mode\n",
    "        for x, y in tqdm.tqdm(valid_dl):\n",
    "            preds = model(x)\n",
    "            loss = loss_func(preds, y.long())\n",
    "\n",
    "            val_loss += loss.item() * x.size(0)\n",
    "\n",
    "            _, y_pred = torch.max(preds, dim=1)\n",
    "            num_correct += torch.sum(y == y_pred).item()\n",
    "            num_vals += len(y.float())\n",
    "\n",
    "        #pdb.set_trace()\n",
    "\n",
    "        missclass_te = 1 - num_correct / num_vals\n",
    "        val_loss /= len(vld)\n",
    "\n",
    "        missclass.append((missclass_tr, missclass_te))\n",
    "        losses.append((epoch_loss, val_loss))\n",
    "\n",
    "        print('Epoch: {}/{}, Loss: [{:.4f}, {:.4f}], Miss: [{:.2%}, {:.2%}]'\\\n",
    "              .format(epoch, epochs, epoch_loss, val_loss, missclass_tr, missclass_te))\n",
    "        sys.stdout.flush()\n",
    "        \n",
    "    return model, opt, losses, missclass"
   ]
  },
  {
   "cell_type": "code",
   "execution_count": 29,
   "metadata": {},
   "outputs": [
    {
     "name": "stderr",
     "output_type": "stream",
     "text": [
      "100%|██████████| 250/250 [01:31<00:00,  2.72it/s]\n",
      "100%|██████████| 63/63 [00:04<00:00, 12.68it/s]"
     ]
    },
    {
     "name": "stdout",
     "output_type": "stream",
     "text": [
      "Epoch: 1/5, Loss: [27.2423, 26.3458], Miss: [95.53%, 94.20%]\n"
     ]
    },
    {
     "name": "stderr",
     "output_type": "stream",
     "text": [
      "\n",
      "100%|██████████| 250/250 [01:42<00:00,  2.43it/s]\n",
      "100%|██████████| 63/63 [00:06<00:00,  9.79it/s]"
     ]
    },
    {
     "name": "stdout",
     "output_type": "stream",
     "text": [
      "Epoch: 2/5, Loss: [25.9606, 26.7518], Miss: [95.43%, 94.20%]\n"
     ]
    },
    {
     "name": "stderr",
     "output_type": "stream",
     "text": [
      "\n",
      "100%|██████████| 250/250 [01:29<00:00,  2.78it/s]\n",
      "100%|██████████| 63/63 [00:04<00:00, 12.96it/s]"
     ]
    },
    {
     "name": "stdout",
     "output_type": "stream",
     "text": [
      "Epoch: 3/5, Loss: [25.8616, 27.0011], Miss: [95.50%, 94.20%]\n"
     ]
    },
    {
     "name": "stderr",
     "output_type": "stream",
     "text": [
      "\n",
      "100%|██████████| 250/250 [01:31<00:00,  2.73it/s]\n",
      "100%|██████████| 63/63 [00:05<00:00, 12.09it/s]"
     ]
    },
    {
     "name": "stdout",
     "output_type": "stream",
     "text": [
      "Epoch: 4/5, Loss: [25.7799, 27.2375], Miss: [95.03%, 94.20%]\n"
     ]
    },
    {
     "name": "stderr",
     "output_type": "stream",
     "text": [
      "\n",
      "100%|██████████| 250/250 [01:29<00:00,  2.79it/s]\n",
      "100%|██████████| 63/63 [00:05<00:00, 12.52it/s]"
     ]
    },
    {
     "name": "stdout",
     "output_type": "stream",
     "text": [
      "Epoch: 5/5, Loss: [25.6222, 27.4742], Miss: [95.50%, 94.20%]\n"
     ]
    },
    {
     "name": "stderr",
     "output_type": "stream",
     "text": [
      "\n"
     ]
    }
   ],
   "source": [
    "model, opt, losses, missclass = run_epochs(model, train_dl, valid_dl)"
   ]
  },
  {
   "cell_type": "code",
   "execution_count": null,
   "metadata": {},
   "outputs": [],
   "source": []
  },
  {
   "cell_type": "code",
   "execution_count": 30,
   "metadata": {},
   "outputs": [
    {
     "data": {
      "image/png": "[encoded data removed]",
      "text/plain": [
       "<Figure size 432x288 with 1 Axes>"
      ]
     },
     "metadata": {
      "needs_background": "light"
     },
     "output_type": "display_data"
    }
   ],
   "source": [
    "if not cuda:\n",
    "    plt.plot(losses)\n",
    "    plt.legend(['train', 'valid'])"
   ]
  },
  {
   "cell_type": "code",
   "execution_count": 31,
   "metadata": {},
   "outputs": [
    {
     "data": {
      "image/png": "[encoded data removed]",
      "text/plain": [
       "<Figure size 432x288 with 1 Axes>"
      ]
     },
     "metadata": {
      "needs_background": "light"
     },
     "output_type": "display_data"
    }
   ],
   "source": [
    "if not cuda:\n",
    "    plt.plot(missclass)\n",
    "    plt.legend(['train', 'valid'])"
   ]
  },
  {
   "cell_type": "code",
   "execution_count": 32,
   "metadata": {},
   "outputs": [],
   "source": [
    "# Freeze all layers\n",
    "for param in model.parameters():\n",
    "    param.requires_grad = False"
   ]
  },
  {
   "cell_type": "code",
   "execution_count": 33,
   "metadata": {},
   "outputs": [],
   "source": [
    "# Replace fc with sentiment layer\n",
    "# Parameters of newly constructed modules have requires_grad=True by default\n",
    "num_ftrs = model.fc.in_features\n",
    "model.fc = nn.Linear(num_ftrs, n_sent)\n",
    "if cuda:\n",
    "    model = model.cuda()"
   ]
  },
  {
   "cell_type": "code",
   "execution_count": 34,
   "metadata": {},
   "outputs": [
    {
     "name": "stdout",
     "output_type": "stream",
     "text": [
      "simpleLSTM(\n",
      "  (embedding): Embedding(144446, 50)\n",
      "  (lstm): LSTM(50, 100, num_layers=3, dropout=0.5, bidirectional=True)\n",
      "  (fc): Linear(in_features=200, out_features=2, bias=True)\n",
      "  (dropout): Dropout(p=0.5)\n",
      ")\n"
     ]
    }
   ],
   "source": [
    "print(model)"
   ]
  },
  {
   "cell_type": "code",
   "execution_count": 35,
   "metadata": {},
   "outputs": [],
   "source": [
    "train_imdb_iter, val_imdb_iter = data.BucketIterator.splits(\n",
    "    datasets=(train_imdb, test_imdb),\n",
    "    batch_sizes=(settings.batch_size, settings.batch_size),\n",
    "    sort_key=lambda x: len(x.statement),\n",
    "    sort_within_batch=False,\n",
    "    repeat=False\n",
    ")"
   ]
  },
  {
   "cell_type": "code",
   "execution_count": 36,
   "metadata": {},
   "outputs": [],
   "source": [
    "train_imdb_dl = BatchGenerator(train_imdb_iter, 'statement', 'tag_id')\n",
    "valid_imdb_dl = BatchGenerator(val_imdb_iter, 'statement', 'tag_id')"
   ]
  },
  {
   "cell_type": "code",
   "execution_count": null,
   "metadata": {},
   "outputs": [
    {
     "name": "stderr",
     "output_type": "stream",
     "text": [
      " 87%|████████▋ | 435/500 [04:35<00:41,  1.58it/s]"
     ]
    }
   ],
   "source": [
    "model, opt, losses, missclass = run_epochs(model, train_imdb_dl, valid_imdb_dl)"
   ]
  },
  {
   "cell_type": "code",
   "execution_count": null,
   "metadata": {},
   "outputs": [],
   "source": []
  }
 ],
 "metadata": {
  "kernelspec": {
   "display_name": "Python 3",
   "language": "python",
   "name": "python3"
  },
  "language_info": {
   "codemirror_mode": {
    "name": "ipython",
    "version": 3
   },
   "file_extension": ".py",
   "mimetype": "text/x-python",
   "name": "python",
   "nbconvert_exporter": "python",
   "pygments_lexer": "ipython3",
   "version": "3.7.0"
  }
 },
 "nbformat": 4,
 "nbformat_minor": 2
}
