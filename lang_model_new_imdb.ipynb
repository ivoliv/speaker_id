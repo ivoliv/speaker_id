{
 "cells": [
  {
   "cell_type": "code",
   "execution_count": 1,
   "metadata": {},
   "outputs": [
    {
     "name": "stderr",
     "output_type": "stream",
     "text": [
      "/anaconda3/envs/ONE/lib/python3.7/site-packages/sklearn/utils/__init__.py:4: DeprecationWarning: Using or importing the ABCs from 'collections' instead of from 'collections.abc' is deprecated, and in 3.8 it will stop working\n",
      "  from collections import Sequence\n"
     ]
    }
   ],
   "source": [
    "# To create python file:\n",
    "# jupyter nbconvert --to=python lang_model_new.ipynb\n",
    "\n",
    "import utils.data_import as data_import\n",
    "import utils.imdb_data as imdb_data\n",
    "import utils.ml_utils as ml_utils\n",
    "import model.neural as neural\n",
    "\n",
    "import torch\n",
    "import torch.nn as nn\n",
    "import torch.optim as optim\n",
    "\n",
    "from torchtext import data, vocab\n",
    "\n",
    "import os, sys\n",
    "import pdb\n",
    "import pandas as pd\n",
    "import numpy as np\n",
    "import math\n",
    "#from tqdm import tnrange, tqdm_notebook\n",
    "from tqdm import tqdm\n",
    "\n",
    "import importlib\n",
    "\n",
    "import settings\n",
    "\n",
    "np.random.seed(123)"
   ]
  },
  {
   "cell_type": "code",
   "execution_count": 2,
   "metadata": {},
   "outputs": [
    {
     "name": "stdout",
     "output_type": "stream",
     "text": [
      "Running in notebook: True\n"
     ]
    }
   ],
   "source": [
    "in_notebook = ml_utils.in_ipynb()\n",
    "print('Running in notebook:', in_notebook)"
   ]
  },
  {
   "cell_type": "code",
   "execution_count": 3,
   "metadata": {},
   "outputs": [
    {
     "name": "stdout",
     "output_type": "stream",
     "text": [
      "No cuda.\n"
     ]
    }
   ],
   "source": [
    "cuda = torch.cuda.is_available()\n",
    "if cuda:\n",
    "    print('Cuda is available!')\n",
    "    print('Device:', torch.cuda.get_device_name(torch.cuda.current_device()))\n",
    "else:\n",
    "    print('No cuda.')\n",
    "\n",
    "if in_notebook:\n",
    "    import matplotlib.pyplot as plt\n",
    "    %matplotlib inline"
   ]
  },
  {
   "cell_type": "code",
   "execution_count": 4,
   "metadata": {},
   "outputs": [
    {
     "name": "stdout",
     "output_type": "stream",
     "text": [
      "Importing vocab from vocab.p... Done.\n",
      "Imported vocab:  10,917\n",
      "Read total of: 1,000 lines from imdb file.\n",
      "Number of classes: 2: {'negative': 0, 'positive': 1}\n",
      "Generated train: 700 lines\n",
      "Generated valid: 150 lines\n",
      "Generated test:  150 lines\n"
     ]
    },
    {
     "data": {
      "text/html": [
       "<div>\n",
       "<style scoped>\n",
       "    .dataframe tbody tr th:only-of-type {\n",
       "        vertical-align: middle;\n",
       "    }\n",
       "\n",
       "    .dataframe tbody tr th {\n",
       "        vertical-align: top;\n",
       "    }\n",
       "\n",
       "    .dataframe thead th {\n",
       "        text-align: right;\n",
       "    }\n",
       "</style>\n",
       "<table border=\"1\" class=\"dataframe\">\n",
       "  <thead>\n",
       "    <tr style=\"text-align: right;\">\n",
       "      <th></th>\n",
       "      <th>sentiment</th>\n",
       "      <th>review</th>\n",
       "      <th>len</th>\n",
       "    </tr>\n",
       "  </thead>\n",
       "  <tbody>\n",
       "    <tr>\n",
       "      <th>498</th>\n",
       "      <td>0</td>\n",
       "      <td>[679, 9355, 39, 1382, 39, 2, 5186, 121, 18, 2,...</td>\n",
       "      <td>231</td>\n",
       "    </tr>\n",
       "    <tr>\n",
       "      <th>243</th>\n",
       "      <td>0</td>\n",
       "      <td>[458, 1868, 23, 2155, 7238, 3978, 10581, 187, ...</td>\n",
       "      <td>206</td>\n",
       "    </tr>\n",
       "    <tr>\n",
       "      <th>314</th>\n",
       "      <td>0</td>\n",
       "      <td>[249, 132, 160, 218, 156, 600, 46, 458, 59, 16...</td>\n",
       "      <td>159</td>\n",
       "    </tr>\n",
       "    <tr>\n",
       "      <th>202</th>\n",
       "      <td>0</td>\n",
       "      <td>[142, 243, 2812, 18, 3904, 18, 62, 5269, 2, 46...</td>\n",
       "      <td>123</td>\n",
       "    </tr>\n",
       "    <tr>\n",
       "      <th>300</th>\n",
       "      <td>0</td>\n",
       "      <td>[2, 2, 14, 302, 10574, 5809, 24, 49, 129, 107,...</td>\n",
       "      <td>972</td>\n",
       "    </tr>\n",
       "  </tbody>\n",
       "</table>\n",
       "</div>"
      ],
      "text/plain": [
       "     sentiment                                             review  len\n",
       "498          0  [679, 9355, 39, 1382, 39, 2, 5186, 121, 18, 2,...  231\n",
       "243          0  [458, 1868, 23, 2155, 7238, 3978, 10581, 187, ...  206\n",
       "314          0  [249, 132, 160, 218, 156, 600, 46, 458, 59, 16...  159\n",
       "202          0  [142, 243, 2812, 18, 3904, 18, 62, 5269, 2, 46...  123\n",
       "300          0  [2, 2, 14, 302, 10574, 5809, 24, 49, 129, 107,...  972"
      ]
     },
     "execution_count": 4,
     "metadata": {},
     "output_type": "execute_result"
    }
   ],
   "source": [
    "corpus = imdb_data.ImdbCorpus(filename=settings.imdb_file, lines=settings.lines_imbd, vocab_file='vocab.p')\n",
    "corpus.train.itoklist_df.head()"
   ]
  },
  {
   "cell_type": "code",
   "execution_count": 5,
   "metadata": {},
   "outputs": [
    {
     "name": "stdout",
     "output_type": "stream",
     "text": [
      "[('<unk>', 31380), ('the', 13249), ('.', 12974), (',', 10887), ('a', 6569), ('and', 6489), ('of', 5787), ('to', 5344), ('is', 4185), ('it', 3889), ('in', 3879), ('i', 3536), ('this', 2997), ('that', 2956), (\"'s\", 2556), ('-', 2531), ('\"', 2437), ('as', 1970), ('was', 1948), ('for', 1817)]\n",
      "[('negative', 505), ('positive', 495)]\n"
     ]
    }
   ],
   "source": [
    "if in_notebook:\n",
    "    print(corpus.vocab.most_frequent(to=20))\n",
    "    print(corpus.classes.most_frequent())"
   ]
  },
  {
   "cell_type": "code",
   "execution_count": 6,
   "metadata": {},
   "outputs": [
    {
     "name": "stdout",
     "output_type": "stream",
     "text": [
      "## sentiment : 0\n",
      "## review : [679, 9355, 39, 1382, 39, 2, 5186, 121, 18, 2, 76, 6442, 458, 28, 64, 2, 64, 16, 2, 2, 27, 256, 867, 684, 344, 3918, 16, 474, 2943, 4336, 18, 3918, 277, 18, 2, 679, 5128, 46, 1676, 16, 474, 505, 659, 95, 18, 3918, 42, 1109, 39, 49, 27, 18, 62, 46, 147, 1201, 2, 16, 64, 590, 27, 49, 7861, 64, 27, 2, 2, 129, 3537, 277, 147, 852, 3918, 46, 18, 6607, 17, 247, 474, 2, 37, 2, 14, 2, 1520, 16, 2, 679, 505, 683, 1208, 17, 458, 3918, 1109, 7663, 64, 6690, 2, 3904, 121, 566, 265, 32, 8516, 972, 937, 37, 2, 2, 64, 16, 217, 49, 1741, 1156, 294, 679, 10020, 18, 2, 95, 32, 2744, 39, 5524, 18, 2, 39, 679, 132, 2, 277, 18, 2493, 121, 2, 16, 16, 16, 16, 679, 3568, 23, 1676, 23, 4381, 49, 39, 49, 132, 28, 521, 4271, 16, 295, 474, 584, 294, 18, 2, 2, 14, 105, 24, 18, 2, 32, 2, 2, 14, 39, 18, 7019, 2, 14, 474, 167, 205, 884, 121, 296, 691, 2818, 14, 162, 271, 684, 1042, 2734, 1265, 16, 2, 46, 221, 2215, 554, 825, 18, 2, 14, 205, 2, 14, 39, 2316, 49, 277, 151, 16, 249, 81, 241, 7802, 4642, 39, 8321, 2, 39, 2, 14, 162, 57, 3719, 17, 4627, 6436, 23, 4271, 16, 1]\n",
      "i firstly and completely and <unk> disagree with the <unk> who calls this a \" <unk> \" . <unk> <unk> is very serious about his film . he personally introduced the film at the <unk> i saw in chicago . he had worked on the film for years and it is the first in an intended <unk> . \" what is it ? \" is <unk> <unk> 's attempt at an art film in the vein of those he <unk> by <unk> , <unk> etc . <unk> i had heard rumor of this film years ago \" epic <unk> movie with all down - syndrome cast directed by <unk> <unk> \" . when it finally came out i watched the <unk> on - line and read the <unk> and i was <unk> at the mouth with <unk> . . . . i went to chicago to see it and it was a major disappointment . if he took out the <unk> <unk> , such as the <unk> - <unk> <unk> , and the dancing <unk> , he would be left with something much better , but only about 10 minutes long . <unk> in other words just watch the <unk> , be <unk> , and leave it at that . there are some striking images and fantastic <unk> and <unk> , but its lack of focus amounts to disappointment . <eol> \n",
      "\n",
      "## sentiment : 0\n",
      "## review : [458, 1868, 23, 2155, 7238, 3978, 10581, 187, 28, 476, 5805, 9432, 2, 16, 2, 7904, 14, 49, 27, 18, 9432, 2, 39, 49, 27, 3021, 14, 951, 2, 16, 2, 458, 27, 218, 17, 18, 400, 2, 1012, 7402, 46, 18, 8593, 4804, 16, 2, 27, 28, 1286, 244, 246, 7840, 39, 3978, 472, 2, 875, 14, 2, 3978, 187, 4080, 217, 474, 554, 27, 781, 39, 18, 64, 2, 64, 324, 8178, 23, 587, 187, 3183, 16, 39, 18, 1028, 14, 2, 14, 1693, 1028, 335, 506, 432, 14, 1951, 16, 5094, 1868, 628, 28, 5436, 17, 7002, 46, 7238, 1402, 551, 11, 18, 2, 365, 160, 2588, 4382, 4894, 3683, 20, 16, 8, 2, 2, 3683, 574, 18, 2, 16, 249, 335, 1967, 506, 3226, 8573, 269, 458, 993, 14, 1967, 16, 39, 458, 134, 3296, 23, 727, 566, 187, 28, 2, 46, 18, 152, 2155, 18, 2319, 10522, 557, 6991, 2, 28, 5436, 17, 965, 121, 3507, 14, 241, 1693, 121, 2, 2, 14, 162, 571, 121, 28, 1291, 2, 16, 2, 218, 548, 2, 590, 5510, 17, 2, 10525, 132, 458, 277, 18, 2293, 6900, 7861, 42, 1240, 458, 132, 28, 5510, 17, 64, 7840, 129, 2, 46, 2, 64, 1]\n",
      "this 1919 to 1933 germany looks hardly like a post wwii czech <unk> . <unk> sorry , it is the czech <unk> and it is 2003 , how <unk> . <unk> this is one of the most <unk> history movies in the nearest past . <unk> is a head higher than adolf and looks so <unk> good , <unk> looks like 40 when he just is 23 and the \" <unk> \" always seems to look like 56 . and the buildings , <unk> , even buildings have been young , sometimes . especially 1919 were a lot of houses in germany nearly new ( the <unk> does not reach german cities ! ) . no <unk> <unk> ! then the <unk> . there have never been urban canyons around this building , never . and this may sound to you all like a <unk> in the year 1933 the greater berlin fire brigade <unk> a lot of vehicles with engines , some even with <unk> <unk> , but none with a hand <unk> . <unk> one last <unk> what kind of <unk> castle was this at the final sequence ? for me this was a kind of \" adolf 's <unk> in <unk> \" <eol> \n",
      "\n"
     ]
    }
   ],
   "source": [
    "if in_notebook:\n",
    "    corpus.train.show_stoklist(corpus.vocab, 2)"
   ]
  },
  {
   "cell_type": "raw",
   "metadata": {},
   "source": [
    "corpus.train.itoklist_df = ml_utils.shuffle(corpus.train.itoklist_df)\n",
    "corpus.batchify(batch_size=settings.batch_size_imdb, seq_length=settings.window_size_imbd)"
   ]
  },
  {
   "cell_type": "code",
   "execution_count": 10,
   "metadata": {},
   "outputs": [
    {
     "data": {
      "text/html": [
       "<div>\n",
       "<style scoped>\n",
       "    .dataframe tbody tr th:only-of-type {\n",
       "        vertical-align: middle;\n",
       "    }\n",
       "\n",
       "    .dataframe tbody tr th {\n",
       "        vertical-align: top;\n",
       "    }\n",
       "\n",
       "    .dataframe thead th {\n",
       "        text-align: right;\n",
       "    }\n",
       "</style>\n",
       "<table border=\"1\" class=\"dataframe\">\n",
       "  <thead>\n",
       "    <tr style=\"text-align: right;\">\n",
       "      <th></th>\n",
       "      <th>sentiment</th>\n",
       "      <th>review</th>\n",
       "      <th>len</th>\n",
       "    </tr>\n",
       "  </thead>\n",
       "  <tbody>\n",
       "    <tr>\n",
       "      <th>498</th>\n",
       "      <td>0</td>\n",
       "      <td>[679, 9355, 39, 1382, 39, 2, 5186, 121, 18, 2,...</td>\n",
       "      <td>231</td>\n",
       "    </tr>\n",
       "    <tr>\n",
       "      <th>243</th>\n",
       "      <td>0</td>\n",
       "      <td>[458, 1868, 23, 2155, 7238, 3978, 10581, 187, ...</td>\n",
       "      <td>206</td>\n",
       "    </tr>\n",
       "    <tr>\n",
       "      <th>314</th>\n",
       "      <td>0</td>\n",
       "      <td>[249, 132, 160, 218, 156, 600, 46, 458, 59, 16...</td>\n",
       "      <td>159</td>\n",
       "    </tr>\n",
       "    <tr>\n",
       "      <th>202</th>\n",
       "      <td>0</td>\n",
       "      <td>[142, 243, 2812, 18, 3904, 18, 62, 5269, 2, 46...</td>\n",
       "      <td>123</td>\n",
       "    </tr>\n",
       "    <tr>\n",
       "      <th>300</th>\n",
       "      <td>0</td>\n",
       "      <td>[2, 2, 14, 302, 10574, 5809, 24, 49, 129, 107,...</td>\n",
       "      <td>972</td>\n",
       "    </tr>\n",
       "  </tbody>\n",
       "</table>\n",
       "</div>"
      ],
      "text/plain": [
       "     sentiment                                             review  len\n",
       "498          0  [679, 9355, 39, 1382, 39, 2, 5186, 121, 18, 2,...  231\n",
       "243          0  [458, 1868, 23, 2155, 7238, 3978, 10581, 187, ...  206\n",
       "314          0  [249, 132, 160, 218, 156, 600, 46, 458, 59, 16...  159\n",
       "202          0  [142, 243, 2812, 18, 3904, 18, 62, 5269, 2, 46...  123\n",
       "300          0  [2, 2, 14, 302, 10574, 5809, 24, 49, 129, 107,...  972"
      ]
     },
     "execution_count": 10,
     "metadata": {},
     "output_type": "execute_result"
    }
   ],
   "source": [
    "corpus.train.itoklist_df.head()"
   ]
  },
  {
   "cell_type": "raw",
   "metadata": {},
   "source": [
    "seqlengths = np.array(corpus.train.batch_start_end) \n",
    "seqlengths = seqlengths[:,1] - seqlengths[:,0] - 1\n",
    "display(seqlengths)\n",
    "rand_range=5"
   ]
  },
  {
   "cell_type": "raw",
   "metadata": {},
   "source": [
    "if in_notebook:\n",
    "    corpus.train.show_itoklist(3)\n",
    "    corpus.train.show_stoklist(corpus.vocab, 3)\n",
    "    print(corpus.train.batch_matrix[corpus.train.batch_start_end[0][0]:corpus.train.batch_start_end[0][1],2])\n",
    "    #df = corpus.train.batch_stats()\n",
    "    #df.hist()"
   ]
  },
  {
   "cell_type": "code",
   "execution_count": 12,
   "metadata": {},
   "outputs": [
    {
     "name": "stdout",
     "output_type": "stream",
     "text": [
      " Number of batches: 23\n",
      " Preserved texts: 690\n",
      " Matrix size:       torch.Size([3771, 30])\n",
      " Number of batches: 5\n",
      " Preserved texts: 150\n",
      " Matrix size:       torch.Size([879, 30])\n",
      " Number of batches: 5\n",
      " Preserved texts: 150\n",
      " Matrix size:       torch.Size([859, 30])\n"
     ]
    }
   ],
   "source": [
    "train_dl = imdb_data.ImdbTextDataset(corpus.train, pad_idx=corpus.vocab.stoi['<pad>'],\n",
    "                                     batch_size=settings.batch_size_imdb, seq_length=settings.window_size_imbd, \n",
    "                                     rand_range=5, sort=True, rebatch_and_shuffle=True)\n",
    "valid_dl = imdb_data.ImdbTextDataset(corpus.valid, pad_idx=corpus.vocab.stoi['<pad>'],\n",
    "                                     batch_size=settings.batch_size_imdb, seq_length=settings.window_size_imbd, \n",
    "                                     rand_range=5, sort=True)\n",
    "test_dl = imdb_data.ImdbTextDataset(corpus.test, pad_idx=corpus.vocab.stoi['<pad>'],\n",
    "                                    batch_size=settings.batch_size_imdb, seq_length=settings.window_size_imbd, \n",
    "                                    rand_range=5, sort=True)"
   ]
  },
  {
   "cell_type": "code",
   "execution_count": 13,
   "metadata": {},
   "outputs": [
    {
     "name": "stdout",
     "output_type": "stream",
     "text": [
      "tensor([[ 930, 9247,  120,  ...,  679,  458,   64],\n",
      "        [  17,    2,  121,  ..., 3568, 3904,   83],\n",
      "        [  18,   16,    2,  ...,   23,  554,  566],\n",
      "        ...,\n",
      "        [   0,    0,    0,  ...,    2,   94, 9439],\n",
      "        [   0,    0,    0,  ...,   20,   16,   16],\n",
      "        [   0,    0,    0,  ...,    1,    1,    1]])\n",
      "tensor([0, 0, 1, 1, 0, 0, 1, 1, 0, 1, 0, 1, 1, 1, 1, 1, 0, 0, 1, 0, 0, 1, 0, 0,\n",
      "        0, 1, 1, 0, 1, 1])\n",
      "[[723, 881], [1046, 1219], [573, 723], [3227, 3412], [0, 70], [2679, 2865], [3590, 3771], [168, 295], [3051, 3227], [1579, 1756], [881, 1046], [295, 431], [2307, 2493], [431, 573], [2865, 3051], [3412, 3590], [1402, 1579], [2493, 2679], [1756, 1939], [1939, 2123], [2123, 2307], [70, 168], [1219, 1402]]\n"
     ]
    }
   ],
   "source": [
    "if in_notebook:\n",
    "    train_x, train_y = next(iter(train_dl))\n",
    "    print(train_x)\n",
    "    print(train_y)\n",
    "    print(train_dl.itoklistFrame.batch_start_end)"
   ]
  },
  {
   "cell_type": "code",
   "execution_count": 14,
   "metadata": {},
   "outputs": [
    {
     "name": "stdout",
     "output_type": "stream",
     "text": [
      "0 157\n",
      "quite <unk> . the <unk> ' are all <unk> predictable , if you 've seen any movies within the last ten years , and the few somewhat interesting parts ( <unk> someone utilizes context <unk> to make a decision ) are few and lack much punch , since the <unk> ' has already been shown before these <unk> are explained . <unk> ( <unk> , <unk> ) <unk> the acting is <unk> enough . the story simply isn 't very interesting . the whole <unk> <unk> ' <unk> becomes <unk> by the <unk> <unk> stuff ( not <unk> ) . <unk> the surgery scene is initially tense , a bit <unk> , but then becomes utterly <unk> . <unk> not horrible , but not memorable . <unk> howard 's least interesting role to date , so far as i 've seen . <unk> kind of boring , overall . <eol> <pad> <pad> <pad> <pad> <pad> <pad> <pad> ## negative ##\n",
      "1 172\n",
      "this movie wasn 't the best . . . but it did have some good actors in it . <unk> washington was <unk> good as a homeless guy , guy <unk> was good as his handicapped brother , ice - t was <unk> as the <unk> and <unk> . . . the actress <unk> roman was good as the judge in the movie . i didn 't even know it was her and i am a die hard real world fan . she was totally <unk> . <unk> this movie won 't <unk> these actors development . i know that <unk> has left this movie far behind with the success of grey 's <unk> , ice - t with his regular role on <unk> special unit and <unk> roman has landed a recurring role on sex love and <unk> ( <unk> 's new <unk> opera ) . i wish the same for the other actors because one bad movie <unk> 't a bad actor make . <eol> <pad> <pad> <pad> <pad> <pad> ## negative ##\n"
     ]
    }
   ],
   "source": [
    "if in_notebook:\n",
    "    for idx, (x, y) in enumerate(train_dl):\n",
    "        if idx >= 2:\n",
    "            break\n",
    "        print(idx, len(x[:,1]))\n",
    "        for i in x[:,1]:\n",
    "            print(corpus.vocab.itos[i], end=' ')\n",
    "        print('##', corpus.classes.itos[y[1].item()], '##')"
   ]
  },
  {
   "cell_type": "code",
   "execution_count": 51,
   "metadata": {},
   "outputs": [],
   "source": [
    "model = neural.class_model_LSTM(vocab_dim=len(corpus.vocab),\n",
    "                                emb_dim=settings.emb_dim,\n",
    "                                hidden_dim=settings.hidden_dim,\n",
    "                                n_layers=settings.num_layers,\n",
    "                                dropout=settings.dropout,\n",
    "                                n_classes=corpus.n_classes\n",
    "                               )"
   ]
  },
  {
   "cell_type": "code",
   "execution_count": null,
   "metadata": {},
   "outputs": [],
   "source": []
  },
  {
   "cell_type": "code",
   "execution_count": 52,
   "metadata": {},
   "outputs": [],
   "source": [
    "model_lm = torch.load('model_weights.pt')"
   ]
  },
  {
   "cell_type": "code",
   "execution_count": 53,
   "metadata": {},
   "outputs": [
    {
     "name": "stdout",
     "output_type": "stream",
     "text": [
      "torch.Size([10917, 50]) --> torch.Size([10917, 50])\n",
      "torch.Size([1200, 50]) --> torch.Size([1200, 50])\n",
      "torch.Size([1200, 300]) --> torch.Size([1200, 300])\n",
      "torch.Size([1200]) --> torch.Size([1200])\n",
      "torch.Size([1200]) --> torch.Size([1200])\n",
      "torch.Size([1200, 50]) --> torch.Size([1200, 50])\n",
      "torch.Size([1200, 300]) --> torch.Size([1200, 300])\n",
      "torch.Size([1200]) --> torch.Size([1200])\n",
      "torch.Size([1200]) --> torch.Size([1200])\n",
      "torch.Size([1200, 600]) --> torch.Size([1200, 600])\n",
      "torch.Size([1200, 300]) --> torch.Size([1200, 300])\n",
      "torch.Size([1200]) --> torch.Size([1200])\n",
      "torch.Size([1200]) --> torch.Size([1200])\n",
      "torch.Size([1200, 600]) --> torch.Size([1200, 600])\n",
      "torch.Size([1200, 300]) --> torch.Size([1200, 300])\n",
      "torch.Size([1200]) --> torch.Size([1200])\n",
      "torch.Size([1200]) --> torch.Size([1200])\n"
     ]
    }
   ],
   "source": [
    "for target_param, param in zip(model.parameters(), model_lm.parameters()):\n",
    "    if target_param.data.shape == param.data.shape:\n",
    "        print(target_param.data.shape, '-->', param.data.shape)\n",
    "        target_param.data.copy_(param.data)\n",
    "        param.requires_grad = False"
   ]
  },
  {
   "cell_type": "code",
   "execution_count": 54,
   "metadata": {},
   "outputs": [
    {
     "name": "stdout",
     "output_type": "stream",
     "text": [
      "class_model_LSTM(\n",
      "  (embedding): Embedding(10917, 50)\n",
      "  (lstm): LSTM(50, 300, num_layers=2, dropout=0.4, bidirectional=True)\n",
      "  (fc): Linear(in_features=600, out_features=2, bias=True)\n",
      "  (dropout): Dropout(p=0.4)\n",
      ")\n"
     ]
    }
   ],
   "source": [
    "print(model)"
   ]
  },
  {
   "cell_type": "code",
   "execution_count": null,
   "metadata": {},
   "outputs": [],
   "source": []
  },
  {
   "cell_type": "code",
   "execution_count": null,
   "metadata": {},
   "outputs": [],
   "source": []
  },
  {
   "cell_type": "code",
   "execution_count": 16,
   "metadata": {},
   "outputs": [],
   "source": [
    "if cuda:\n",
    "    model = model.cuda()"
   ]
  },
  {
   "cell_type": "code",
   "execution_count": 17,
   "metadata": {},
   "outputs": [
    {
     "name": "stdout",
     "output_type": "stream",
     "text": [
      "class_model_LSTM(\n",
      "  (embedding): Embedding(10917, 50)\n",
      "  (lstm): LSTM(50, 300, num_layers=2, dropout=0.4, bidirectional=True)\n",
      "  (fc): Linear(in_features=600, out_features=2, bias=True)\n",
      "  (dropout): Dropout(p=0.4)\n",
      ")\n"
     ]
    }
   ],
   "source": [
    "print(model)"
   ]
  },
  {
   "cell_type": "raw",
   "metadata": {},
   "source": [
    "if in_notebook:\n",
    "    x, y = train\n",
    "    print(x.shape)\n",
    "    print(y.shape)\n",
    "    preds = model(x.cuda())\n",
    "    print(preds.shape)\n",
    "    print(y)\n",
    "    print(preds)\n",
    "    loss_func = nn.CrossEntropyLoss()\n",
    "    loss = loss_func(preds, y.cuda().long())"
   ]
  },
  {
   "cell_type": "code",
   "execution_count": 18,
   "metadata": {},
   "outputs": [],
   "source": [
    "model = torch.load('model_weights_imdb_300.pt')"
   ]
  },
  {
   "cell_type": "code",
   "execution_count": 19,
   "metadata": {},
   "outputs": [],
   "source": [
    "missclass = []\n",
    "missclass_next = []\n",
    "losses = []"
   ]
  },
  {
   "cell_type": "code",
   "execution_count": 58,
   "metadata": {},
   "outputs": [],
   "source": [
    "def run_epochs(model, train_dl, valid_dl, epochs=settings.epochs,\n",
    "               losses=[], missclass=[]):\n",
    "    \n",
    "    opt = optim.Adam(model.parameters(), lr=0.001, weight_decay=1e-6)\n",
    "    #opt = optim.Adam(model.parameters(), lr=0.001)\n",
    "    #loss_func = nn.NLLLoss()\n",
    "    loss_func = nn.CrossEntropyLoss()\n",
    "    \n",
    "    scheduler = optim.lr_scheduler.StepLR(opt, step_size=20, gamma=0.8)\n",
    "    \n",
    "    best_missclass_te = 1e10\n",
    "    \n",
    "    try: # Allow for user interrupt\n",
    " \n",
    "        for epoch in range(1, epochs + 1):\n",
    "            \n",
    "            scheduler.step()\n",
    "            running_loss = 0.0\n",
    "            running_corrects = 0\n",
    "            model.train() # turn on training mode\n",
    "\n",
    "            num_vals = 0\n",
    "            num_correct = 0\n",
    "\n",
    "            #pdb.set_trace()\n",
    "\n",
    "            for x, y in tqdm(train_dl, desc='Train {}/{}'.format(epoch, epochs)):\n",
    "                opt.zero_grad()\n",
    "                \n",
    "                if cuda:\n",
    "                    x = x.cuda()\n",
    "                    y = y.cuda()\n",
    "\n",
    "                preds = model(x)\n",
    "                loss = loss_func(preds, y.long())\n",
    "\n",
    "                loss.backward()\n",
    "                torch.nn.utils.clip_grad_norm_(model.parameters(), 0.25)\n",
    "                opt.step()\n",
    "\n",
    "                running_loss += loss.item() * x.size(0) / x.size(1)\n",
    "\n",
    "                _, y_preds = torch.max(preds, dim=1)\n",
    "                num_correct += torch.sum(y == y_preds).item()\n",
    "                num_vals += y.size(0)\n",
    "\n",
    "            #pdb.set_trace()\n",
    "\n",
    "            missclass_tr = 1 - num_correct / num_vals\n",
    "\n",
    "            epoch_loss = running_loss / len(train_dl)\n",
    "\n",
    "            num_vals = 0\n",
    "            num_correct = 0\n",
    "\n",
    "            # calculate the validation loss for this epoch\n",
    "            val_loss = 0.0\n",
    "            model.eval() # turn on evaluation mode\n",
    "            \n",
    "            with torch.no_grad():\n",
    "                for x, y in tqdm(valid_dl, desc='Valid {}/{}'.format(epoch, epochs)):\n",
    "                    if cuda:\n",
    "                        x = x.cuda()\n",
    "                        y = y.cuda()   \n",
    "                        \n",
    "                    preds = model(x)\n",
    "                    loss = loss_func(preds, y.long())\n",
    "\n",
    "                    val_loss += loss.item() * x.size(0) / x.size(1)\n",
    "\n",
    "                    _, y_preds = torch.max(preds, dim=1)\n",
    "                    num_correct += torch.sum(y == y_preds).item()\n",
    "                    num_vals += y.size(0)\n",
    "\n",
    "            #pdb.set_trace()\n",
    "\n",
    "            missclass_te = 1 - num_correct / num_vals\n",
    "            val_loss /= len(valid_dl)\n",
    "            \n",
    "            missclass.append((missclass_tr, missclass_te))\n",
    "            losses.append((epoch_loss, val_loss))\n",
    "\n",
    "            print('Epoch: {}/{}, Loss: [{:.4f}, {:.4f}], Miss: [{:.2%}, {:.2%}]'\\\n",
    "                  .format(epoch, epochs, epoch_loss, val_loss, \n",
    "                          missclass_tr, missclass_te))\n",
    "            sys.stdout.flush()\n",
    "\n",
    "            if missclass_te < best_missclass_te:\n",
    "                print('Improved validation. Saving weights file...', end=' ', flush=True)\n",
    "                torch.save(model, 'model_weights_imdb_300.pt')\n",
    "                print('Done.', flush=True)\n",
    "                best_missclass_te = missclass_te\n",
    "            \n",
    "    except KeyboardInterrupt:\n",
    "        print('Stopping with latest weights.')\n",
    "        \n",
    "    return model, opt, losses, missclass"
   ]
  },
  {
   "cell_type": "code",
   "execution_count": null,
   "metadata": {
    "scrolled": false
   },
   "outputs": [
    {
     "name": "stderr",
     "output_type": "stream",
     "text": [
      "\n",
      "Train 1/20:   0%|          | 0/23 [00:00<?, ?it/s]\u001b[A\n",
      "Train 1/20:   4%|▍         | 1/23 [00:05<01:53,  5.18s/it]\u001b[A\n",
      "Train 1/20:   9%|▊         | 2/23 [00:10<01:45,  5.03s/it]\u001b[A\n",
      "Train 1/20:  13%|█▎        | 3/23 [00:15<01:40,  5.03s/it]\u001b[A\n",
      "Train 1/20:  17%|█▋        | 4/23 [00:20<01:35,  5.04s/it]\u001b[A\n",
      "Train 1/20:  22%|██▏       | 5/23 [00:21<01:19,  4.39s/it]\u001b[A\n",
      "Train 1/20:  26%|██▌       | 6/23 [00:26<01:15,  4.43s/it]\u001b[A\n",
      "Train 1/20:  30%|███       | 7/23 [00:28<01:04,  4.02s/it]\u001b[A\n",
      "Train 1/20:  35%|███▍      | 8/23 [00:31<00:58,  3.92s/it]\u001b[A\n",
      "Train 1/20:  39%|███▉      | 9/23 [00:36<00:56,  4.03s/it]\u001b[A\n",
      "Train 1/20:  43%|████▎     | 10/23 [00:41<00:53,  4.10s/it]\u001b[A\n",
      "Train 1/20:  48%|████▊     | 11/23 [00:43<00:47,  4.00s/it]\u001b[A"
     ]
    }
   ],
   "source": [
    "model, opt, losses, missclass = run_epochs(model, train_dl, valid_dl, epochs=settings.epochs,\n",
    "                                           losses=losses, missclass=missclass)"
   ]
  },
  {
   "cell_type": "code",
   "execution_count": null,
   "metadata": {},
   "outputs": [],
   "source": []
  },
  {
   "cell_type": "code",
   "execution_count": 55,
   "metadata": {},
   "outputs": [
    {
     "data": {
      "text/plain": [
       "tensor(0.7326, grad_fn=<NllLossBackward>)"
      ]
     },
     "execution_count": 55,
     "metadata": {},
     "output_type": "execute_result"
    }
   ],
   "source": [
    "x, y = next(iter(valid_dl))\n",
    "if cuda:\n",
    "    x = x.cuda()\n",
    "    y = y.cuda()\n",
    "loss_func = nn.CrossEntropyLoss()\n",
    "preds = model(x)\n",
    "_, y_preds = torch.max(preds, dim=1)\n",
    "loss = loss_func(preds, y.long())\n",
    "loss"
   ]
  },
  {
   "cell_type": "code",
   "execution_count": 56,
   "metadata": {},
   "outputs": [
    {
     "name": "stdout",
     "output_type": "stream",
     "text": [
      "torch.Size([30])\n",
      "torch.Size([30, 2])\n",
      "tensor([1, 1, 1, 1, 0, 0, 0, 0, 1, 0, 0, 0, 0, 0, 1, 1, 0, 1, 1, 0, 0, 1, 0, 1,\n",
      "        1, 1, 1, 1, 0, 0])\n"
     ]
    }
   ],
   "source": [
    "print(y.shape)\n",
    "print(preds.shape)\n",
    "print(y[:])"
   ]
  },
  {
   "cell_type": "code",
   "execution_count": 57,
   "metadata": {
    "scrolled": true
   },
   "outputs": [
    {
     "name": "stdout",
     "output_type": "stream",
     "text": [
      "tensor([0, 0, 0, 0, 0, 0, 0, 1, 0, 0, 0, 0, 0, 1, 1, 1, 0, 0, 0, 0, 0, 1, 0, 1,\n",
      "        0, 1, 0, 0, 0, 1])\n",
      "tensor([[ 0.1608, -0.9555],\n",
      "        [-0.6362, -2.1231],\n",
      "        [-1.2002, -1.6165],\n",
      "        [-0.3683, -0.6674],\n",
      "        [-0.1611, -0.2611],\n",
      "        [-0.8421, -1.0881],\n",
      "        [-0.1018, -0.5144],\n",
      "        [-0.2862, -0.0487],\n",
      "        [-0.5665, -1.0523],\n",
      "        [ 0.4876, -0.0637],\n",
      "        [ 0.1155, -0.6675],\n",
      "        [ 0.4872, -0.8800],\n",
      "        [ 0.2381, -0.4446],\n",
      "        [-0.4284, -0.3409],\n",
      "        [-1.1512,  0.1265],\n",
      "        [-0.5341, -0.0977],\n",
      "        [-0.7971, -0.8583],\n",
      "        [ 0.3390, -1.3024],\n",
      "        [-0.2409, -0.9605],\n",
      "        [ 0.4017, -0.6220],\n",
      "        [ 0.7058, -0.5293],\n",
      "        [-1.4408, -0.0548],\n",
      "        [ 0.1927, -0.7282],\n",
      "        [-0.9544, -0.2841],\n",
      "        [ 0.0323, -1.1276],\n",
      "        [-0.3023, -0.1102],\n",
      "        [ 1.0060, -0.0546],\n",
      "        [-0.0917, -0.5666],\n",
      "        [-0.0321, -1.3386],\n",
      "        [-0.4960, -0.0767]], grad_fn=<ThAddmmBackward>)\n"
     ]
    }
   ],
   "source": [
    "print(y_preds[:])\n",
    "print(preds)"
   ]
  },
  {
   "cell_type": "code",
   "execution_count": 26,
   "metadata": {},
   "outputs": [
    {
     "data": {
      "image/png": "[encoded data removed]",
      "text/plain": [
       "<Figure size 432x288 with 1 Axes>"
      ]
     },
     "metadata": {
      "needs_background": "light"
     },
     "output_type": "display_data"
    }
   ],
   "source": [
    "if in_notebook:\n",
    "    plt.plot(losses)\n",
    "    plt.legend(['train', 'valid'])"
   ]
  },
  {
   "cell_type": "code",
   "execution_count": 27,
   "metadata": {},
   "outputs": [
    {
     "data": {
      "image/png": "[encoded data removed]",
      "text/plain": [
       "<Figure size 432x288 with 1 Axes>"
      ]
     },
     "metadata": {
      "needs_background": "light"
     },
     "output_type": "display_data"
    }
   ],
   "source": [
    "if in_notebook:\n",
    "    plt.plot(missclass)\n",
    "    plt.legend(['train', 'valid'])"
   ]
  },
  {
   "cell_type": "code",
   "execution_count": null,
   "metadata": {},
   "outputs": [],
   "source": []
  },
  {
   "cell_type": "code",
   "execution_count": null,
   "metadata": {},
   "outputs": [],
   "source": []
  },
  {
   "cell_type": "code",
   "execution_count": null,
   "metadata": {},
   "outputs": [],
   "source": []
  }
 ],
 "metadata": {
  "kernelspec": {
   "display_name": "Python 3",
   "language": "python",
   "name": "python3"
  },
  "language_info": {
   "codemirror_mode": {
    "name": "ipython",
    "version": 3
   },
   "file_extension": ".py",
   "mimetype": "text/x-python",
   "name": "python",
   "nbconvert_exporter": "python",
   "pygments_lexer": "ipython3",
   "version": "3.7.0"
  }
 },
 "nbformat": 4,
 "nbformat_minor": 2
}
