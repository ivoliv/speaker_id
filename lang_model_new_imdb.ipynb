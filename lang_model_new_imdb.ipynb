{
 "cells": [
  {
   "cell_type": "code",
   "execution_count": 1,
   "metadata": {},
   "outputs": [
    {
     "name": "stderr",
     "output_type": "stream",
     "text": [
      "/r/ge.unx.sas.com/vol/vol620/u62/ivoliv/.conda/envs/ONE/lib/python3.7/site-packages/sklearn/utils/__init__.py:4: DeprecationWarning: Using or importing the ABCs from 'collections' instead of from 'collections.abc' is deprecated, and in 3.8 it will stop working\n",
      "  from collections import Sequence\n"
     ]
    }
   ],
   "source": [
    "# To create python file:\n",
    "# jupyter nbconvert --to=python lang_model_new.ipynb\n",
    "\n",
    "import utils.data_import as data_import\n",
    "import utils.imdb_data as imdb_data\n",
    "import utils.ml_utils as ml_utils\n",
    "import model.neural as neural\n",
    "\n",
    "import torch\n",
    "import torch.nn as nn\n",
    "import torch.optim as optim\n",
    "\n",
    "from torchtext import data, vocab\n",
    "\n",
    "import os, sys\n",
    "import pdb\n",
    "import pandas as pd\n",
    "import numpy as np\n",
    "import math\n",
    "#from tqdm import tnrange, tqdm_notebook\n",
    "from tqdm import tqdm\n",
    "\n",
    "import importlib\n",
    "\n",
    "import settings\n",
    "\n",
    "np.random.seed(123)"
   ]
  },
  {
   "cell_type": "code",
   "execution_count": 2,
   "metadata": {},
   "outputs": [
    {
     "name": "stdout",
     "output_type": "stream",
     "text": [
      "Running in notebook: True\n"
     ]
    }
   ],
   "source": [
    "in_notebook = ml_utils.in_ipynb()\n",
    "print('Running in notebook:', in_notebook)"
   ]
  },
  {
   "cell_type": "code",
   "execution_count": 3,
   "metadata": {},
   "outputs": [
    {
     "name": "stdout",
     "output_type": "stream",
     "text": [
      "Cuda is available!\n",
      "Device: Tesla V100-SXM2-16GB\n"
     ]
    }
   ],
   "source": [
    "cuda = torch.cuda.is_available()\n",
    "if cuda:\n",
    "    print('Cuda is available!')\n",
    "    print('Device:', torch.cuda.get_device_name(torch.cuda.current_device()))\n",
    "else:\n",
    "    print('No cuda.')\n",
    "\n",
    "if in_notebook:\n",
    "    import matplotlib.pyplot as plt\n",
    "    %matplotlib inline"
   ]
  },
  {
   "cell_type": "code",
   "execution_count": 4,
   "metadata": {},
   "outputs": [
    {
     "name": "stdout",
     "output_type": "stream",
     "text": [
      "Importing vocab from vocab.p... Done.\n",
      "Imported vocab:  28,913\n",
      "Read total of: 50,000 lines from imdb file.\n",
      "Number of classes: 2: {'negative': 0, 'positive': 1}\n",
      "Generated train: 35,000 lines\n",
      "Generated valid: 7,500 lines\n",
      "Generated test:  7,500 lines\n"
     ]
    }
   ],
   "source": [
    "corpus = imdb_data.ImdbCorpus(filename=settings.imdb_file, lines=settings.lines_imbd, vocab_file='vocab.p')"
   ]
  },
  {
   "cell_type": "code",
   "execution_count": 5,
   "metadata": {},
   "outputs": [
    {
     "name": "stdout",
     "output_type": "stream",
     "text": [
      "[('<unk>', 1733408), ('the', 653597), ('.', 535762), ('a', 318371), ('and', 315184), ('of', 287528), ('to', 265938), ('is', 207019), ('in', 182891), ('i', 149475), ('this', 145807), ('it', 145327), ('that', 132656), ('was', 94346), ('as', 89665), ('for', 85808), ('with', 85765), ('but', 79567), ('movie', 74693), ('film', 65920)]\n",
      "[('negative', 25000), ('positive', 25000)]\n"
     ]
    }
   ],
   "source": [
    "if in_notebook:\n",
    "    print(corpus.vocab.most_frequent(to=20))\n",
    "    print(corpus.classes.most_frequent())"
   ]
  },
  {
   "cell_type": "code",
   "execution_count": 6,
   "metadata": {},
   "outputs": [
    {
     "name": "stdout",
     "output_type": "stream",
     "text": [
      "## sentiment: 1\n",
      "## text:      although compared with <unk> <unk> this film is in a league of its own . set in post apocalyptic <unk> this film is about <unk> struggle for <unk> he has lost his ability to <unk> and there is a remarkable shortage of women . congratulations luc <unk> <eol> \n",
      "\n",
      "## sentiment: 1\n",
      "## text:      anchors <unk> is an entertaining mgm musical that fans of the genre will enjoy but i <unk> rate it up there with classics like <unk> in the rain or the band wagon . this was the first of three musicals that gene kelly and frank sinatra appeared in together . kelly and sinatra play joe brady and clarence <unk> two sailors on leave in hollywood who befriend a young boy <unk> <unk> introduces them to his attractive young aunt <unk> <unk> a struggling actress who is working as an extra at mgm . though both guys are initially attracted to <unk> she eventually voices a preference to joe but clarence later hooks up with a <unk> <unk> <unk> he learns is from his hometown of brooklyn . the <unk> plot leaves room for several great musical numbers including <unk> hate to <unk> joe and <unk> lament to their fellow sailors as <unk> leaving the <unk> <unk> <unk> rendition of <unk> <unk> <unk> rendition of <unk> fall in love too <unk> <unk> number which is sadly deleted from some prints of this <unk> and <unk> worry <unk> a fantasy dance that kelly does with animated jerry the mouse from tom and jerry fame . kelly also does a sort of kissing bandit fantasy ballet which rivals his <unk> ballet in the later the pirate . kelly is in peak form <unk> in a robust and energetic performance that earned him his only oscar nomination for best actor and <unk> endearingly shy character here is undeniably sexy . an entertaining diversion for fans of the mgm musical factory . <eol> \n",
      "\n"
     ]
    }
   ],
   "source": [
    "if in_notebook:\n",
    "    corpus.train.show_stoklist(corpus.vocab, 2)"
   ]
  },
  {
   "cell_type": "code",
   "execution_count": 7,
   "metadata": {},
   "outputs": [
    {
     "name": "stdout",
     "output_type": "stream",
     "text": [
      "Batch size:        100\n",
      "Sequence length:   300\n",
      "Batchifying train...\n",
      " Number of batches: 350\n",
      " Preserved reviews: 35,000\n",
      " Matrix size:       torch.Size([105350, 100])\n",
      "Batchifying valid...\n",
      " Number of batches: 75\n",
      " Preserved reviews: 7,500\n",
      " Matrix size:       torch.Size([22575, 100])\n",
      "Batchifying test... \n",
      " Number of batches: 75\n",
      " Preserved reviews: 7,500\n",
      " Matrix size:       torch.Size([22575, 100])\n"
     ]
    }
   ],
   "source": [
    "corpus.batchify(batch_size=settings.batch_size_imdb, seq_length=settings.window_size_imbd)"
   ]
  },
  {
   "cell_type": "code",
   "execution_count": 8,
   "metadata": {},
   "outputs": [],
   "source": [
    "if in_notebook:\n",
    "    corpus.train.batch_start_end[:10]"
   ]
  },
  {
   "cell_type": "code",
   "execution_count": 9,
   "metadata": {},
   "outputs": [
    {
     "name": "stdout",
     "output_type": "stream",
     "text": [
      "## sentiment: 1\n",
      "## text:      [253, 2581, 119, 2, 2, 456, 3936, 27, 44, 28, 2633, 17, 55, 486, 16, 930, 44, 474, 8730, 2, 456, 3936, 27, 681, 2, 2777, 40, 2, 472, 278, 1395, 342, 4302, 23, 2, 38, 247, 27, 28, 1895, 6204, 17, 1668, 16, 7647, 23253, 2, 1]\n",
      "\n",
      "## sentiment: 1\n",
      "## text:      [7806, 2, 27, 145, 831, 19760, 712, 149, 2699, 17, 18, 10822, 290, 4240, 160, 1249, 2, 2627, 47, 285, 247, 119, 10827, 185, 2, 44, 18, 9025, 300, 18, 1718, 24257, 16, 456, 130, 18, 60, 17, 409, 8792, 149, 8618, 1369, 38, 8564, 20168, 2677, 44, 434, 16, 1369, 38, 20168, 647, 3320, 24953, 38, 24821, 2, 252, 9007, 93, 2323, 44, 3921, 74, 21055, 28, 430, 2111, 2, 2, 15554, 240, 23, 342, 17410, 430, 7056, 2, 2, 28, 2779, 3853, 74, 27, 715, 24, 145, 779, 275, 19760, 16, 1828, 113, 19363, 79, 695, 4114, 23, 2, 1791, 984, 7944, 28, 13974, 23, 3320, 160, 24821, 722, 24105, 285, 119, 28, 2, 2, 2, 472, 13730, 27, 115, 342, 7141, 17, 9272, 16, 18, 2, 381, 1982, 1686, 40, 721, 466, 712, 397, 1625, 2, 5464, 23, 2, 3320, 38, 2, 16380, 23, 283, 435, 9007, 24, 2, 1275, 18, 2, 2, 2, 5593, 17, 2, 2, 2, 5593, 17, 2, 5764, 44, 248, 758, 2, 2, 631, 310, 27, 24241, 6449, 115, 239, 16923, 17, 456, 2, 38, 2, 17664, 2, 28, 711, 3392, 149, 1369, 363, 119, 187, 7518, 18, 5563, 115, 5450, 38, 7518, 8060, 16, 1369, 99, 363, 28, 1438, 17, 13665, 7011, 711, 14624, 310, 933, 342, 2, 14624, 44, 18, 722, 18, 14472, 16, 1369, 27, 44, 5341, 347, 2, 44, 28, 15706, 38, 15865, 3881, 149, 2986, 664, 342, 269, 13116, 3884, 40, 614, 7442, 38, 2, 17359, 15623, 107, 6918, 27, 17627, 11897, 16, 145, 831, 17709, 40, 2699, 17, 18, 19760, 712, 5812, 16, 1]\n",
      "\n",
      "## sentiment: 1\n",
      "## text:      although compared with <unk> <unk> this film is in a league of its own . set in post apocalyptic <unk> this film is about <unk> struggle for <unk> he has lost his ability to <unk> and there is a remarkable shortage of women . congratulations luc <unk> <eol> \n",
      "\n",
      "## sentiment: 1\n",
      "## text:      anchors <unk> is an entertaining mgm musical that fans of the genre will enjoy but i <unk> rate it up there with classics like <unk> in the rain or the band wagon . this was the first of three musicals that gene kelly and frank sinatra appeared in together . kelly and sinatra play joe brady and clarence <unk> two sailors on leave in hollywood who befriend a young boy <unk> <unk> introduces them to his attractive young aunt <unk> <unk> a struggling actress who is working as an extra at mgm . though both guys are initially attracted to <unk> she eventually voices a preference to joe but clarence later hooks up with a <unk> <unk> <unk> he learns is from his hometown of brooklyn . the <unk> plot leaves room for several great musical numbers including <unk> hate to <unk> joe and <unk> lament to their fellow sailors as <unk> leaving the <unk> <unk> <unk> rendition of <unk> <unk> <unk> rendition of <unk> fall in love too <unk> <unk> number which is sadly deleted from some prints of this <unk> and <unk> worry <unk> a fantasy dance that kelly does with animated jerry the mouse from tom and jerry fame . kelly also does a sort of kissing bandit fantasy ballet which rivals his <unk> ballet in the later the pirate . kelly is in peak form <unk> in a robust and energetic performance that earned him his only oscar nomination for best actor and <unk> endearingly shy character here is undeniably sexy . an entertaining diversion for fans of the mgm musical factory . <eol> \n",
      "\n",
      "tensor([  253,  2581,   119,     2,     2,   456,  3936,    27,    44,    28,\n",
      "         2633,    17,    55,   486,    16,   930,    44,   474,  8730,     2,\n",
      "          456,  3936,    27,   681,     2,  2777,    40,     2,   472,   278,\n",
      "         1395,   342,  4302,    23,     2,    38,   247,    27,    28,  1895,\n",
      "         6204,    17,  1668,    16,  7647, 23253,     2,     1,     0,     0,\n",
      "            0,     0,     0,     0,     0,     0,     0,     0,     0,     0,\n",
      "            0,     0,     0,     0,     0,     0,     0,     0,     0,     0,\n",
      "            0,     0,     0,     0,     0,     0,     0,     0,     0,     0,\n",
      "            0,     0,     0,     0,     0,     0,     0,     0,     0,     0,\n",
      "            0,     0,     0,     0,     0,     0,     0,     0,     0,     0,\n",
      "            0,     0,     0,     0,     0,     0,     0,     0,     0,     0,\n",
      "            0,     0,     0,     0,     0,     0,     0,     0,     0,     0,\n",
      "            0,     0,     0,     0,     0,     0,     0,     0,     0,     0,\n",
      "            0,     0,     0,     0,     0,     0,     0,     0,     0,     0,\n",
      "            0,     0,     0,     0,     0,     0,     0,     0,     0,     0,\n",
      "            0,     0,     0,     0,     0,     0,     0,     0,     0,     0,\n",
      "            0,     0,     0,     0,     0,     0,     0,     0,     0,     0,\n",
      "            0,     0,     0,     0,     0,     0,     0,     0,     0,     0,\n",
      "            0,     0,     0,     0,     0,     0,     0,     0,     0,     0,\n",
      "            0,     0,     0,     0,     0,     0,     0,     0,     0,     0,\n",
      "            0,     0,     0,     0,     0,     0,     0,     0,     0,     0,\n",
      "            0,     0,     0,     0,     0,     0,     0,     0,     0,     0,\n",
      "            0,     0,     0,     0,     0,     0,     0,     0,     0,     0,\n",
      "            0,     0,     0,     0,     0,     0,     0,     0,     0,     0,\n",
      "            0,     0,     0,     0,     0,     0,     0,     0,     0,     0,\n",
      "            0,     0,     0,     0,     0,     0,     0,     0,     0,     0,\n",
      "            0,     0,     0,     0,     0,     0,     0,     0,     0,     0,\n",
      "            0,     0,     0,     0,     0,     0,     0,     0,     0,     0,\n",
      "            0,     0,     0,     0,     0,     0,     0,     0,     0,     0,\n",
      "            0,     0,     0,     0,     0,     0,     0,     0,     0,     0])\n"
     ]
    }
   ],
   "source": [
    "if in_notebook:\n",
    "    corpus.train.show_itoklist(2)\n",
    "    corpus.train.show_stoklist(corpus.vocab, 2)\n",
    "    print(corpus.train.batch_matrix[:settings.window_size_imbd,0])\n",
    "    #df = corpus.train.batch_stats()\n",
    "    #df.hist()"
   ]
  },
  {
   "cell_type": "code",
   "execution_count": 10,
   "metadata": {},
   "outputs": [],
   "source": [
    "train_dl = imdb_data.ImdbTextDataset(corpus.train)\n",
    "valid_dl = imdb_data.ImdbTextDataset(corpus.valid)\n",
    "test_dl = imdb_data.ImdbTextDataset(corpus.test)"
   ]
  },
  {
   "cell_type": "code",
   "execution_count": 11,
   "metadata": {},
   "outputs": [
    {
     "name": "stdout",
     "output_type": "stream",
     "text": [
      "(tensor([[  253,  1249,   564,  ...,    24,   456,  1223],\n",
      "        [ 2581,  9398,  3891,  ...,    28,  3936,     2],\n",
      "        [  119,  7773,   627,  ..., 14663,  4313,  6015],\n",
      "        ...,\n",
      "        [    0,     0,    18,  ...,     0,     0,     0],\n",
      "        [    0,     0, 15782,  ...,     0,     0,     0],\n",
      "        [    0,     0,   275,  ...,     0,     0,     0]]), tensor([1, 1, 1, 0, 0, 1, 0, 1, 1, 1, 1, 1, 0, 1, 0, 1, 1, 0, 0, 1, 1, 1, 1, 1,\n",
      "        0, 1, 0, 1, 1, 1, 0, 1, 1, 0, 1, 1, 0, 0, 1, 0, 1, 0, 0, 1, 1, 1, 0, 1,\n",
      "        0, 1, 0, 1, 1, 0, 1, 0, 0, 0, 1, 1, 0, 0, 1, 0, 1, 1, 0, 1, 0, 1, 1, 0,\n",
      "        1, 0, 0, 1, 1, 1, 0, 0, 0, 0, 1, 1, 0, 0, 0, 1, 1, 0, 0, 0, 0, 1, 0, 1,\n",
      "        0, 1, 0, 0]))\n"
     ]
    }
   ],
   "source": [
    "if in_notebook:\n",
    "    train = next(iter(train_dl))\n",
    "    print(train)"
   ]
  },
  {
   "cell_type": "code",
   "execution_count": 12,
   "metadata": {},
   "outputs": [
    {
     "name": "stdout",
     "output_type": "stream",
     "text": [
      "0 300\n",
      "i quit watching <unk> west <unk> after aaron <unk> quit writing and producing . it just <unk> the same . imagine my thrill at seeing a film that he wrote again . it has been a long time - the american <unk> a few good men . his script was a beautiful blend of humor and tragedy . he made a compelling story <unk> and made me <unk> at the same time <unk> tom hanks was incredible as a <unk> texas congressman whose constituents only wanted lower taxes and to keep their guns . not a hard <unk> so he had plenty of time to fool around - and that he did . his office staff looked as if he were at the playboy mansion . like he reportedly <unk> <unk> can teach them to <unk> but you <unk> teach them to grow <unk> <unk> despite his <unk> <unk> which fits right in with a texas <unk> they were fiercely <unk> especially his <unk> amy adams <unk> & former hooters <unk> <unk> <unk> add a rich texas <unk> who wants something done in <unk> played perfectly by julia <unk> and a <unk> cia <unk> superbly done by philip seymour <unk> and you have a movie well worth watching <unk> outstanding <unk> and <unk> <unk> and a story that needed to be told . what more do you want at the <unk> <eol> <pad> <pad> <pad> <pad> <pad> <pad> <pad> <pad> <pad> <pad> <pad> <pad> <pad> <pad> <pad> <pad> <pad> <pad> <pad> <pad> <pad> <pad> <pad> <pad> <pad> <pad> <pad> <pad> <pad> <pad> <pad> <pad> <pad> <pad> <pad> <pad> <pad> <pad> <pad> <pad> <pad> <pad> <pad> <pad> <pad> <pad> <pad> <pad> <pad> <pad> <pad> <pad> <pad> <pad> <pad> <pad> <pad> <pad> <pad> <pad> <pad> <pad> <pad> <pad> <pad> <pad> <pad> <pad> ## positive ##\n",
      "1 300\n",
      "in <unk> <unk> film death in <unk> it is not only the beauty in the surrounding world that <unk> but in the pursuit of beauty itself gustav von <unk> <unk> into a mere shell of a man . to understand the <unk> we must acknowledge the beauty which <unk> <unk> it is best <unk> and explained in a quote from <unk> found in thomas <unk> version of death in <unk> <unk> <unk> is lovely and visible at once it is the sole aspect of the spiritual which we can perceive through our senses else what if the <unk> if reason and virtue and truth were to speak to us through the <unk> should we not <unk> and become consumed by <unk> we see in the film this very thing <unk> the man becomes enveloped by a longing for <unk> which turns into a longing for the <unk> <unk> . even though the <unk> part of his mind tells him that adoration of beauty can lead to <unk> and <unk> he cannot contain himself . <unk> it would be easy to describe this as a beautiful <unk> early on we see the extravagance of the <unk> and we are treated to a perfect <unk> of <unk> century upper class <unk> all captured on film perfectly by cinematographer <unk> de <unk> . but <unk> does not indulge in the picturesque aspects of venice . <unk> the glorious and sensuous artistic achievements of the past are based on <unk> and sensuous <unk> and these things are relegated to the past . the city we know to be of <unk> beauty and uniqueness is nothing more than a leisure resort with a <unk> hotel staff . the streets become exhausting <unk> filled with <unk> <unk> and <unk> the city <unk> in step with the ## positive ##\n"
     ]
    }
   ],
   "source": [
    "if in_notebook:\n",
    "    for idx, (x, y) in enumerate(train_dl):\n",
    "        if idx >= 2:\n",
    "            break\n",
    "        print(idx, len(x[:,1]))\n",
    "        for i in x[:,1]:\n",
    "            print(corpus.vocab.itos[i], end=' ')\n",
    "        print('##', corpus.classes.itos[y[1].item()], '##')"
   ]
  },
  {
   "cell_type": "code",
   "execution_count": 13,
   "metadata": {},
   "outputs": [],
   "source": [
    "model = neural.class_model_LSTM(vocab_dim=len(corpus.vocab),\n",
    "                                emb_dim=settings.emb_dim,\n",
    "                                hidden_dim=settings.hidden_dim,\n",
    "                                n_layers=settings.num_layers,\n",
    "                                dropout=settings.dropout,\n",
    "                                n_classes=corpus.n_classes\n",
    "                               )"
   ]
  },
  {
   "cell_type": "code",
   "execution_count": 14,
   "metadata": {},
   "outputs": [],
   "source": [
    "if cuda:\n",
    "    model = model.cuda()"
   ]
  },
  {
   "cell_type": "code",
   "execution_count": 15,
   "metadata": {},
   "outputs": [
    {
     "name": "stdout",
     "output_type": "stream",
     "text": [
      "class_model_LSTM(\n",
      "  (embedding): Embedding(28913, 400)\n",
      "  (lstm): LSTM(400, 1150, num_layers=3, dropout=0.4, bidirectional=True)\n",
      "  (fc): Linear(in_features=2300, out_features=2, bias=True)\n",
      "  (dropout): Dropout(p=0.4)\n",
      ")\n"
     ]
    }
   ],
   "source": [
    "print(model)"
   ]
  },
  {
   "cell_type": "code",
   "execution_count": 16,
   "metadata": {},
   "outputs": [
    {
     "name": "stdout",
     "output_type": "stream",
     "text": [
      "torch.Size([300, 100])\n",
      "torch.Size([100])\n",
      "torch.Size([100, 2])\n",
      "tensor([1, 1, 1, 0, 0, 1, 0, 1, 1, 1, 1, 1, 0, 1, 0, 1, 1, 0, 0, 1, 1, 1, 1, 1,\n",
      "        0, 1, 0, 1, 1, 1, 0, 1, 1, 0, 1, 1, 0, 0, 1, 0, 1, 0, 0, 1, 1, 1, 0, 1,\n",
      "        0, 1, 0, 1, 1, 0, 1, 0, 0, 0, 1, 1, 0, 0, 1, 0, 1, 1, 0, 1, 0, 1, 1, 0,\n",
      "        1, 0, 0, 1, 1, 1, 0, 0, 0, 0, 1, 1, 0, 0, 0, 1, 1, 0, 0, 0, 0, 1, 0, 1,\n",
      "        0, 1, 0, 0])\n",
      "tensor([[-1.1585,  1.4205],\n",
      "        [-0.4210,  0.7204],\n",
      "        [ 0.1306, -0.9335],\n",
      "        [-0.9858, -0.7064],\n",
      "        [-0.9926,  0.5539],\n",
      "        [ 0.5553,  0.4723],\n",
      "        [-0.6417,  1.0560],\n",
      "        [-1.1098,  0.0025],\n",
      "        [-0.7963,  0.1655],\n",
      "        [-0.8318,  1.2251],\n",
      "        [-0.6818, -0.0533],\n",
      "        [ 0.1853,  0.3120],\n",
      "        [-0.2240,  0.0055],\n",
      "        [-0.9088, -1.6686],\n",
      "        [ 0.4185, -0.7908],\n",
      "        [ 0.4511, -0.2057],\n",
      "        [-0.0848,  0.3491],\n",
      "        [ 0.0031,  0.5372],\n",
      "        [-0.2153,  0.4052],\n",
      "        [-0.4473,  0.6796],\n",
      "        [-0.5870,  0.2751],\n",
      "        [-0.7017, -0.7393],\n",
      "        [-0.8939, -0.0539],\n",
      "        [-1.0644,  1.0445],\n",
      "        [-2.0188, -0.2941],\n",
      "        [-0.7224,  0.0253],\n",
      "        [-0.9213,  1.0566],\n",
      "        [-0.7498,  0.1096],\n",
      "        [-0.8562, -0.1339],\n",
      "        [-0.1683, -0.0939],\n",
      "        [-0.4142,  0.2611],\n",
      "        [-1.5553,  0.8764],\n",
      "        [-1.5707, -0.3825],\n",
      "        [-1.2634,  0.5242],\n",
      "        [-0.5964,  0.4254],\n",
      "        [-1.0411,  0.8884],\n",
      "        [-1.6384,  0.5100],\n",
      "        [-1.1955,  0.9960],\n",
      "        [-1.4881,  0.2187],\n",
      "        [-0.8775,  1.2700],\n",
      "        [-0.7430,  0.1359],\n",
      "        [-1.2957,  0.2551],\n",
      "        [-0.2206,  0.7336],\n",
      "        [-0.4404,  0.1304],\n",
      "        [-0.4697,  1.0065],\n",
      "        [-0.9453,  0.4734],\n",
      "        [-1.4450,  0.4962],\n",
      "        [-1.9266,  0.5297],\n",
      "        [-0.7022, -0.5111],\n",
      "        [-1.1260,  0.7496],\n",
      "        [-0.2703,  0.8749],\n",
      "        [-0.9930,  1.0323],\n",
      "        [-1.2471,  0.9928],\n",
      "        [-0.9686,  1.0072],\n",
      "        [-1.0427,  1.2878],\n",
      "        [-0.8778,  0.5411],\n",
      "        [-1.8693,  0.2707],\n",
      "        [-0.3735,  0.1018],\n",
      "        [-0.6463,  0.5347],\n",
      "        [-0.1616,  0.7608],\n",
      "        [-0.5053,  1.4790],\n",
      "        [-0.8040, -0.0013],\n",
      "        [-0.5360, -0.1619],\n",
      "        [-0.6753,  1.4100],\n",
      "        [-0.0652,  0.2876],\n",
      "        [-1.4045,  0.5513],\n",
      "        [-0.2410,  1.0452],\n",
      "        [ 0.1395,  0.0001],\n",
      "        [-0.7322, -0.5918],\n",
      "        [-1.0397, -0.4399],\n",
      "        [-1.0645,  0.4969],\n",
      "        [-0.8491,  0.5728],\n",
      "        [-0.2123,  1.1647],\n",
      "        [-1.8427,  1.0029],\n",
      "        [-0.4730,  0.0603],\n",
      "        [-1.6672,  0.0524],\n",
      "        [-0.6331, -0.0269],\n",
      "        [-0.4147,  0.4359],\n",
      "        [-0.5807,  0.7295],\n",
      "        [-1.1123,  1.2601],\n",
      "        [-1.1177, -0.4551],\n",
      "        [-0.5708,  0.9217],\n",
      "        [-0.7063, -0.0740],\n",
      "        [-1.4819, -0.7206],\n",
      "        [-0.1126, -0.1042],\n",
      "        [-0.5179,  0.5847],\n",
      "        [-0.9589,  0.6352],\n",
      "        [-0.5548,  0.0548],\n",
      "        [-0.3338,  0.8472],\n",
      "        [-1.2073,  0.3054],\n",
      "        [-1.2791,  0.5359],\n",
      "        [-0.7210, -0.0592],\n",
      "        [-0.4835, -0.9073],\n",
      "        [-1.1579,  1.0175],\n",
      "        [ 0.5162, -0.0102],\n",
      "        [-0.8311, -0.0891],\n",
      "        [ 0.6941,  0.8331],\n",
      "        [-0.9182,  0.6079],\n",
      "        [-0.0823,  0.5613],\n",
      "        [-0.0029,  0.3123]], device='cuda:0', grad_fn=<ThAddmmBackward>)\n"
     ]
    }
   ],
   "source": [
    "if in_notebook:\n",
    "    x, y = train\n",
    "    print(x.shape)\n",
    "    print(y.shape)\n",
    "    preds = model(x.cuda())\n",
    "    print(preds.shape)\n",
    "    print(y)\n",
    "    print(preds)\n",
    "    loss_func = nn.CrossEntropyLoss()\n",
    "    loss = loss_func(preds, y.cuda().long())"
   ]
  },
  {
   "cell_type": "code",
   "execution_count": 17,
   "metadata": {},
   "outputs": [],
   "source": [
    "model = torch.load('model_weights_imdb.pt')"
   ]
  },
  {
   "cell_type": "code",
   "execution_count": 18,
   "metadata": {},
   "outputs": [],
   "source": [
    "missclass = []\n",
    "missclass_next = []\n",
    "losses = []"
   ]
  },
  {
   "cell_type": "code",
   "execution_count": 19,
   "metadata": {},
   "outputs": [],
   "source": [
    "from sklearn import utils\n",
    "def run_epochs(model, train_dl, valid_dl, epochs=settings.epochs,\n",
    "               losses=[], missclass=[]):\n",
    "    \n",
    "    opt = optim.Adam(model.parameters(), lr=0.001, weight_decay=1e-6)\n",
    "    #opt = optim.Adam(model.parameters(), lr=0.001)\n",
    "    #loss_func = nn.NLLLoss()\n",
    "    loss_func = nn.CrossEntropyLoss()\n",
    "    \n",
    "    scheduler = optim.lr_scheduler.StepLR(opt, step_size=20, gamma=0.8)\n",
    "    \n",
    "    best_val_loss = 1e10\n",
    "    \n",
    "    try: # Allow for user interrupt\n",
    " \n",
    "        for epoch in range(1, epochs + 1):\n",
    "        \n",
    "            corpus.train.itoklist_df = utils.shuffle(corpus.train.itoklist_df)\n",
    "            corpus.batchify(batch_size=settings.batch_size_imdb, seq_length=settings.window_size_imbd, \n",
    "                            suppress_print=True)\n",
    "            \n",
    "            scheduler.step()\n",
    "            running_loss = 0.0\n",
    "            running_corrects = 0\n",
    "            model.train() # turn on training mode\n",
    "\n",
    "            num_vals = 0\n",
    "            num_correct = 0\n",
    "\n",
    "            #pdb.set_trace()\n",
    "\n",
    "            for x, y in tqdm(train_dl, desc='Train {}/{}'.format(epoch, epochs)):\n",
    "                opt.zero_grad()\n",
    "                \n",
    "                if cuda:\n",
    "                    x = x.cuda()\n",
    "                    y = y.cuda()\n",
    "\n",
    "                preds = model(x)\n",
    "                loss = loss_func(preds, y.long())\n",
    "\n",
    "                loss.backward()\n",
    "                torch.nn.utils.clip_grad_norm_(model.parameters(), 0.25)\n",
    "                opt.step()\n",
    "\n",
    "                running_loss += loss.item() * x.size(0) / x.size(1)\n",
    "\n",
    "                _, y_preds = torch.max(preds, dim=1)\n",
    "                num_correct += torch.sum(y == y_preds).item()\n",
    "                num_vals += y.size(0)\n",
    "\n",
    "            #pdb.set_trace()\n",
    "\n",
    "            missclass_tr = 1 - num_correct / num_vals\n",
    "\n",
    "            epoch_loss = running_loss / len(train_dl)\n",
    "\n",
    "            num_vals = 0\n",
    "            num_correct = 0\n",
    "\n",
    "            # calculate the validation loss for this epoch\n",
    "            val_loss = 0.0\n",
    "            model.eval() # turn on evaluation mode\n",
    "            \n",
    "            with torch.no_grad():\n",
    "                for x, y in tqdm(valid_dl, desc='Valid {}/{}'.format(epoch, epochs)):\n",
    "                    if cuda:\n",
    "                        x = x.cuda()\n",
    "                        y = y.cuda()   \n",
    "                        \n",
    "                    preds = model(x)\n",
    "                    loss = loss_func(preds, y.long())\n",
    "\n",
    "                    val_loss += loss.item() * x.size(0) / x.size(1)\n",
    "\n",
    "                    _, y_preds = torch.max(preds, dim=1)\n",
    "                    num_correct += torch.sum(y == y_preds).item()\n",
    "                    num_vals += y.size(0)\n",
    "\n",
    "            #pdb.set_trace()\n",
    "\n",
    "            missclass_te = 1 - num_correct / num_vals\n",
    "            val_loss /= len(valid_dl)\n",
    "            \n",
    "            missclass.append((missclass_tr, missclass_te))\n",
    "            losses.append((epoch_loss, val_loss))\n",
    "\n",
    "            print('Epoch: {}/{}, Loss: [{:.4f}, {:.4f}], Miss: [{:.2%}, {:.2%}]'\\\n",
    "                  .format(epoch, epochs, epoch_loss, val_loss, \n",
    "                          missclass_tr, missclass_te))\n",
    "            sys.stdout.flush()\n",
    "\n",
    "            if val_loss < best_val_loss:\n",
    "                print('Improved validation. Saving weights file...', end=' ', flush=True)\n",
    "                torch.save(model, 'model_weights_imdb_300.pt')\n",
    "                print('Done.', flush=True)\n",
    "                best_val_loss = val_loss\n",
    "            \n",
    "    except KeyboardInterrupt:\n",
    "        print('Stopping with latest weights.')\n",
    "        \n",
    "    return model, opt, losses, missclass"
   ]
  },
  {
   "cell_type": "code",
   "execution_count": 20,
   "metadata": {
    "scrolled": false
   },
   "outputs": [
    {
     "name": "stderr",
     "output_type": "stream",
     "text": [
      "Train 1/20:   0%|          | 0/350 [00:00<?, ?it/s]/net/nagennas02.unx.sas.com/vol/vol054/cas/ivoliv/projects/speaker_id/model/neural.py:112: UserWarning: RNN module weights are not part of single contiguous chunk of memory. This means they need to be compacted at every call, possibly greatly increasing memory usage. To compact weights again call flatten_parameters().\n",
      "  out, (hid, cel) = self.lstm(emb)\n",
      "Train 1/20: 100%|██████████| 350/350 [09:28<00:00,  1.62s/it]\n",
      "Valid 1/20: 100%|██████████| 75/75 [00:40<00:00,  1.86it/s]"
     ]
    },
    {
     "name": "stdout",
     "output_type": "stream",
     "text": [
      "Epoch: 1/20, Loss: [0.3553, 1.5029], Miss: [4.12%, 15.20%]\n",
      "Improved validation. Saving weights file... "
     ]
    },
    {
     "name": "stderr",
     "output_type": "stream",
     "text": [
      "\n"
     ]
    },
    {
     "name": "stdout",
     "output_type": "stream",
     "text": [
      "Done.\n"
     ]
    },
    {
     "name": "stderr",
     "output_type": "stream",
     "text": [
      "Train 2/20: 100%|██████████| 350/350 [09:29<00:00,  1.63s/it]\n",
      "Valid 2/20: 100%|██████████| 75/75 [00:40<00:00,  1.85it/s]"
     ]
    },
    {
     "name": "stdout",
     "output_type": "stream",
     "text": [
      "Epoch: 2/20, Loss: [0.1956, 2.1482], Miss: [1.99%, 16.00%]\n"
     ]
    },
    {
     "name": "stderr",
     "output_type": "stream",
     "text": [
      "\n",
      "Train 3/20: 100%|██████████| 350/350 [09:29<00:00,  1.63s/it]\n",
      "Valid 3/20: 100%|██████████| 75/75 [00:40<00:00,  1.85it/s]"
     ]
    },
    {
     "name": "stdout",
     "output_type": "stream",
     "text": [
      "Epoch: 3/20, Loss: [0.1479, 2.3425], Miss: [1.37%, 16.03%]\n"
     ]
    },
    {
     "name": "stderr",
     "output_type": "stream",
     "text": [
      "\n",
      "Train 4/20: 100%|██████████| 350/350 [09:29<00:00,  1.63s/it]\n",
      "Valid 4/20: 100%|██████████| 75/75 [00:40<00:00,  1.85it/s]"
     ]
    },
    {
     "name": "stdout",
     "output_type": "stream",
     "text": [
      "Epoch: 4/20, Loss: [0.1392, 2.3305], Miss: [1.28%, 15.47%]\n"
     ]
    },
    {
     "name": "stderr",
     "output_type": "stream",
     "text": [
      "\n",
      "Train 5/20: 100%|██████████| 350/350 [09:30<00:00,  1.63s/it]\n",
      "Valid 5/20: 100%|██████████| 75/75 [00:40<00:00,  1.85it/s]"
     ]
    },
    {
     "name": "stdout",
     "output_type": "stream",
     "text": [
      "Epoch: 5/20, Loss: [0.1512, 2.6016], Miss: [1.33%, 16.17%]\n"
     ]
    },
    {
     "name": "stderr",
     "output_type": "stream",
     "text": [
      "\n",
      "Train 6/20: 100%|██████████| 350/350 [09:29<00:00,  1.63s/it]\n",
      "Valid 6/20: 100%|██████████| 75/75 [00:40<00:00,  1.85it/s]"
     ]
    },
    {
     "name": "stdout",
     "output_type": "stream",
     "text": [
      "Epoch: 6/20, Loss: [0.1117, 2.4815], Miss: [0.97%, 15.45%]\n"
     ]
    },
    {
     "name": "stderr",
     "output_type": "stream",
     "text": [
      "\n",
      "Train 7/20: 100%|██████████| 350/350 [09:29<00:00,  1.63s/it]\n",
      "Valid 7/20: 100%|██████████| 75/75 [00:40<00:00,  1.85it/s]"
     ]
    },
    {
     "name": "stdout",
     "output_type": "stream",
     "text": [
      "Epoch: 7/20, Loss: [0.1008, 2.4267], Miss: [0.88%, 15.92%]\n"
     ]
    },
    {
     "name": "stderr",
     "output_type": "stream",
     "text": [
      "\n",
      "Train 8/20: 100%|██████████| 350/350 [09:29<00:00,  1.63s/it]\n",
      "Valid 8/20: 100%|██████████| 75/75 [00:40<00:00,  1.85it/s]"
     ]
    },
    {
     "name": "stdout",
     "output_type": "stream",
     "text": [
      "Epoch: 8/20, Loss: [0.0856, 2.3277], Miss: [0.68%, 15.71%]\n"
     ]
    },
    {
     "name": "stderr",
     "output_type": "stream",
     "text": [
      "\n",
      "Train 9/20: 100%|██████████| 350/350 [09:29<00:00,  1.63s/it]\n",
      "Valid 9/20: 100%|██████████| 75/75 [00:40<00:00,  1.85it/s]"
     ]
    },
    {
     "name": "stdout",
     "output_type": "stream",
     "text": [
      "Epoch: 9/20, Loss: [0.0992, 2.6411], Miss: [0.77%, 15.84%]\n"
     ]
    },
    {
     "name": "stderr",
     "output_type": "stream",
     "text": [
      "\n",
      "Train 10/20: 100%|██████████| 350/350 [09:30<00:00,  1.63s/it]\n",
      "Valid 10/20: 100%|██████████| 75/75 [00:40<00:00,  1.85it/s]"
     ]
    },
    {
     "name": "stdout",
     "output_type": "stream",
     "text": [
      "Epoch: 10/20, Loss: [0.0992, 2.5972], Miss: [0.86%, 15.73%]\n"
     ]
    },
    {
     "name": "stderr",
     "output_type": "stream",
     "text": [
      "\n",
      "Train 11/20: 100%|██████████| 350/350 [09:30<00:00,  1.63s/it]\n",
      "Valid 11/20: 100%|██████████| 75/75 [00:40<00:00,  1.85it/s]"
     ]
    },
    {
     "name": "stdout",
     "output_type": "stream",
     "text": [
      "Epoch: 11/20, Loss: [0.0883, 3.1651], Miss: [0.71%, 15.29%]\n"
     ]
    },
    {
     "name": "stderr",
     "output_type": "stream",
     "text": [
      "\n",
      "Train 12/20: 100%|██████████| 350/350 [09:30<00:00,  1.63s/it]\n",
      "Valid 12/20: 100%|██████████| 75/75 [00:40<00:00,  1.85it/s]"
     ]
    },
    {
     "name": "stdout",
     "output_type": "stream",
     "text": [
      "Epoch: 12/20, Loss: [0.0761, 2.5229], Miss: [0.62%, 15.23%]\n"
     ]
    },
    {
     "name": "stderr",
     "output_type": "stream",
     "text": [
      "\n",
      "Train 13/20: 100%|██████████| 350/350 [09:30<00:00,  1.63s/it]\n",
      "Valid 13/20: 100%|██████████| 75/75 [00:40<00:00,  1.85it/s]"
     ]
    },
    {
     "name": "stdout",
     "output_type": "stream",
     "text": [
      "Epoch: 13/20, Loss: [0.0798, 2.9151], Miss: [0.65%, 15.67%]\n"
     ]
    },
    {
     "name": "stderr",
     "output_type": "stream",
     "text": [
      "\n",
      "Train 14/20: 100%|██████████| 350/350 [09:30<00:00,  1.63s/it]\n",
      "Valid 14/20: 100%|██████████| 75/75 [00:40<00:00,  1.85it/s]"
     ]
    },
    {
     "name": "stdout",
     "output_type": "stream",
     "text": [
      "Epoch: 14/20, Loss: [0.0837, 2.6437], Miss: [0.67%, 15.27%]\n"
     ]
    },
    {
     "name": "stderr",
     "output_type": "stream",
     "text": [
      "\n",
      "Train 15/20: 100%|██████████| 350/350 [09:31<00:00,  1.63s/it]\n",
      "Valid 15/20: 100%|██████████| 75/75 [00:40<00:00,  1.85it/s]"
     ]
    },
    {
     "name": "stdout",
     "output_type": "stream",
     "text": [
      "Epoch: 15/20, Loss: [0.0806, 2.5003], Miss: [0.61%, 15.07%]\n"
     ]
    },
    {
     "name": "stderr",
     "output_type": "stream",
     "text": [
      "\n",
      "Train 16/20: 100%|██████████| 350/350 [09:30<00:00,  1.63s/it]\n",
      "Valid 16/20: 100%|██████████| 75/75 [00:40<00:00,  1.85it/s]"
     ]
    },
    {
     "name": "stdout",
     "output_type": "stream",
     "text": [
      "Epoch: 16/20, Loss: [0.0665, 2.7086], Miss: [0.49%, 15.51%]\n"
     ]
    },
    {
     "name": "stderr",
     "output_type": "stream",
     "text": [
      "\n",
      "Train 17/20: 100%|██████████| 350/350 [09:30<00:00,  1.63s/it]\n",
      "Valid 17/20: 100%|██████████| 75/75 [00:40<00:00,  1.86it/s]"
     ]
    },
    {
     "name": "stdout",
     "output_type": "stream",
     "text": [
      "Epoch: 17/20, Loss: [0.0795, 3.0732], Miss: [0.60%, 15.53%]\n"
     ]
    },
    {
     "name": "stderr",
     "output_type": "stream",
     "text": [
      "\n",
      "Train 18/20: 100%|██████████| 350/350 [09:30<00:00,  1.63s/it]\n",
      "Valid 18/20: 100%|██████████| 75/75 [00:40<00:00,  1.85it/s]"
     ]
    },
    {
     "name": "stdout",
     "output_type": "stream",
     "text": [
      "Epoch: 18/20, Loss: [0.0864, 3.2336], Miss: [0.62%, 15.63%]\n"
     ]
    },
    {
     "name": "stderr",
     "output_type": "stream",
     "text": [
      "\n",
      "Train 19/20: 100%|██████████| 350/350 [09:29<00:00,  1.63s/it]\n",
      "Valid 19/20: 100%|██████████| 75/75 [00:40<00:00,  1.85it/s]"
     ]
    },
    {
     "name": "stdout",
     "output_type": "stream",
     "text": [
      "Epoch: 19/20, Loss: [0.0977, 2.9684], Miss: [0.71%, 16.07%]\n"
     ]
    },
    {
     "name": "stderr",
     "output_type": "stream",
     "text": [
      "\n",
      "Train 20/20: 100%|██████████| 350/350 [09:29<00:00,  1.63s/it]\n",
      "Valid 20/20: 100%|██████████| 75/75 [00:40<00:00,  1.85it/s]"
     ]
    },
    {
     "name": "stdout",
     "output_type": "stream",
     "text": [
      "Epoch: 20/20, Loss: [0.0818, 2.9165], Miss: [0.59%, 15.21%]\n"
     ]
    },
    {
     "name": "stderr",
     "output_type": "stream",
     "text": [
      "\n"
     ]
    }
   ],
   "source": [
    "model, opt, losses, missclass = run_epochs(model, train_dl, valid_dl, epochs=settings.epochs,\n",
    "                                           losses=losses, missclass=missclass)"
   ]
  },
  {
   "cell_type": "code",
   "execution_count": 21,
   "metadata": {},
   "outputs": [
    {
     "name": "stderr",
     "output_type": "stream",
     "text": [
      "/net/nagennas02.unx.sas.com/vol/vol054/cas/ivoliv/projects/speaker_id/model/neural.py:112: UserWarning: RNN module weights are not part of single contiguous chunk of memory. This means they need to be compacted at every call, possibly greatly increasing memory usage. To compact weights again call flatten_parameters().\n",
      "  out, (hid, cel) = self.lstm(emb)\n"
     ]
    },
    {
     "data": {
      "text/plain": [
       "tensor(0.8629, device='cuda:0', grad_fn=<NllLossBackward>)"
      ]
     },
     "execution_count": 21,
     "metadata": {},
     "output_type": "execute_result"
    }
   ],
   "source": [
    "x, y = next(iter(valid_dl))\n",
    "if cuda:\n",
    "    x = x.cuda()\n",
    "    y = y.cuda()\n",
    "loss_func = nn.CrossEntropyLoss()\n",
    "preds = model(x)\n",
    "_, y_preds = torch.max(preds, dim=1)\n",
    "loss = loss_func(preds, y.long())\n",
    "loss"
   ]
  },
  {
   "cell_type": "code",
   "execution_count": 22,
   "metadata": {},
   "outputs": [
    {
     "name": "stdout",
     "output_type": "stream",
     "text": [
      "torch.Size([100])\n",
      "tensor([0, 1, 0, 1, 1, 0, 1, 0, 0, 0, 1, 1, 0, 1, 1, 1, 1, 1, 1, 0, 1, 1, 1, 1,\n",
      "        1, 1, 1, 0, 0, 1, 0, 1, 1, 1, 0, 1, 0, 1, 0, 1, 1, 1, 1, 1, 1, 1, 0, 0,\n",
      "        1, 0, 1, 0, 1, 1, 1, 0, 1, 0, 0, 1, 1, 0, 1, 0, 0, 1, 1, 0, 0, 0, 1, 0,\n",
      "        1, 0, 0, 1, 1, 0, 0, 1, 1, 1, 1, 0, 1, 1, 1, 0, 0, 0, 0, 1, 0, 1, 1, 1,\n",
      "        1, 0, 0, 1], device='cuda:0')\n"
     ]
    }
   ],
   "source": [
    "print(y.shape)\n",
    "print(y[:])"
   ]
  },
  {
   "cell_type": "code",
   "execution_count": 23,
   "metadata": {
    "scrolled": true
   },
   "outputs": [
    {
     "name": "stdout",
     "output_type": "stream",
     "text": [
      "tensor([0, 1, 1, 1, 1, 0, 1, 1, 0, 1, 1, 1, 0, 0, 1, 1, 1, 1, 1, 0, 1, 1, 1, 1,\n",
      "        0, 0, 0, 1, 0, 1, 0, 1, 1, 1, 0, 1, 0, 1, 0, 0, 1, 1, 1, 1, 1, 1, 0, 0,\n",
      "        1, 0, 1, 0, 1, 1, 1, 0, 1, 0, 0, 1, 1, 0, 0, 0, 0, 1, 1, 0, 0, 0, 1, 0,\n",
      "        1, 0, 0, 1, 1, 1, 0, 1, 1, 1, 1, 1, 0, 1, 1, 0, 0, 0, 0, 1, 0, 0, 0, 1,\n",
      "        1, 0, 0, 1], device='cuda:0')\n",
      "tensor([[ 3.4342, -2.0549],\n",
      "        [-4.8462,  5.8863],\n",
      "        [ 0.4481,  0.6714],\n",
      "        [-4.9134,  6.0739],\n",
      "        [-4.9111,  5.9919],\n",
      "        [ 3.2857, -2.0364],\n",
      "        [-4.7708,  5.9538],\n",
      "        [-4.5555,  5.4884],\n",
      "        [ 3.2811, -2.0755],\n",
      "        [-4.9187,  6.0091],\n",
      "        [-4.9112,  6.0499],\n",
      "        [-4.9190,  6.0095],\n",
      "        [ 3.2643, -2.0329],\n",
      "        [ 3.1808, -1.9745],\n",
      "        [-4.9212,  6.0151],\n",
      "        [-2.8726,  4.0308],\n",
      "        [-4.3684,  5.4877],\n",
      "        [-4.8027,  5.8680],\n",
      "        [-4.9648,  6.0747],\n",
      "        [ 3.2074, -2.0145],\n",
      "        [-4.8868,  6.0011],\n",
      "        [-4.8969,  6.0239],\n",
      "        [-0.3235,  1.3123],\n",
      "        [-4.9048,  6.0258],\n",
      "        [ 2.0737, -0.9495],\n",
      "        [ 3.1823, -1.9909],\n",
      "        [ 1.5727, -0.5431],\n",
      "        [-2.5455,  3.8045],\n",
      "        [ 3.2269, -2.0127],\n",
      "        [-4.8656,  5.9347],\n",
      "        [ 3.2549, -2.0516],\n",
      "        [-4.9140,  6.0644],\n",
      "        [-4.9197,  6.0100],\n",
      "        [-4.9601,  6.0490],\n",
      "        [ 3.2661, -2.0651],\n",
      "        [-4.3839,  5.4794],\n",
      "        [ 3.2509, -2.0534],\n",
      "        [-4.9420,  5.9766],\n",
      "        [ 3.2490, -2.0215],\n",
      "        [ 3.0549, -1.8749],\n",
      "        [-4.9448,  5.9893],\n",
      "        [-4.9634,  6.0521],\n",
      "        [-2.4280,  3.6250],\n",
      "        [-4.9286,  6.0123],\n",
      "        [-4.2331,  5.2412],\n",
      "        [-4.9642,  6.0572],\n",
      "        [ 3.3611, -1.9325],\n",
      "        [ 1.7989, -0.6856],\n",
      "        [-4.9050,  5.9818],\n",
      "        [ 3.2289, -2.0102],\n",
      "        [-4.9520,  6.0104],\n",
      "        [ 2.7458, -1.4598],\n",
      "        [-4.9606,  6.0249],\n",
      "        [-0.6695,  1.9468],\n",
      "        [-4.8922,  5.9647],\n",
      "        [ 3.2068, -2.0202],\n",
      "        [-4.9203,  6.0191],\n",
      "        [ 3.2227, -2.0028],\n",
      "        [ 1.9348, -0.6138],\n",
      "        [-4.8861,  6.0109],\n",
      "        [-4.9642,  6.0367],\n",
      "        [ 3.3935, -1.9551],\n",
      "        [ 3.4279, -1.9808],\n",
      "        [ 3.2763, -2.0400],\n",
      "        [ 3.1661, -1.9436],\n",
      "        [-4.9136,  5.9287],\n",
      "        [-4.9426,  6.0158],\n",
      "        [ 3.2747, -2.0423],\n",
      "        [ 3.2435, -2.0532],\n",
      "        [ 3.2527, -2.0243],\n",
      "        [-4.9257,  5.9520],\n",
      "        [ 3.3988, -1.9673],\n",
      "        [-4.9147,  5.9962],\n",
      "        [ 3.1733, -1.9599],\n",
      "        [ 3.2535, -2.0236],\n",
      "        [-4.9075,  6.0385],\n",
      "        [-4.9427,  5.9984],\n",
      "        [-4.8829,  5.9883],\n",
      "        [ 3.4481, -2.0791],\n",
      "        [ 0.2844,  0.9257],\n",
      "        [-4.8858,  5.9408],\n",
      "        [-4.8731,  5.9273],\n",
      "        [-4.9622,  6.0289],\n",
      "        [-3.4969,  4.5470],\n",
      "        [ 2.1915, -0.9915],\n",
      "        [-4.2358,  5.1268],\n",
      "        [-4.9138,  6.0570],\n",
      "        [ 3.2524, -2.0586],\n",
      "        [ 3.2424, -2.0215],\n",
      "        [ 3.2842, -2.0407],\n",
      "        [ 3.2890, -2.0825],\n",
      "        [-4.9522,  6.0364],\n",
      "        [ 3.2348, -2.0123],\n",
      "        [ 3.2080, -1.9849],\n",
      "        [ 2.5054, -1.2840],\n",
      "        [-1.8704,  2.9294],\n",
      "        [-4.9624,  6.0520],\n",
      "        [ 3.1097, -1.8812],\n",
      "        [ 3.1851, -1.9895],\n",
      "        [-4.9580,  6.0321]], device='cuda:0', grad_fn=<ThAddmmBackward>)\n"
     ]
    }
   ],
   "source": [
    "print(y_preds[:])\n",
    "print(preds)"
   ]
  },
  {
   "cell_type": "code",
   "execution_count": 24,
   "metadata": {},
   "outputs": [
    {
     "data": {
      "image/png": "[encoded data removed]",
      "text/plain": [
       "<Figure size 432x288 with 1 Axes>"
      ]
     },
     "metadata": {
      "needs_background": "light"
     },
     "output_type": "display_data"
    }
   ],
   "source": [
    "if in_notebook:\n",
    "    plt.plot(losses)\n",
    "    plt.legend(['train', 'valid'])"
   ]
  },
  {
   "cell_type": "code",
   "execution_count": 25,
   "metadata": {},
   "outputs": [
    {
     "data": {
      "image/png": "[encoded data removed]",
      "text/plain": [
       "<Figure size 432x288 with 1 Axes>"
      ]
     },
     "metadata": {
      "needs_background": "light"
     },
     "output_type": "display_data"
    }
   ],
   "source": [
    "if in_notebook:\n",
    "    plt.plot(missclass)\n",
    "    plt.legend(['train', 'valid'])"
   ]
  },
  {
   "cell_type": "code",
   "execution_count": null,
   "metadata": {},
   "outputs": [],
   "source": []
  },
  {
   "cell_type": "code",
   "execution_count": null,
   "metadata": {},
   "outputs": [],
   "source": []
  },
  {
   "cell_type": "code",
   "execution_count": null,
   "metadata": {},
   "outputs": [],
   "source": []
  }
 ],
 "metadata": {
  "kernelspec": {
   "display_name": "Python 3",
   "language": "python",
   "name": "python3"
  },
  "language_info": {
   "codemirror_mode": {
    "name": "ipython",
    "version": 3
   },
   "file_extension": ".py",
   "mimetype": "text/x-python",
   "name": "python",
   "nbconvert_exporter": "python",
   "pygments_lexer": "ipython3",
   "version": "3.7.0"
  }
 },
 "nbformat": 4,
 "nbformat_minor": 2
}
