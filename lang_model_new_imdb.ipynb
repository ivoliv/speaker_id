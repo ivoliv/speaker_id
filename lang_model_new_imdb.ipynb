{
 "cells": [
  {
   "cell_type": "code",
   "execution_count": 1,
   "metadata": {},
   "outputs": [
    {
     "name": "stderr",
     "output_type": "stream",
     "text": [
      "/anaconda3/envs/ONE/lib/python3.7/site-packages/sklearn/utils/__init__.py:4: DeprecationWarning: Using or importing the ABCs from 'collections' instead of from 'collections.abc' is deprecated, and in 3.8 it will stop working\n",
      "  from collections import Sequence\n"
     ]
    }
   ],
   "source": [
    "# To create python file:\n",
    "# jupyter nbconvert --to=python lang_model_new.ipynb\n",
    "\n",
    "import utils.data_import as data_import\n",
    "import utils.imdb_data as imdb_data\n",
    "import utils.ml_utils as ml_utils\n",
    "import model.neural as neural\n",
    "\n",
    "import torch\n",
    "import torch.nn as nn\n",
    "import torch.optim as optim\n",
    "\n",
    "from torchtext import data, vocab\n",
    "\n",
    "import os, sys\n",
    "import pdb\n",
    "import pandas as pd\n",
    "import numpy as np\n",
    "import math\n",
    "#from tqdm import tnrange, tqdm_notebook\n",
    "from tqdm import tqdm\n",
    "\n",
    "import importlib\n",
    "\n",
    "import settings\n",
    "\n",
    "np.random.seed(123)"
   ]
  },
  {
   "cell_type": "code",
   "execution_count": 2,
   "metadata": {},
   "outputs": [
    {
     "name": "stdout",
     "output_type": "stream",
     "text": [
      "Running in notebook: True\n"
     ]
    }
   ],
   "source": [
    "in_notebook = ml_utils.in_ipynb()\n",
    "print('Running in notebook:', in_notebook)"
   ]
  },
  {
   "cell_type": "code",
   "execution_count": 3,
   "metadata": {},
   "outputs": [
    {
     "name": "stdout",
     "output_type": "stream",
     "text": [
      "No cuda.\n"
     ]
    }
   ],
   "source": [
    "cuda = torch.cuda.is_available()\n",
    "if cuda:\n",
    "    print('Cuda is available!')\n",
    "    print('Device:', torch.cuda.get_device_name(torch.cuda.current_device()))\n",
    "else:\n",
    "    print('No cuda.')\n",
    "\n",
    "if in_notebook:\n",
    "    import matplotlib.pyplot as plt\n",
    "    %matplotlib inline"
   ]
  },
  {
   "cell_type": "code",
   "execution_count": 4,
   "metadata": {},
   "outputs": [
    {
     "name": "stdout",
     "output_type": "stream",
     "text": [
      "Importing vocab from vocab.p... Done.\n",
      "Imported vocab:  10,954\n",
      "Read total of: 1,000 lines from imdb file.\n",
      "Number of classes: 2: {'negative': 0, 'positive': 1}\n",
      "Generated train: 700 lines\n",
      "Generated valid: 150 lines\n",
      "Generated test:  150 lines\n"
     ]
    },
    {
     "name": "stderr",
     "output_type": "stream",
     "text": [
      "/anaconda3/envs/ONE/lib/python3.7/site-packages/pandas/core/indexing.py:362: SettingWithCopyWarning: \n",
      "A value is trying to be set on a copy of a slice from a DataFrame.\n",
      "Try using .loc[row_indexer,col_indexer] = value instead\n",
      "\n",
      "See the caveats in the documentation: http://pandas.pydata.org/pandas-docs/stable/indexing.html#indexing-view-versus-copy\n",
      "  self.obj[key] = _infer_fill_value(value)\n",
      "/anaconda3/envs/ONE/lib/python3.7/site-packages/pandas/core/indexing.py:543: SettingWithCopyWarning: \n",
      "A value is trying to be set on a copy of a slice from a DataFrame.\n",
      "Try using .loc[row_indexer,col_indexer] = value instead\n",
      "\n",
      "See the caveats in the documentation: http://pandas.pydata.org/pandas-docs/stable/indexing.html#indexing-view-versus-copy\n",
      "  self.obj[item] = s\n"
     ]
    },
    {
     "data": {
      "text/html": [
       "<div>\n",
       "<style scoped>\n",
       "    .dataframe tbody tr th:only-of-type {\n",
       "        vertical-align: middle;\n",
       "    }\n",
       "\n",
       "    .dataframe tbody tr th {\n",
       "        vertical-align: top;\n",
       "    }\n",
       "\n",
       "    .dataframe thead th {\n",
       "        text-align: right;\n",
       "    }\n",
       "</style>\n",
       "<table border=\"1\" class=\"dataframe\">\n",
       "  <thead>\n",
       "    <tr style=\"text-align: right;\">\n",
       "      <th></th>\n",
       "      <th>sentiment</th>\n",
       "      <th>review</th>\n",
       "      <th>len</th>\n",
       "    </tr>\n",
       "  </thead>\n",
       "  <tbody>\n",
       "    <tr>\n",
       "      <th>498</th>\n",
       "      <td>0</td>\n",
       "      <td>[1249, 9389, 38, 1384, 38, 2, 5207, 119, 18, 2...</td>\n",
       "      <td>206</td>\n",
       "    </tr>\n",
       "    <tr>\n",
       "      <th>243</th>\n",
       "      <td>0</td>\n",
       "      <td>[456, 1871, 23, 2158, 7264, 3995, 10618, 185, ...</td>\n",
       "      <td>185</td>\n",
       "    </tr>\n",
       "    <tr>\n",
       "      <th>314</th>\n",
       "      <td>0</td>\n",
       "      <td>[247, 130, 158, 216, 154, 598, 44, 456, 57, 16...</td>\n",
       "      <td>142</td>\n",
       "    </tr>\n",
       "    <tr>\n",
       "      <th>202</th>\n",
       "      <td>0</td>\n",
       "      <td>[140, 241, 2819, 18, 3922, 18, 60, 5290, 2, 44...</td>\n",
       "      <td>114</td>\n",
       "    </tr>\n",
       "    <tr>\n",
       "      <th>300</th>\n",
       "      <td>0</td>\n",
       "      <td>[2, 2, 300, 10611, 5830, 24, 2, 105, 21, 387, ...</td>\n",
       "      <td>889</td>\n",
       "    </tr>\n",
       "  </tbody>\n",
       "</table>\n",
       "</div>"
      ],
      "text/plain": [
       "     sentiment                                             review  len\n",
       "498          0  [1249, 9389, 38, 1384, 38, 2, 5207, 119, 18, 2...  206\n",
       "243          0  [456, 1871, 23, 2158, 7264, 3995, 10618, 185, ...  185\n",
       "314          0  [247, 130, 158, 216, 154, 598, 44, 456, 57, 16...  142\n",
       "202          0  [140, 241, 2819, 18, 3922, 18, 60, 5290, 2, 44...  114\n",
       "300          0  [2, 2, 300, 10611, 5830, 24, 2, 105, 21, 387, ...  889"
      ]
     },
     "execution_count": 4,
     "metadata": {},
     "output_type": "execute_result"
    }
   ],
   "source": [
    "corpus = imdb_data.ImdbCorpus(filename=settings.imdb_file, lines=settings.lines_imbd, vocab_file='vocab.p')\n",
    "corpus.train.itoklist_df.head()"
   ]
  },
  {
   "cell_type": "raw",
   "metadata": {},
   "source": [
    "if in_notebook:\n",
    "    print(corpus.vocab.most_frequent(to=20))\n",
    "    print(corpus.classes.most_frequent())"
   ]
  },
  {
   "cell_type": "raw",
   "metadata": {},
   "source": [
    "if in_notebook:\n",
    "    corpus.train.show_stoklist(corpus.vocab, 2)"
   ]
  },
  {
   "cell_type": "raw",
   "metadata": {},
   "source": [
    "corpus.train.itoklist_df = utils.shuffle(corpus.train.itoklist_df)\n",
    "corpus.batchify(batch_size=settings.batch_size_imdb, seq_length=settings.window_size_imbd)"
   ]
  },
  {
   "cell_type": "raw",
   "metadata": {},
   "source": [
    "corpus.train.itoklist_df.head()"
   ]
  },
  {
   "cell_type": "raw",
   "metadata": {},
   "source": [
    "seqlengths = np.array(corpus.train.batch_start_end) \n",
    "seqlengths = seqlengths[:,1] - seqlengths[:,0] - 1\n",
    "display(seqlengths)\n",
    "rand_range=5"
   ]
  },
  {
   "cell_type": "raw",
   "metadata": {},
   "source": [
    "if in_notebook:\n",
    "    corpus.train.show_itoklist(3)\n",
    "    corpus.train.show_stoklist(corpus.vocab, 3)\n",
    "    print(corpus.train.batch_matrix[corpus.train.batch_start_end[0][0]:corpus.train.batch_start_end[0][1],2])\n",
    "    #df = corpus.train.batch_stats()\n",
    "    #df.hist()"
   ]
  },
  {
   "cell_type": "code",
   "execution_count": 5,
   "metadata": {},
   "outputs": [
    {
     "name": "stdout",
     "output_type": "stream",
     "text": [
      " Number of batches: 23\n",
      " Preserved texts: 690\n",
      " Matrix size:       torch.Size([3627, 30])\n",
      " Number of batches: 5\n",
      " Preserved texts: 150\n",
      " Matrix size:       torch.Size([846, 30])\n",
      " Number of batches: 5\n",
      " Preserved texts: 150\n",
      " Matrix size:       torch.Size([834, 30])\n"
     ]
    }
   ],
   "source": [
    "train_dl = imdb_data.ImdbTextDataset(corpus.train, pad_idx=corpus.vocab.stoi['<pad>'],\n",
    "                                     batch_size=settings.batch_size_imdb, seq_length=settings.window_size_imbd, \n",
    "                                     rand_range=5, sort=True, rebatch_and_shuffle=True)\n",
    "valid_dl = imdb_data.ImdbTextDataset(corpus.valid, pad_idx=corpus.vocab.stoi['<pad>'],\n",
    "                                     batch_size=settings.batch_size_imdb, seq_length=settings.window_size_imbd, \n",
    "                                     rand_range=5, sort=True)\n",
    "test_dl = imdb_data.ImdbTextDataset(corpus.test, pad_idx=corpus.vocab.stoi['<pad>'],\n",
    "                                    batch_size=settings.batch_size_imdb, seq_length=settings.window_size_imbd, \n",
    "                                    rand_range=5, sort=True)"
   ]
  },
  {
   "cell_type": "code",
   "execution_count": 6,
   "metadata": {},
   "outputs": [
    {
     "name": "stdout",
     "output_type": "stream",
     "text": [
      "tensor([[ 6399,  1249,  1249,  ...,   247,   158,  1249],\n",
      "        [  962,   552,   589,  ...,   130,  4296,   552],\n",
      "        [   47, 10055,    23,  ...,   158,    18,   503],\n",
      "        ...,\n",
      "        [    0,     0,     0,  ...,  8416,     2,    97],\n",
      "        [    0,     0,     0,  ...,    16,     2,    16],\n",
      "        [    0,     0,     0,  ...,     1,     1,     1]])\n",
      "tensor([0, 0, 0, 1, 1, 0, 1, 1, 1, 1, 1, 0, 1, 1, 1, 0, 1, 1, 0, 1, 0, 0, 0, 0,\n",
      "        1, 1, 0, 0, 0, 1])\n",
      "[[649, 792], [941, 1096], [513, 649], [3083, 3268], [0, 61], [2535, 2721], [3446, 3627], [149, 264], [2907, 3083], [1435, 1612], [792, 941], [264, 385], [2163, 2349], [385, 513], [2721, 2907], [3268, 3446], [1263, 1435], [2349, 2535], [1612, 1795], [1795, 1979], [1979, 2163], [61, 149], [1096, 1263]]\n"
     ]
    }
   ],
   "source": [
    "if in_notebook:\n",
    "    train_x, train_y = next(iter(train_dl))\n",
    "    print(train_x)\n",
    "    print(train_y)\n",
    "    print(train_dl.itoklistFrame.batch_start_end)"
   ]
  },
  {
   "cell_type": "code",
   "execution_count": 7,
   "metadata": {},
   "outputs": [
    {
     "name": "stdout",
     "output_type": "stream",
     "text": [
      "0 142\n",
      "i just watched <unk> <unk> return to <unk> <unk> streets of <unk> and dead <unk> walk . all excellent . this sorry <unk> of <unk> is <unk> done and poorly acted <unk> in the previous <unk> captain call and <unk> <unk> come off as <unk> <unk> <unk> . despite the fact that <unk> call is played by a different actor every time each one quickly won me over . in dead <unk> walk the boys are <unk> as the younger versions of the experienced texas <unk> . in <unk> moon they are just a couple of <unk> <unk> . i had to stop watching <unk> i <unk> many of the <unk> reviews for this show were written by the people who made this <unk> pile . <unk> a sorry end to an otherwise great franchise . <eol> <pad> <pad> <pad> <pad> <pad> ## negative ##\n",
      "1 154\n",
      "i have to <unk> seventeen & missing is much better than i expected . the perception i took from the <unk> was that it would be just <unk> but i was <unk> surprised with this impressive mystery <unk> <unk> <unk> is <unk> a <unk> who <unk> her <unk> <unk> <unk> <unk> not attend a <unk> graduation party one <unk> but <unk> <unk> her <unk> wishes and takes off for the party <unk> . when <unk> does not come <unk> <unk> <unk> something is <unk> and she begins to have visions of her daughter and the events that led to her <unk> <unk> seventeen & missing is better than so many other tv movies of this <unk> as it is not so predictable . <unk> is the reason to see this <unk> and most of it comes off as <unk> . this <unk> original movie <unk> last night . <unk> <eol> <pad> <pad> <pad> <pad> ## positive ##\n"
     ]
    }
   ],
   "source": [
    "if in_notebook:\n",
    "    for idx, (x, y) in enumerate(train_dl):\n",
    "        if idx >= 2:\n",
    "            break\n",
    "        print(idx, len(x[:,1]))\n",
    "        for i in x[:,1]:\n",
    "            print(corpus.vocab.itos[i], end=' ')\n",
    "        print('##', corpus.classes.itos[y[1].item()], '##')"
   ]
  },
  {
   "cell_type": "code",
   "execution_count": 8,
   "metadata": {},
   "outputs": [],
   "source": [
    "model = neural.class_model_LSTM(vocab_dim=len(corpus.vocab),\n",
    "                                emb_dim=settings.emb_dim,\n",
    "                                hidden_dim=settings.hidden_dim,\n",
    "                                n_layers=settings.num_layers,\n",
    "                                dropout=settings.dropout,\n",
    "                                n_classes=corpus.n_classes\n",
    "                               )"
   ]
  },
  {
   "cell_type": "code",
   "execution_count": 9,
   "metadata": {},
   "outputs": [],
   "source": [
    "if cuda:\n",
    "    model = model.cuda()"
   ]
  },
  {
   "cell_type": "code",
   "execution_count": 10,
   "metadata": {},
   "outputs": [
    {
     "name": "stdout",
     "output_type": "stream",
     "text": [
      "class_model_LSTM(\n",
      "  (embedding): Embedding(10954, 50)\n",
      "  (lstm): LSTM(50, 300, num_layers=2, dropout=0.4, bidirectional=True)\n",
      "  (fc): Linear(in_features=600, out_features=2, bias=True)\n",
      "  (dropout): Dropout(p=0.4)\n",
      ")\n"
     ]
    }
   ],
   "source": [
    "print(model)"
   ]
  },
  {
   "cell_type": "raw",
   "metadata": {},
   "source": [
    "if in_notebook:\n",
    "    x, y = train\n",
    "    print(x.shape)\n",
    "    print(y.shape)\n",
    "    preds = model(x.cuda())\n",
    "    print(preds.shape)\n",
    "    print(y)\n",
    "    print(preds)\n",
    "    loss_func = nn.CrossEntropyLoss()\n",
    "    loss = loss_func(preds, y.cuda().long())"
   ]
  },
  {
   "cell_type": "code",
   "execution_count": 11,
   "metadata": {},
   "outputs": [],
   "source": [
    "model = torch.load('model_weights_imdb_300.pt')"
   ]
  },
  {
   "cell_type": "code",
   "execution_count": 12,
   "metadata": {},
   "outputs": [],
   "source": [
    "missclass = []\n",
    "missclass_next = []\n",
    "losses = []"
   ]
  },
  {
   "cell_type": "code",
   "execution_count": 13,
   "metadata": {},
   "outputs": [],
   "source": [
    "def run_epochs(model, train_dl, valid_dl, epochs=settings.epochs,\n",
    "               losses=[], missclass=[]):\n",
    "    \n",
    "    opt = optim.Adam(model.parameters(), lr=0.001, weight_decay=1e-6)\n",
    "    #opt = optim.Adam(model.parameters(), lr=0.001)\n",
    "    #loss_func = nn.NLLLoss()\n",
    "    loss_func = nn.CrossEntropyLoss()\n",
    "    \n",
    "    scheduler = optim.lr_scheduler.StepLR(opt, step_size=20, gamma=0.8)\n",
    "    \n",
    "    best_missclass_te = 1e10\n",
    "    \n",
    "    try: # Allow for user interrupt\n",
    " \n",
    "        for epoch in range(1, epochs + 1):\n",
    "            \n",
    "            scheduler.step()\n",
    "            running_loss = 0.0\n",
    "            running_corrects = 0\n",
    "            model.train() # turn on training mode\n",
    "\n",
    "            num_vals = 0\n",
    "            num_correct = 0\n",
    "\n",
    "            #pdb.set_trace()\n",
    "\n",
    "            for x, y in tqdm(train_dl, desc='Train {}/{}'.format(epoch, epochs)):\n",
    "                opt.zero_grad()\n",
    "                \n",
    "                if cuda:\n",
    "                    x = x.cuda()\n",
    "                    y = y.cuda()\n",
    "\n",
    "                preds = model(x)\n",
    "                loss = loss_func(preds, y.long())\n",
    "\n",
    "                loss.backward()\n",
    "                torch.nn.utils.clip_grad_norm_(model.parameters(), 0.25)\n",
    "                opt.step()\n",
    "\n",
    "                running_loss += loss.item() * x.size(0) / x.size(1)\n",
    "\n",
    "                _, y_preds = torch.max(preds, dim=1)\n",
    "                num_correct += torch.sum(y == y_preds).item()\n",
    "                num_vals += y.size(0)\n",
    "\n",
    "            #pdb.set_trace()\n",
    "\n",
    "            missclass_tr = 1 - num_correct / num_vals\n",
    "\n",
    "            epoch_loss = running_loss / len(train_dl)\n",
    "\n",
    "            num_vals = 0\n",
    "            num_correct = 0\n",
    "\n",
    "            # calculate the validation loss for this epoch\n",
    "            val_loss = 0.0\n",
    "            model.eval() # turn on evaluation mode\n",
    "            \n",
    "            with torch.no_grad():\n",
    "                for x, y in tqdm(valid_dl, desc='Valid {}/{}'.format(epoch, epochs)):\n",
    "                    if cuda:\n",
    "                        x = x.cuda()\n",
    "                        y = y.cuda()   \n",
    "                        \n",
    "                    preds = model(x)\n",
    "                    loss = loss_func(preds, y.long())\n",
    "\n",
    "                    val_loss += loss.item() * x.size(0) / x.size(1)\n",
    "\n",
    "                    _, y_preds = torch.max(preds, dim=1)\n",
    "                    num_correct += torch.sum(y == y_preds).item()\n",
    "                    num_vals += y.size(0)\n",
    "\n",
    "            #pdb.set_trace()\n",
    "\n",
    "            missclass_te = 1 - num_correct / num_vals\n",
    "            val_loss /= len(valid_dl)\n",
    "            \n",
    "            missclass.append((missclass_tr, missclass_te))\n",
    "            losses.append((epoch_loss, val_loss))\n",
    "\n",
    "            print('Epoch: {}/{}, Loss: [{:.4f}, {:.4f}], Miss: [{:.2%}, {:.2%}]'\\\n",
    "                  .format(epoch, epochs, epoch_loss, val_loss, \n",
    "                          missclass_tr, missclass_te))\n",
    "            sys.stdout.flush()\n",
    "\n",
    "            if missclass_te < best_missclass_te:\n",
    "                print('Improved validation. Saving weights file...', end=' ', flush=True)\n",
    "                torch.save(model, 'model_weights_imdb_300.pt')\n",
    "                print('Done.', flush=True)\n",
    "                best_missclass_te = missclass_te\n",
    "            \n",
    "    except KeyboardInterrupt:\n",
    "        print('Stopping with latest weights.')\n",
    "        \n",
    "    return model, opt, losses, missclass"
   ]
  },
  {
   "cell_type": "code",
   "execution_count": 14,
   "metadata": {
    "scrolled": false
   },
   "outputs": [
    {
     "name": "stderr",
     "output_type": "stream",
     "text": [
      "Train 1/10:  13%|█▎        | 3/23 [00:09<01:03,  3.19s/it]"
     ]
    },
    {
     "name": "stdout",
     "output_type": "stream",
     "text": [
      "Stopping with latest weights.\n"
     ]
    }
   ],
   "source": [
    "model, opt, losses, missclass = run_epochs(model, train_dl, valid_dl, epochs=settings.epochs,\n",
    "                                           losses=losses, missclass=missclass)"
   ]
  },
  {
   "cell_type": "code",
   "execution_count": null,
   "metadata": {},
   "outputs": [],
   "source": []
  },
  {
   "cell_type": "code",
   "execution_count": 15,
   "metadata": {},
   "outputs": [
    {
     "data": {
      "text/plain": [
       "tensor(2.0802, grad_fn=<NllLossBackward>)"
      ]
     },
     "execution_count": 15,
     "metadata": {},
     "output_type": "execute_result"
    }
   ],
   "source": [
    "x, y = next(iter(valid_dl))\n",
    "if cuda:\n",
    "    x = x.cuda()\n",
    "    y = y.cuda()\n",
    "loss_func = nn.CrossEntropyLoss()\n",
    "preds = model(x)\n",
    "_, y_preds = torch.max(preds, dim=1)\n",
    "loss = loss_func(preds, y.long())\n",
    "loss"
   ]
  },
  {
   "cell_type": "code",
   "execution_count": 16,
   "metadata": {},
   "outputs": [
    {
     "name": "stdout",
     "output_type": "stream",
     "text": [
      "torch.Size([30])\n",
      "tensor([1, 0, 1, 1, 0, 0, 0, 0, 0, 1, 0, 0, 1, 1, 1, 0, 1, 0, 0, 1, 0, 1, 0, 1,\n",
      "        0, 1, 1, 1, 1, 1])\n"
     ]
    }
   ],
   "source": [
    "print(y.shape)\n",
    "print(y[:])"
   ]
  },
  {
   "cell_type": "code",
   "execution_count": 17,
   "metadata": {
    "scrolled": true
   },
   "outputs": [
    {
     "name": "stdout",
     "output_type": "stream",
     "text": [
      "tensor([1, 1, 1, 0, 1, 1, 0, 1, 0, 0, 0, 0, 0, 1, 1, 1, 1, 1, 1, 1, 0, 1, 0, 1,\n",
      "        0, 0, 1, 1, 1, 1])\n",
      "tensor([[-1.3594,  1.9757],\n",
      "        [-5.8589,  4.5518],\n",
      "        [-3.6115,  3.6212],\n",
      "        [ 2.4391, -3.5015],\n",
      "        [-2.7058,  1.4551],\n",
      "        [-3.7280,  3.4330],\n",
      "        [ 5.3058, -4.5454],\n",
      "        [-3.4714,  2.6797],\n",
      "        [ 3.7521, -5.2298],\n",
      "        [ 1.9088, -2.1255],\n",
      "        [ 4.0376, -4.4046],\n",
      "        [ 4.3677, -4.9762],\n",
      "        [ 2.5214, -2.4705],\n",
      "        [-3.6107,  2.5149],\n",
      "        [-0.9628,  0.0898],\n",
      "        [-3.4392,  2.7303],\n",
      "        [-5.0814,  3.8719],\n",
      "        [-3.3890,  2.0190],\n",
      "        [-1.7097,  0.3362],\n",
      "        [-2.1474,  1.6244],\n",
      "        [ 4.2879, -4.3036],\n",
      "        [-2.1844,  1.3727],\n",
      "        [ 3.9586, -4.3256],\n",
      "        [-5.4731,  3.9186],\n",
      "        [ 2.3052, -1.7960],\n",
      "        [ 2.5956, -2.7325],\n",
      "        [-4.0342,  2.9954],\n",
      "        [-2.3212,  2.2222],\n",
      "        [-3.1035,  1.8777],\n",
      "        [-4.7055,  3.6266]], grad_fn=<ThAddmmBackward>)\n"
     ]
    }
   ],
   "source": [
    "print(y_preds[:])\n",
    "print(preds)"
   ]
  },
  {
   "cell_type": "code",
   "execution_count": 18,
   "metadata": {},
   "outputs": [
    {
     "data": {
      "image/png": "[encoded data removed]",
      "text/plain": [
       "<Figure size 432x288 with 1 Axes>"
      ]
     },
     "metadata": {
      "needs_background": "light"
     },
     "output_type": "display_data"
    }
   ],
   "source": [
    "if in_notebook:\n",
    "    plt.plot(losses)\n",
    "    plt.legend(['train', 'valid'])"
   ]
  },
  {
   "cell_type": "code",
   "execution_count": 19,
   "metadata": {},
   "outputs": [
    {
     "data": {
      "image/png": "[encoded data removed]",
      "text/plain": [
       "<Figure size 432x288 with 1 Axes>"
      ]
     },
     "metadata": {
      "needs_background": "light"
     },
     "output_type": "display_data"
    }
   ],
   "source": [
    "if in_notebook:\n",
    "    plt.plot(missclass)\n",
    "    plt.legend(['train', 'valid'])"
   ]
  },
  {
   "cell_type": "code",
   "execution_count": null,
   "metadata": {},
   "outputs": [],
   "source": []
  },
  {
   "cell_type": "code",
   "execution_count": null,
   "metadata": {},
   "outputs": [],
   "source": []
  },
  {
   "cell_type": "code",
   "execution_count": null,
   "metadata": {},
   "outputs": [],
   "source": []
  }
 ],
 "metadata": {
  "kernelspec": {
   "display_name": "Python 3",
   "language": "python",
   "name": "python3"
  },
  "language_info": {
   "codemirror_mode": {
    "name": "ipython",
    "version": 3
   },
   "file_extension": ".py",
   "mimetype": "text/x-python",
   "name": "python",
   "nbconvert_exporter": "python",
   "pygments_lexer": "ipython3",
   "version": "3.7.0"
  }
 },
 "nbformat": 4,
 "nbformat_minor": 2
}
