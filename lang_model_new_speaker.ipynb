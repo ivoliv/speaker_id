{
 "cells": [
  {
   "cell_type": "code",
   "execution_count": 1,
   "metadata": {},
   "outputs": [
    {
     "name": "stderr",
     "output_type": "stream",
     "text": [
      "/anaconda3/envs/ONE/lib/python3.7/site-packages/sklearn/utils/__init__.py:4: DeprecationWarning: Using or importing the ABCs from 'collections' instead of from 'collections.abc' is deprecated, and in 3.8 it will stop working\n",
      "  from collections import Sequence\n"
     ]
    }
   ],
   "source": [
    "# To create python file:\n",
    "# jupyter nbconvert --to=python lang_model_new.ipynb\n",
    "\n",
    "import utils.data_import as data_import\n",
    "import utils.imdb_data as imdb_data\n",
    "import utils.ml_utils as ml_utils\n",
    "import model.neural as neural\n",
    "\n",
    "import torch\n",
    "import torch.nn as nn\n",
    "import torch.optim as optim\n",
    "\n",
    "from torchtext import data, vocab\n",
    "\n",
    "import os, sys\n",
    "import pdb\n",
    "import pandas as pd\n",
    "import numpy as np\n",
    "import math\n",
    "#from tqdm import tnrange, tqdm_notebook\n",
    "from tqdm import tqdm\n",
    "\n",
    "import importlib\n",
    "\n",
    "import settings\n",
    "\n",
    "np.random.seed(123)"
   ]
  },
  {
   "cell_type": "code",
   "execution_count": 2,
   "metadata": {},
   "outputs": [
    {
     "name": "stdout",
     "output_type": "stream",
     "text": [
      "Running in notebook: True\n"
     ]
    }
   ],
   "source": [
    "in_notebook = ml_utils.in_ipynb()\n",
    "print('Running in notebook:', in_notebook)"
   ]
  },
  {
   "cell_type": "code",
   "execution_count": 3,
   "metadata": {},
   "outputs": [
    {
     "name": "stdout",
     "output_type": "stream",
     "text": [
      "No cuda.\n"
     ]
    }
   ],
   "source": [
    "cuda = torch.cuda.is_available()\n",
    "if cuda:\n",
    "    print('Cuda is available!')\n",
    "    print('Device:', torch.cuda.get_device_name(torch.cuda.current_device()))\n",
    "else:\n",
    "    print('No cuda.')\n",
    "\n",
    "if in_notebook:\n",
    "    import matplotlib.pyplot as plt\n",
    "    %matplotlib inline"
   ]
  },
  {
   "cell_type": "code",
   "execution_count": 4,
   "metadata": {},
   "outputs": [
    {
     "name": "stdout",
     "output_type": "stream",
     "text": [
      "Importing vocab from vocab.p... Done.\n",
      "Imported vocab:  10,954\n",
      "Read total of: 871 lines from imdb file.\n",
      "Number of classes: 3: {'Doctor': 0, 'Patient': 1, 'Other': 2}\n",
      "Generated train: 609 lines\n",
      "Generated valid: 131 lines\n",
      "Generated test:  131 lines\n"
     ]
    },
    {
     "data": {
      "text/html": [
       "<div>\n",
       "<style scoped>\n",
       "    .dataframe tbody tr th:only-of-type {\n",
       "        vertical-align: middle;\n",
       "    }\n",
       "\n",
       "    .dataframe tbody tr th {\n",
       "        vertical-align: top;\n",
       "    }\n",
       "\n",
       "    .dataframe thead th {\n",
       "        text-align: right;\n",
       "    }\n",
       "</style>\n",
       "<table border=\"1\" class=\"dataframe\">\n",
       "  <thead>\n",
       "    <tr style=\"text-align: right;\">\n",
       "      <th></th>\n",
       "      <th>tag</th>\n",
       "      <th>text</th>\n",
       "      <th>len</th>\n",
       "    </tr>\n",
       "  </thead>\n",
       "  <tbody>\n",
       "    <tr>\n",
       "      <th>425</th>\n",
       "      <td>2</td>\n",
       "      <td>[3, 27, 149, 158, 4704, 7891, 3, 5604, 1832, 4...</td>\n",
       "      <td>19</td>\n",
       "    </tr>\n",
       "    <tr>\n",
       "      <th>462</th>\n",
       "      <td>0</td>\n",
       "      <td>[3, 7893, 16, 1]</td>\n",
       "      <td>4</td>\n",
       "    </tr>\n",
       "    <tr>\n",
       "      <th>710</th>\n",
       "      <td>0</td>\n",
       "      <td>[3, 3532, 849, 2, 11, 2, 20, 16, 1]</td>\n",
       "      <td>9</td>\n",
       "    </tr>\n",
       "    <tr>\n",
       "      <th>666</th>\n",
       "      <td>1</td>\n",
       "      <td>[3, 293, 725, 340, 47, 14, 47, 2, 1828, 16, 1]</td>\n",
       "      <td>11</td>\n",
       "    </tr>\n",
       "    <tr>\n",
       "      <th>443</th>\n",
       "      <td>0</td>\n",
       "      <td>[3, 470, 3339, 5616, 452, 216, 40, 14, 2, 14, ...</td>\n",
       "      <td>21</td>\n",
       "    </tr>\n",
       "  </tbody>\n",
       "</table>\n",
       "</div>"
      ],
      "text/plain": [
       "     tag                                               text  len\n",
       "425    2  [3, 27, 149, 158, 4704, 7891, 3, 5604, 1832, 4...   19\n",
       "462    0                                   [3, 7893, 16, 1]    4\n",
       "710    0                [3, 3532, 849, 2, 11, 2, 20, 16, 1]    9\n",
       "666    1     [3, 293, 725, 340, 47, 14, 47, 2, 1828, 16, 1]   11\n",
       "443    0  [3, 470, 3339, 5616, 452, 216, 40, 14, 2, 14, ...   21"
      ]
     },
     "execution_count": 4,
     "metadata": {},
     "output_type": "execute_result"
    }
   ],
   "source": [
    "corpus = imdb_data.ImdbCorpus(filename=settings.speaker_id_file, lines=settings.lines_id, \n",
    "                              text_col='text', tag_col='tag',\n",
    "                              vocab_file='vocab.p'\n",
    "                             )\n",
    "corpus.train.itoklist_df.head()"
   ]
  },
  {
   "cell_type": "code",
   "execution_count": 5,
   "metadata": {},
   "outputs": [
    {
     "data": {
      "text/plain": [
       "<matplotlib.axes._subplots.AxesSubplot at 0x1a24aec6a0>"
      ]
     },
     "execution_count": 5,
     "metadata": {},
     "output_type": "execute_result"
    },
    {
     "data": {
      "image/png": "[encoded data removed]",
      "text/plain": [
       "<Figure size 432x288 with 1 Axes>"
      ]
     },
     "metadata": {
      "needs_background": "light"
     },
     "output_type": "display_data"
    }
   ],
   "source": [
    "corpus.train.itoklist_df['len'].hist()"
   ]
  },
  {
   "cell_type": "code",
   "execution_count": 6,
   "metadata": {},
   "outputs": [
    {
     "name": "stdout",
     "output_type": "stream",
     "text": [
      " Number of batches: 10\n",
      " Preserved texts: 600\n",
      " Matrix size:       torch.Size([134, 60])\n",
      " Number of batches: 2\n",
      " Preserved texts: 120\n",
      " Matrix size:       torch.Size([31, 60])\n",
      " Number of batches: 2\n",
      " Preserved texts: 120\n",
      " Matrix size:       torch.Size([34, 60])\n"
     ]
    }
   ],
   "source": [
    "train_dl = imdb_data.ImdbTextDataset(corpus.train, pad_idx=corpus.vocab.stoi['<pad>'],\n",
    "                                     batch_size=settings.batch_size_id, seq_length=settings.window_size_id, \n",
    "                                     rand_range=5, sort=True, rebatch_and_shuffle=True)\n",
    "valid_dl = imdb_data.ImdbTextDataset(corpus.valid, pad_idx=corpus.vocab.stoi['<pad>'],\n",
    "                                     batch_size=settings.batch_size_id, seq_length=settings.window_size_id, \n",
    "                                     rand_range=5, sort=True)\n",
    "test_dl = imdb_data.ImdbTextDataset(corpus.test, pad_idx=corpus.vocab.stoi['<pad>'],\n",
    "                                    batch_size=settings.batch_size_id, seq_length=settings.window_size_id, \n",
    "                                    rand_range=5, sort=True)"
   ]
  },
  {
   "cell_type": "raw",
   "metadata": {},
   "source": [
    "if in_notebook:\n",
    "    for idx, (train_x, train_y) in enumerate(train_dl):\n",
    "        print(idx, train_x.shape)\n",
    "        print(train_y)\n",
    "        print(train_dl.itoklistFrame.batch_start_end)\n",
    "        if idx == 8:\n",
    "            break"
   ]
  },
  {
   "cell_type": "code",
   "execution_count": 7,
   "metadata": {},
   "outputs": [
    {
     "name": "stdout",
     "output_type": "stream",
     "text": [
      "sequence lengths per batch:\n",
      "[23  6  6  8 18 21 14 12 18  8]\n"
     ]
    }
   ],
   "source": [
    "lengths = np.array(train_dl.itoklistFrame.batch_start_end)\n",
    "lengths = lengths[:,1] - lengths[:,0]\n",
    "print('sequence lengths per batch:')\n",
    "print(lengths)"
   ]
  },
  {
   "cell_type": "code",
   "execution_count": 8,
   "metadata": {},
   "outputs": [
    {
     "name": "stdout",
     "output_type": "stream",
     "text": [
      "0 22\n",
      "<upcase> good . <upcase> i would like to get back to <unk> <unk> . <eol> <pad> <pad> <pad> <pad> <pad> <pad> <pad> ## Patient ##\n",
      "<upcase> yeah . <upcase> i <unk> 't done any <unk> or anything <unk> . <eol> <pad> <pad> <pad> <pad> <pad> <pad> <pad> ## Patient ##\n",
      "<upcase> yeah . <upcase> yeah . <upcase> let 's hold off on that . <eol> <pad> <pad> <pad> <pad> <pad> <pad> <pad> ## Doctor ##\n",
      "<upcase> he 's been getting those shots every six months and this time - <eol> <pad> <pad> <pad> <pad> <pad> <pad> <pad> ## Other ##\n",
      "<upcase> no , it 's going the right way , it 's just - <eol> <pad> <pad> <pad> <pad> <pad> <pad> <pad> ## Patient ##\n",
      ". . . parked in spots where <upcase> i could just pull out . <eol> <pad> <pad> <pad> <pad> <pad> <pad> <pad> ## Patient ##\n",
      "<upcase> i 'm gripping stuff better . <upcase> the <unk> is still here . <eol> <pad> <pad> <pad> <pad> <pad> <pad> <pad> ## Patient ##\n",
      ". . . [ <unk> <unk> ] back and forth and . . . <eol> <pad> <pad> <pad> <pad> <pad> <pad> <pad> ## Doctor ##\n",
      "<upcase> but that 's good , because <upcase> i got a lot out . <eol> <pad> <pad> <pad> <pad> <pad> <pad> <pad> ## Patient ##\n",
      "<upcase> i take <unk> every day because my neck gives me a <unk> . <eol> <pad> <pad> <pad> <pad> <pad> <pad> <pad> ## Patient ##\n",
      "<upcase> <unk> . <upcase> you just take <unk> . <upcase> <unk> , <unk> - <eol> <pad> <pad> <pad> <pad> <pad> <pad> <pad> ## Doctor ##\n",
      ". . . get to see you until the very end . . . <eol> <pad> <pad> <pad> <pad> <pad> <pad> <pad> ## Other ##\n",
      ". . . and then his - he was - we were not <unk> . <eol> <pad> <pad> <pad> <pad> <pad> <pad> ## Other ##\n",
      "<upcase> that 's up to you , <unk> . <upcase> i mean . . . <eol> <pad> <pad> <pad> <pad> <pad> <pad> ## Other ##\n",
      "<upcase> this - slowly . <upcase> they put me on a new . . . <eol> <pad> <pad> <pad> <pad> <pad> <pad> ## Patient ##\n",
      "<upcase> i don 't know what age that <unk> is , but . . . <eol> <pad> <pad> <pad> <pad> <pad> <pad> ## Patient ##\n",
      "<upcase> well , <upcase> i take it off in the middle of the night . <eol> <pad> <pad> <pad> <pad> <pad> <pad> ## Patient ##\n",
      ". . . and [ <unk> <unk> ] support your neck , your head . <eol> <pad> <pad> <pad> <pad> <pad> <pad> ## Doctor ##\n",
      "<upcase> and she 's <unk> at me before <upcase> i 'm halfway into them . <eol> <pad> <pad> <pad> <pad> <pad> <pad> ## Patient ##\n",
      "<upcase> once <upcase> i get up , it 'll , it 'll go away . <eol> <pad> <pad> <pad> <pad> <pad> <pad> ## Patient ##\n",
      "<upcase> <unk> . <upcase> and this is the front view . [ <unk> <unk> ] <eol> <pad> <pad> <pad> <pad> <pad> <pad> ## Doctor ##\n",
      "<upcase> both of my <unk> feel weak . <upcase> its been harder to walk . <eol> <pad> <pad> <pad> <pad> <pad> <pad> ## Patient ##\n",
      "1 5\n",
      "<upcase> <unk> . <eol> <pad> ## Doctor ##\n",
      "<upcase> driving . <eol> <pad> ## Other ##\n",
      "<upcase> yeah . <eol> <pad> ## Other ##\n",
      "<upcase> <unk> . <eol> <pad> ## Doctor ##\n",
      "<upcase> <unk> . <eol> <pad> ## Other ##\n",
      "2 5\n",
      "<upcase> yes <eol> <pad> <pad> ## Patient ##\n",
      "<upcase> yeah . <eol> <pad> ## Doctor ##\n",
      "<upcase> out ? <eol> <pad> ## Patient ##\n",
      "<upcase> no . <eol> <pad> ## Patient ##\n",
      "<upcase> yeah . <eol> <pad> ## Other ##\n",
      "3 7\n",
      "<upcase> kind of like your back . ## Doctor ##\n",
      "<upcase> is that my fake ones ? ## Patient ##\n",
      "<upcase> so , <unk> . . . ## Doctor ##\n",
      "<upcase> that 's a good start . ## Patient ##\n",
      "<upcase> mm - <unk> ( <unk> ) ## Doctor ##\n",
      "<upcase> <unk> , <unk> <upcase> i <unk> ## Patient ##\n",
      "<upcase> it 's not super strong yet ## Patient ##\n",
      "4 17\n",
      "<upcase> <unk> <unk> been to a physical <unk> . <upcase> it did help in the beginning but ## Patient ##\n",
      ". . . just , as it wears off for good . <upcase> we don 't need ## Other ##\n",
      "<upcase> <unk> , yeah . <upcase> <unk> , <upcase> i see what 's happen . . . ## Patient ##\n",
      "<upcase> yeah . <upcase> any new , any weakness or anything in your arms or no ? ## Doctor ##\n",
      "<upcase> well , <upcase> i - <upcase> i would have liked to be there with the team ## Other ##\n",
      ". . . so but , <upcase> i went to , <upcase> i got a new doctor ## Patient ##\n",
      "<upcase> well , they - they were telling me that , <unk> , the <unk> isn 't ## Patient ##\n",
      "<upcase> <unk> , but , <unk> , this is normal . <upcase> most people have some difficulty ## Doctor ##\n",
      "<upcase> because <upcase> i 've had neck problems ever since then . <upcase> the older <upcase> i ## Patient ##\n",
      "<upcase> i went to see her , she said <upcase> i 'm gonna put you in <unk> ## Patient ##\n",
      "<upcase> <unk> . <upcase> and you 've tried the <unk> as well ? <upcase> you 've never ## Doctor ##\n",
      "<upcase> and <upcase> i 'll do these <unk> here . <upcase> one doctor couple years ago told ## Patient ##\n",
      "<upcase> <unk> , you know , working on getting some . . . <upcase> i 'm better ## Patient ##\n",
      "<upcase> <unk> . <upcase> <unk> , so that 's fine and have <unk> and you can <unk> ## Doctor ##\n",
      "<upcase> well , we - we 're <unk> and stuff but we 're not touching stuff . ## Other ##\n",
      "<upcase> but <upcase> i guess you could say [ <unk> <unk> ] . <upcase> they sent me ## Patient ##\n",
      "<upcase> i was doing it at 4 o <unk> this morning in the bed doing it . ## Patient ##\n",
      "5 20\n",
      "<upcase> do you have any weakness in your <unk> ? <upcase> if so , where <unk> ? <eol> <pad> <pad> ## Doctor ##\n",
      ". . . what you <unk> do and <upcase> i <unk> you [ <unk> <unk> ] . <eol> <pad> <pad> ## Patient ##\n",
      "<upcase> yeah . <upcase> so we go in through the <unk> in the neck . . . <eol> <pad> <pad> ## Doctor ##\n",
      "<upcase> <unk> it goes down the back of my <unk> and into the bottom of my feet . <eol> <pad> ## Patient ##\n",
      "<upcase> <unk> , it took me a long time to gain the air <upcase> i have now . <eol> <pad> ## Patient ##\n",
      "<upcase> the wind was <unk> 35 miles an hour . <upcase> we <unk> into a corn field . <eol> <pad> ## Patient ##\n",
      "<upcase> <unk> . <upcase> <unk> , don 't do anything . <upcase> don 't <unk> it off . <eol> <pad> ## Doctor ##\n",
      "<upcase> mm - <unk> ( <unk> ) . <upcase> how 's that going ? <upcase> <unk> well ? <eol> <pad> ## Doctor ##\n",
      "<upcase> <unk> lost my balance a couple of times and fell but my back felt the same . <eol> <pad> ## Patient ##\n",
      "<upcase> is that not right ? <upcase> isn 't it - would that be about four weeks ? <eol> <pad> ## Other ##\n",
      "<upcase> you have no technical reason for needing it , <unk> , beyond the two week point . <eol> <pad> ## Doctor ##\n",
      "<upcase> so this is <upcase> <unk> , 3 , so 4 and 5 are the main problems . <eol> <pad> ## Doctor ##\n",
      "<upcase> <unk> . <upcase> well , you can make something up and [ <unk> <unk> ] happy . <eol> <pad> ## Other ##\n",
      "<upcase> yeah . <upcase> i don 't know who made that one . <upcase> that 's interesting . <eol> <pad> ## Doctor ##\n",
      "<upcase> but before <upcase> i have this next surgery , that 's when <upcase> i 'm <unk> . <eol> <pad> ## Patient ##\n",
      ". . . 2010 . <upcase> i don 't know that you 've seen me since then . <eol> <pad> ## Patient ##\n",
      "<upcase> it 's not really <unk> , but it 's like way down to the bone type thing . <eol> ## Patient ##\n",
      "[ <unk> <unk> ] <unk> pain . <upcase> it 's not as bad as it used to be . <eol> ## Patient ##\n",
      "( laughs ) <upcase> have you seen your <upcase> x - rays ? <upcase> has anyone showed you ? <eol> ## Doctor ##\n",
      "<upcase> <unk> . <upcase> <unk> . <upcase> i don 't have a good reason for the leg <unk> . <eol> ## Doctor ##\n",
      "6 13\n",
      "<upcase> <unk> you for sharing . <eol> <pad> <pad> <pad> <pad> <pad> <pad> ## Patient ##\n",
      "<upcase> where is the pain ? <eol> <pad> <pad> <pad> <pad> <pad> <pad> ## Doctor ##\n",
      "<upcase> couldn 't get <unk> . <eol> <pad> <pad> <pad> <pad> <pad> <pad> ## Patient ##\n",
      ". . . with <unk> . <eol> <pad> <pad> <pad> <pad> <pad> <pad> ## Patient ##\n",
      "<upcase> yeah . <upcase> yeah . <eol> <pad> <pad> <pad> <pad> <pad> <pad> ## Doctor ##\n",
      ". . . <unk> poisoning . <eol> <pad> <pad> <pad> <pad> <pad> <pad> ## Patient ##\n",
      "<upcase> yeah . <upcase> yeah . <eol> <pad> <pad> <pad> <pad> <pad> <pad> ## Doctor ##\n",
      "<upcase> yeah . <upcase> yeah . <eol> <pad> <pad> <pad> <pad> <pad> <pad> ## Doctor ##\n",
      "<upcase> yeah . <upcase> yeah . <eol> <pad> <pad> <pad> <pad> <pad> <pad> ## Doctor ##\n",
      ". . . during the - <eol> <pad> <pad> <pad> <pad> <pad> <pad> ## Patient ##\n",
      "<upcase> can 't <unk> them . <eol> <pad> <pad> <pad> <pad> <pad> <pad> ## Doctor ##\n",
      "<upcase> <unk> about two hours . <eol> <pad> <pad> <pad> <pad> <pad> <pad> ## Patient ##\n",
      "<upcase> yeah . <upcase> great . <eol> <pad> <pad> <pad> <pad> <pad> <pad> ## Doctor ##\n",
      "7 11\n",
      "<upcase> and it did help <unk> . . . <eol> <pad> ## Patient ##\n",
      "<upcase> <unk> . <upcase> <unk> your knee out . <eol> <pad> ## Doctor ##\n",
      "<upcase> my pain started like 3 weeks ago . <eol> <pad> ## Patient ##\n",
      "<upcase> and look how narrow it is here . <eol> <pad> ## Doctor ##\n",
      "<upcase> yeah , <upcase> i was . . . <eol> <pad> ## Doctor ##\n",
      "<upcase> yes <upcase> i can walk by myself . <eol> <pad> ## Patient ##\n",
      "<upcase> no <upcase> i <unk> feel any weakness . <eol> <pad> ## Patient ##\n",
      "<upcase> so , <upcase> i don 't know . <eol> <pad> ## Other ##\n",
      "<upcase> <unk> , the <unk> 's looking good . <eol> <pad> ## Patient ##\n",
      "<upcase> it was like [ <unk> <unk> ] . <eol> <pad> ## Other ##\n",
      "<upcase> was it a doctor or a <unk> ? <eol> <pad> ## Doctor ##\n",
      "8 17\n",
      "<upcase> no <upcase> i <unk> been to a physical <unk> . <eol> <pad> <pad> <pad> <pad> <pad> ## Patient ##\n",
      "<upcase> and <upcase> i know it 's coming from it . <eol> <pad> <pad> <pad> <pad> <pad> ## Patient ##\n",
      ". . . [ <unk> <unk> ] just . . . <eol> <pad> <pad> <pad> <pad> <pad> ## Patient ##\n",
      "<upcase> <unk> , yeah , [ <unk> <unk> ] <unk> . <eol> <pad> <pad> <pad> <pad> <pad> ## Other ##\n",
      "<upcase> yeah . <upcase> i mean , in a <unk> . <eol> <pad> <pad> <pad> <pad> <pad> ## Other ##\n",
      "<upcase> kind a bit of a [ <unk> <unk> ] . <eol> <pad> <pad> <pad> <pad> <pad> ## Patient ##\n",
      "<upcase> <unk> both of my <unk> have been feeling weak . <eol> <pad> <pad> <pad> <pad> <pad> ## Patient ##\n",
      "<upcase> <unk> . <upcase> it 's just taking some time . <eol> <pad> <pad> <pad> <pad> <pad> ## Doctor ##\n",
      "<upcase> i 've been getting leg <unk> and stomach <unk> . <eol> <pad> <pad> <pad> <pad> <pad> ## Patient ##\n",
      ". . . that started over the past six months . <eol> <pad> <pad> <pad> <pad> <pad> ## Patient ##\n",
      "<upcase> <unk> . <upcase> and <unk> , do you smoke ? <eol> <pad> <pad> <pad> <pad> <pad> ## Doctor ##\n",
      "<upcase> <unk> . <upcase> but it 's been getting better ? <eol> <pad> <pad> <pad> <pad> <pad> ## Doctor ##\n",
      "<upcase> and it was at <upcase> camp <upcase> <unk> during - <eol> <pad> <pad> <pad> <pad> <pad> ## Patient ##\n",
      "<upcase> <unk> . <upcase> <unk> , in the <upcase> <unk> ? <eol> <pad> <pad> <pad> <pad> <pad> ## Doctor ##\n",
      "<upcase> <unk> - <unk> ( <unk> ) . <upcase> <unk> . <eol> <pad> <pad> <pad> <pad> <pad> ## Doctor ##\n",
      "<upcase> it 's <unk> here ? <upcase> from here to here ? <eol> <pad> <pad> <pad> <pad> ## Doctor ##\n",
      "<upcase> he 's an [ <unk> <unk> ] ( laughs ) . <eol> <pad> <pad> <pad> <pad> ## Patient ##\n",
      "9 7\n",
      "<upcase> <unk> . <eol> <pad> <pad> <pad> ## Doctor ##\n",
      "<upcase> yeah . <eol> <pad> <pad> <pad> ## Doctor ##\n",
      "<upcase> yeah . <eol> <pad> <pad> <pad> ## Other ##\n",
      "<upcase> yeah . <eol> <pad> <pad> <pad> ## Doctor ##\n",
      "<upcase> yeah . <eol> <pad> <pad> <pad> ## Doctor ##\n",
      "<upcase> <unk> . <eol> <pad> <pad> <pad> ## Doctor ##\n",
      "<upcase> sure . <eol> <pad> <pad> <pad> ## Doctor ##\n"
     ]
    }
   ],
   "source": [
    "if in_notebook:\n",
    "    for idx, (x, y) in enumerate(train_dl):\n",
    "        if idx >= 10:\n",
    "            break\n",
    "        print(idx, len(x[:,1]))\n",
    "        for j in range(len(x[:,1])):\n",
    "            for i in x[:,j]:\n",
    "                print(corpus.vocab.itos[i], end=' ')\n",
    "            print('##', corpus.classes.itos[y[j].item()], '##')"
   ]
  },
  {
   "cell_type": "code",
   "execution_count": 22,
   "metadata": {},
   "outputs": [],
   "source": [
    "model = neural.class_model_LSTM(vocab_dim=len(corpus.vocab),\n",
    "                                emb_dim=settings.emb_dim,\n",
    "                                hidden_dim=settings.hidden_dim,\n",
    "                                n_layers=settings.num_layers,\n",
    "                                dropout=settings.dropout,\n",
    "                                n_classes=corpus.n_classes\n",
    "                               )"
   ]
  },
  {
   "cell_type": "code",
   "execution_count": 23,
   "metadata": {},
   "outputs": [],
   "source": [
    "if cuda:\n",
    "    model = model.cuda()"
   ]
  },
  {
   "cell_type": "code",
   "execution_count": 24,
   "metadata": {},
   "outputs": [
    {
     "name": "stdout",
     "output_type": "stream",
     "text": [
      "class_model_LSTM(\n",
      "  (embedding): Embedding(28913, 400)\n",
      "  (lstm): LSTM(400, 1150, num_layers=3, dropout=0.4, bidirectional=True)\n",
      "  (fc): Linear(in_features=2300, out_features=3, bias=True)\n",
      "  (dropout): Dropout(p=0.4)\n",
      ")\n"
     ]
    }
   ],
   "source": [
    "print(model)"
   ]
  },
  {
   "cell_type": "raw",
   "metadata": {},
   "source": [
    "if in_notebook:\n",
    "    x, y = next(iter(train_dl))\n",
    "    print(x.shape)\n",
    "    print(x)\n",
    "    print(y.shape)\n",
    "    preds = model(x)\n",
    "    print(preds.shape)\n",
    "    print(y)\n",
    "    print(preds)\n",
    "    loss_func = nn.CrossEntropyLoss()\n",
    "    loss = loss_func(preds, y.long())"
   ]
  },
  {
   "cell_type": "code",
   "execution_count": 25,
   "metadata": {},
   "outputs": [],
   "source": [
    "#model = torch.load('model_weights_speaker_id.pt')"
   ]
  },
  {
   "cell_type": "code",
   "execution_count": 26,
   "metadata": {},
   "outputs": [],
   "source": [
    "missclass = []\n",
    "missclass_next = []\n",
    "losses = []"
   ]
  },
  {
   "cell_type": "code",
   "execution_count": 27,
   "metadata": {},
   "outputs": [],
   "source": [
    "def run_epochs(model, train_dl, valid_dl, epochs=settings.epochs,\n",
    "               losses=[], missclass=[]):\n",
    "    \n",
    "    opt = optim.Adam(model.parameters(), lr=0.001, weight_decay=1e-6)\n",
    "    #opt = optim.Adam(model.parameters(), lr=0.001)\n",
    "    #loss_func = nn.NLLLoss()\n",
    "    loss_func = nn.CrossEntropyLoss()\n",
    "    \n",
    "    scheduler = optim.lr_scheduler.StepLR(opt, step_size=20, gamma=0.8)\n",
    "    \n",
    "    best_missclass_te = 1e10\n",
    "    \n",
    "    try: # Allow for user interrupt\n",
    " \n",
    "        for epoch in range(1, epochs + 1):\n",
    "            \n",
    "            scheduler.step()\n",
    "            running_loss = 0.0\n",
    "            running_corrects = 0\n",
    "            model.train() # turn on training mode\n",
    "\n",
    "            num_vals = 0\n",
    "            num_correct = 0\n",
    "\n",
    "            #pdb.set_trace()\n",
    "\n",
    "            for x, y in tqdm(train_dl, desc='Train {}/{}'.format(epoch, epochs)):\n",
    "                opt.zero_grad()\n",
    "                \n",
    "                if cuda:\n",
    "                    x = x.cuda()\n",
    "                    y = y.cuda()\n",
    "\n",
    "                preds = model(x)\n",
    "                loss = loss_func(preds, y.long())\n",
    "\n",
    "                loss.backward()\n",
    "                torch.nn.utils.clip_grad_norm_(model.parameters(), 0.25)\n",
    "                opt.step()\n",
    "\n",
    "                running_loss += loss.item() * x.size(0) / x.size(1)\n",
    "\n",
    "                _, y_preds = torch.max(preds, dim=1)\n",
    "                num_correct += torch.sum(y == y_preds).item()\n",
    "                num_vals += y.size(0)\n",
    "\n",
    "            #pdb.set_trace()\n",
    "\n",
    "            missclass_tr = 1 - num_correct / num_vals\n",
    "\n",
    "            epoch_loss = running_loss / len(train_dl)\n",
    "\n",
    "            num_vals = 0\n",
    "            num_correct = 0\n",
    "\n",
    "            # calculate the validation loss for this epoch\n",
    "            val_loss = 0.0\n",
    "            model.eval() # turn on evaluation mode\n",
    "            \n",
    "            with torch.no_grad():\n",
    "                for x, y in tqdm(valid_dl, desc='Valid {}/{}'.format(epoch, epochs)):\n",
    "                    if cuda:\n",
    "                        x = x.cuda()\n",
    "                        y = y.cuda()   \n",
    "                        \n",
    "                    preds = model(x)\n",
    "                    loss = loss_func(preds, y.long())\n",
    "\n",
    "                    val_loss += loss.item() * x.size(0) / x.size(1)\n",
    "\n",
    "                    _, y_preds = torch.max(preds, dim=1)\n",
    "                    num_correct += torch.sum(y == y_preds).item()\n",
    "                    num_vals += y.size(0)\n",
    "\n",
    "            #pdb.set_trace()\n",
    "\n",
    "            missclass_te = 1 - num_correct / num_vals\n",
    "            val_loss /= len(valid_dl)\n",
    "            \n",
    "            missclass.append((missclass_tr, missclass_te))\n",
    "            losses.append((epoch_loss, val_loss))\n",
    "\n",
    "            print('Epoch: {}/{}, Loss: [{:.4f}, {:.4f}], Miss: [{:.2%}, {:.2%}]'\\\n",
    "                  .format(epoch, epochs, epoch_loss, val_loss, \n",
    "                          missclass_tr, missclass_te))\n",
    "            sys.stdout.flush()\n",
    "\n",
    "            if missclass_te < best_missclass_te:\n",
    "                print('Improved validation. Saving weights file...', end=' ', flush=True)\n",
    "                torch.save(model, 'model_weights_speaker_id.pt')\n",
    "                print('Done.', flush=True)\n",
    "                best_missclass_te = missclass_te\n",
    "            \n",
    "    except KeyboardInterrupt:\n",
    "        print('Stopping with latest weights.')\n",
    "        \n",
    "    return model, opt, losses, missclass"
   ]
  },
  {
   "cell_type": "code",
   "execution_count": 28,
   "metadata": {
    "scrolled": true
   },
   "outputs": [
    {
     "name": "stderr",
     "output_type": "stream",
     "text": [
      "Train 1/100: 100%|██████████| 10/10 [00:00<00:00, 14.15it/s]\n",
      "Valid 1/100: 100%|██████████| 2/2 [00:00<00:00, 71.81it/s]"
     ]
    },
    {
     "name": "stdout",
     "output_type": "stream",
     "text": [
      "Epoch: 1/100, Loss: [0.7234, 0.5957], Miss: [56.50%, 61.67%]\n",
      "Improved validation. Saving weights file... "
     ]
    },
    {
     "name": "stderr",
     "output_type": "stream",
     "text": [
      "\n"
     ]
    },
    {
     "name": "stdout",
     "output_type": "stream",
     "text": [
      "Done.\n"
     ]
    },
    {
     "name": "stderr",
     "output_type": "stream",
     "text": [
      "Train 2/100: 100%|██████████| 10/10 [00:00<00:00, 15.07it/s]\n",
      "Valid 2/100: 100%|██████████| 2/2 [00:00<00:00, 71.41it/s]"
     ]
    },
    {
     "name": "stdout",
     "output_type": "stream",
     "text": [
      "Epoch: 2/100, Loss: [0.6251, 0.5810], Miss: [61.17%, 67.50%]\n"
     ]
    },
    {
     "name": "stderr",
     "output_type": "stream",
     "text": [
      "\n",
      "Train 3/100: 100%|██████████| 10/10 [00:00<00:00, 13.93it/s]\n",
      "Valid 3/100: 100%|██████████| 2/2 [00:00<00:00, 71.50it/s]"
     ]
    },
    {
     "name": "stdout",
     "output_type": "stream",
     "text": [
      "Epoch: 3/100, Loss: [0.3487, 0.6679], Miss: [59.00%, 83.33%]\n"
     ]
    },
    {
     "name": "stderr",
     "output_type": "stream",
     "text": [
      "\n",
      "Train 4/100: 100%|██████████| 10/10 [00:00<00:00, 17.70it/s]\n",
      "Valid 4/100: 100%|██████████| 2/2 [00:00<00:00, 65.05it/s]"
     ]
    },
    {
     "name": "stdout",
     "output_type": "stream",
     "text": [
      "Epoch: 4/100, Loss: [0.2075, 0.2940], Miss: [50.33%, 61.67%]\n"
     ]
    },
    {
     "name": "stderr",
     "output_type": "stream",
     "text": [
      "\n",
      "Train 5/100: 100%|██████████| 10/10 [00:00<00:00, 15.31it/s]\n",
      "Valid 5/100: 100%|██████████| 2/2 [00:00<00:00, 71.10it/s]"
     ]
    },
    {
     "name": "stdout",
     "output_type": "stream",
     "text": [
      "Epoch: 5/100, Loss: [0.2481, 0.2366], Miss: [60.50%, 54.17%]\n",
      "Improved validation. Saving weights file... "
     ]
    },
    {
     "name": "stderr",
     "output_type": "stream",
     "text": [
      "\n"
     ]
    },
    {
     "name": "stdout",
     "output_type": "stream",
     "text": [
      "Done.\n"
     ]
    },
    {
     "name": "stderr",
     "output_type": "stream",
     "text": [
      "Train 6/100: 100%|██████████| 10/10 [00:00<00:00, 14.40it/s]\n",
      "Valid 6/100: 100%|██████████| 2/2 [00:00<00:00, 71.99it/s]"
     ]
    },
    {
     "name": "stdout",
     "output_type": "stream",
     "text": [
      "Epoch: 6/100, Loss: [0.2730, 0.2527], Miss: [56.83%, 62.50%]\n"
     ]
    },
    {
     "name": "stderr",
     "output_type": "stream",
     "text": [
      "\n",
      "Train 7/100: 100%|██████████| 10/10 [00:00<00:00, 16.39it/s]\n",
      "Valid 7/100: 100%|██████████| 2/2 [00:00<00:00, 71.08it/s]"
     ]
    },
    {
     "name": "stdout",
     "output_type": "stream",
     "text": [
      "Epoch: 7/100, Loss: [0.2022, 0.2297], Miss: [53.00%, 55.83%]\n"
     ]
    },
    {
     "name": "stderr",
     "output_type": "stream",
     "text": [
      "\n",
      "Train 8/100: 100%|██████████| 10/10 [00:00<00:00, 13.53it/s]\n",
      "Valid 8/100: 100%|██████████| 2/2 [00:00<00:00, 70.95it/s]"
     ]
    },
    {
     "name": "stdout",
     "output_type": "stream",
     "text": [
      "Epoch: 8/100, Loss: [0.2061, 0.2269], Miss: [50.00%, 44.17%]\n",
      "Improved validation. Saving weights file... "
     ]
    },
    {
     "name": "stderr",
     "output_type": "stream",
     "text": [
      "\n"
     ]
    },
    {
     "name": "stdout",
     "output_type": "stream",
     "text": [
      "Done.\n"
     ]
    },
    {
     "name": "stderr",
     "output_type": "stream",
     "text": [
      "Train 9/100: 100%|██████████| 10/10 [00:00<00:00, 13.31it/s]\n",
      "Valid 9/100: 100%|██████████| 2/2 [00:00<00:00, 71.57it/s]"
     ]
    },
    {
     "name": "stdout",
     "output_type": "stream",
     "text": [
      "Epoch: 9/100, Loss: [0.2102, 0.2474], Miss: [49.17%, 55.83%]\n"
     ]
    },
    {
     "name": "stderr",
     "output_type": "stream",
     "text": [
      "\n",
      "Train 10/100: 100%|██████████| 10/10 [00:00<00:00, 15.15it/s]\n",
      "Valid 10/100: 100%|██████████| 2/2 [00:00<00:00, 71.78it/s]"
     ]
    },
    {
     "name": "stdout",
     "output_type": "stream",
     "text": [
      "Epoch: 10/100, Loss: [0.2167, 0.2428], Miss: [47.50%, 53.33%]\n"
     ]
    },
    {
     "name": "stderr",
     "output_type": "stream",
     "text": [
      "\n",
      "Train 11/100: 100%|██████████| 10/10 [00:00<00:00, 16.19it/s]\n",
      "Valid 11/100: 100%|██████████| 2/2 [00:00<00:00, 71.42it/s]"
     ]
    },
    {
     "name": "stdout",
     "output_type": "stream",
     "text": [
      "Epoch: 11/100, Loss: [0.2024, 0.2133], Miss: [47.00%, 47.50%]\n"
     ]
    },
    {
     "name": "stderr",
     "output_type": "stream",
     "text": [
      "\n",
      "Train 12/100: 100%|██████████| 10/10 [00:00<00:00, 13.06it/s]\n",
      "Valid 12/100: 100%|██████████| 2/2 [00:00<00:00, 71.43it/s]"
     ]
    },
    {
     "name": "stdout",
     "output_type": "stream",
     "text": [
      "Epoch: 12/100, Loss: [0.2171, 0.2596], Miss: [46.00%, 56.67%]\n"
     ]
    },
    {
     "name": "stderr",
     "output_type": "stream",
     "text": [
      "\n",
      "Train 13/100: 100%|██████████| 10/10 [00:00<00:00, 14.95it/s]\n",
      "Valid 13/100: 100%|██████████| 2/2 [00:00<00:00, 71.77it/s]"
     ]
    },
    {
     "name": "stdout",
     "output_type": "stream",
     "text": [
      "Epoch: 13/100, Loss: [0.2208, 0.2215], Miss: [50.33%, 38.33%]\n",
      "Improved validation. Saving weights file... "
     ]
    },
    {
     "name": "stderr",
     "output_type": "stream",
     "text": [
      "\n"
     ]
    },
    {
     "name": "stdout",
     "output_type": "stream",
     "text": [
      "Done.\n"
     ]
    },
    {
     "name": "stderr",
     "output_type": "stream",
     "text": [
      "Train 14/100: 100%|██████████| 10/10 [00:00<00:00, 15.74it/s]\n",
      "Valid 14/100: 100%|██████████| 2/2 [00:00<00:00, 68.81it/s]"
     ]
    },
    {
     "name": "stdout",
     "output_type": "stream",
     "text": [
      "Epoch: 14/100, Loss: [0.1752, 0.2418], Miss: [35.50%, 45.83%]\n"
     ]
    },
    {
     "name": "stderr",
     "output_type": "stream",
     "text": [
      "\n",
      "Train 15/100: 100%|██████████| 10/10 [00:00<00:00, 13.74it/s]\n",
      "Valid 15/100: 100%|██████████| 2/2 [00:00<00:00, 71.01it/s]"
     ]
    },
    {
     "name": "stdout",
     "output_type": "stream",
     "text": [
      "Epoch: 15/100, Loss: [0.2028, 0.2676], Miss: [39.33%, 57.50%]\n"
     ]
    },
    {
     "name": "stderr",
     "output_type": "stream",
     "text": [
      "\n",
      "Train 16/100: 100%|██████████| 10/10 [00:00<00:00, 13.16it/s]\n",
      "Valid 16/100: 100%|██████████| 2/2 [00:00<00:00, 71.68it/s]"
     ]
    },
    {
     "name": "stdout",
     "output_type": "stream",
     "text": [
      "Epoch: 16/100, Loss: [0.2143, 0.2545], Miss: [41.83%, 38.33%]\n"
     ]
    },
    {
     "name": "stderr",
     "output_type": "stream",
     "text": [
      "\n",
      "Train 17/100: 100%|██████████| 10/10 [00:00<00:00, 13.00it/s]\n",
      "Valid 17/100: 100%|██████████| 2/2 [00:00<00:00, 70.37it/s]"
     ]
    },
    {
     "name": "stdout",
     "output_type": "stream",
     "text": [
      "Epoch: 17/100, Loss: [0.1816, 0.2355], Miss: [30.83%, 35.83%]\n",
      "Improved validation. Saving weights file... "
     ]
    },
    {
     "name": "stderr",
     "output_type": "stream",
     "text": [
      "\n"
     ]
    },
    {
     "name": "stdout",
     "output_type": "stream",
     "text": [
      "Done.\n"
     ]
    },
    {
     "name": "stderr",
     "output_type": "stream",
     "text": [
      "Train 18/100: 100%|██████████| 10/10 [00:00<00:00, 14.88it/s]\n",
      "Valid 18/100: 100%|██████████| 2/2 [00:00<00:00, 71.33it/s]"
     ]
    },
    {
     "name": "stdout",
     "output_type": "stream",
     "text": [
      "Epoch: 18/100, Loss: [0.1976, 0.2301], Miss: [34.67%, 47.50%]\n"
     ]
    },
    {
     "name": "stderr",
     "output_type": "stream",
     "text": [
      "\n",
      "Train 19/100: 100%|██████████| 10/10 [00:00<00:00, 13.15it/s]\n",
      "Valid 19/100: 100%|██████████| 2/2 [00:00<00:00, 71.73it/s]"
     ]
    },
    {
     "name": "stdout",
     "output_type": "stream",
     "text": [
      "Epoch: 19/100, Loss: [0.2011, 0.2448], Miss: [39.83%, 52.50%]\n"
     ]
    },
    {
     "name": "stderr",
     "output_type": "stream",
     "text": [
      "\n",
      "Train 20/100: 100%|██████████| 10/10 [00:00<00:00, 14.02it/s]\n",
      "Valid 20/100: 100%|██████████| 2/2 [00:00<00:00, 71.72it/s]"
     ]
    },
    {
     "name": "stdout",
     "output_type": "stream",
     "text": [
      "Epoch: 20/100, Loss: [0.1861, 0.2318], Miss: [41.33%, 48.33%]\n"
     ]
    },
    {
     "name": "stderr",
     "output_type": "stream",
     "text": [
      "\n",
      "Train 21/100: 100%|██████████| 10/10 [00:00<00:00, 13.51it/s]\n",
      "Valid 21/100: 100%|██████████| 2/2 [00:00<00:00, 71.83it/s]"
     ]
    },
    {
     "name": "stdout",
     "output_type": "stream",
     "text": [
      "Epoch: 21/100, Loss: [0.1688, 0.2229], Miss: [32.50%, 32.50%]\n",
      "Improved validation. Saving weights file... "
     ]
    },
    {
     "name": "stderr",
     "output_type": "stream",
     "text": [
      "\n"
     ]
    },
    {
     "name": "stdout",
     "output_type": "stream",
     "text": [
      "Done.\n"
     ]
    },
    {
     "name": "stderr",
     "output_type": "stream",
     "text": [
      "Train 22/100: 100%|██████████| 10/10 [00:00<00:00, 16.04it/s]\n",
      "Valid 22/100: 100%|██████████| 2/2 [00:00<00:00, 71.83it/s]"
     ]
    },
    {
     "name": "stdout",
     "output_type": "stream",
     "text": [
      "Epoch: 22/100, Loss: [0.1654, 0.2243], Miss: [31.17%, 34.17%]\n"
     ]
    },
    {
     "name": "stderr",
     "output_type": "stream",
     "text": [
      "\n",
      "Train 23/100: 100%|██████████| 10/10 [00:00<00:00, 12.34it/s]\n",
      "Valid 23/100: 100%|██████████| 2/2 [00:00<00:00, 71.53it/s]"
     ]
    },
    {
     "name": "stdout",
     "output_type": "stream",
     "text": [
      "Epoch: 23/100, Loss: [0.1985, 0.2138], Miss: [31.67%, 33.33%]\n"
     ]
    },
    {
     "name": "stderr",
     "output_type": "stream",
     "text": [
      "\n",
      "Train 24/100: 100%|██████████| 10/10 [00:00<00:00, 14.00it/s]\n",
      "Valid 24/100: 100%|██████████| 2/2 [00:00<00:00, 71.78it/s]"
     ]
    },
    {
     "name": "stdout",
     "output_type": "stream",
     "text": [
      "Epoch: 24/100, Loss: [0.1938, 0.2180], Miss: [29.00%, 34.17%]\n"
     ]
    },
    {
     "name": "stderr",
     "output_type": "stream",
     "text": [
      "\n",
      "Train 25/100: 100%|██████████| 10/10 [00:00<00:00, 13.11it/s]\n",
      "Valid 25/100: 100%|██████████| 2/2 [00:00<00:00, 70.44it/s]"
     ]
    },
    {
     "name": "stdout",
     "output_type": "stream",
     "text": [
      "Epoch: 25/100, Loss: [0.1675, 0.2166], Miss: [28.33%, 32.50%]\n"
     ]
    },
    {
     "name": "stderr",
     "output_type": "stream",
     "text": [
      "\n",
      "Train 26/100: 100%|██████████| 10/10 [00:00<00:00, 15.56it/s]\n",
      "Valid 26/100: 100%|██████████| 2/2 [00:00<00:00, 71.72it/s]"
     ]
    },
    {
     "name": "stdout",
     "output_type": "stream",
     "text": [
      "Epoch: 26/100, Loss: [0.1601, 0.2137], Miss: [28.00%, 31.67%]\n",
      "Improved validation. Saving weights file... "
     ]
    },
    {
     "name": "stderr",
     "output_type": "stream",
     "text": [
      "\n"
     ]
    },
    {
     "name": "stdout",
     "output_type": "stream",
     "text": [
      "Done.\n"
     ]
    },
    {
     "name": "stderr",
     "output_type": "stream",
     "text": [
      "Train 27/100: 100%|██████████| 10/10 [00:00<00:00, 15.60it/s]\n",
      "Valid 27/100: 100%|██████████| 2/2 [00:00<00:00, 71.43it/s]"
     ]
    },
    {
     "name": "stdout",
     "output_type": "stream",
     "text": [
      "Epoch: 27/100, Loss: [0.1570, 0.2216], Miss: [27.50%, 30.83%]\n",
      "Improved validation. Saving weights file... "
     ]
    },
    {
     "name": "stderr",
     "output_type": "stream",
     "text": [
      "\n"
     ]
    },
    {
     "name": "stdout",
     "output_type": "stream",
     "text": [
      "Done.\n"
     ]
    },
    {
     "name": "stderr",
     "output_type": "stream",
     "text": [
      "Train 28/100: 100%|██████████| 10/10 [00:00<00:00, 14.74it/s]\n",
      "Valid 28/100: 100%|██████████| 2/2 [00:00<00:00, 71.49it/s]"
     ]
    },
    {
     "name": "stdout",
     "output_type": "stream",
     "text": [
      "Epoch: 28/100, Loss: [0.1692, 0.2269], Miss: [28.17%, 40.83%]\n"
     ]
    },
    {
     "name": "stderr",
     "output_type": "stream",
     "text": [
      "\n",
      "Train 29/100: 100%|██████████| 10/10 [00:00<00:00, 13.74it/s]\n",
      "Valid 29/100: 100%|██████████| 2/2 [00:00<00:00, 71.29it/s]"
     ]
    },
    {
     "name": "stdout",
     "output_type": "stream",
     "text": [
      "Epoch: 29/100, Loss: [0.1591, 0.2348], Miss: [28.83%, 37.50%]\n"
     ]
    },
    {
     "name": "stderr",
     "output_type": "stream",
     "text": [
      "\n",
      "Train 30/100: 100%|██████████| 10/10 [00:00<00:00, 14.79it/s]\n",
      "Valid 30/100: 100%|██████████| 2/2 [00:00<00:00, 71.47it/s]"
     ]
    },
    {
     "name": "stdout",
     "output_type": "stream",
     "text": [
      "Epoch: 30/100, Loss: [0.1786, 0.2107], Miss: [29.33%, 31.67%]\n"
     ]
    },
    {
     "name": "stderr",
     "output_type": "stream",
     "text": [
      "\n",
      "Train 31/100: 100%|██████████| 10/10 [00:00<00:00, 13.30it/s]\n",
      "Valid 31/100: 100%|██████████| 2/2 [00:00<00:00, 71.21it/s]"
     ]
    },
    {
     "name": "stdout",
     "output_type": "stream",
     "text": [
      "Epoch: 31/100, Loss: [0.1721, 0.2055], Miss: [29.17%, 35.00%]\n"
     ]
    },
    {
     "name": "stderr",
     "output_type": "stream",
     "text": [
      "\n",
      "Train 32/100: 100%|██████████| 10/10 [00:00<00:00, 13.73it/s]\n",
      "Valid 32/100: 100%|██████████| 2/2 [00:00<00:00, 71.54it/s]"
     ]
    },
    {
     "name": "stdout",
     "output_type": "stream",
     "text": [
      "Epoch: 32/100, Loss: [0.1572, 0.2328], Miss: [27.50%, 37.50%]\n"
     ]
    },
    {
     "name": "stderr",
     "output_type": "stream",
     "text": [
      "\n",
      "Train 33/100: 100%|██████████| 10/10 [00:00<00:00, 13.49it/s]\n",
      "Valid 33/100: 100%|██████████| 2/2 [00:00<00:00, 71.59it/s]"
     ]
    },
    {
     "name": "stdout",
     "output_type": "stream",
     "text": [
      "Epoch: 33/100, Loss: [0.1560, 0.2177], Miss: [26.17%, 37.50%]\n"
     ]
    },
    {
     "name": "stderr",
     "output_type": "stream",
     "text": [
      "\n",
      "Train 34/100: 100%|██████████| 10/10 [00:00<00:00, 13.70it/s]\n",
      "Valid 34/100: 100%|██████████| 2/2 [00:00<00:00, 71.40it/s]"
     ]
    },
    {
     "name": "stdout",
     "output_type": "stream",
     "text": [
      "Epoch: 34/100, Loss: [0.1817, 0.2228], Miss: [26.67%, 35.00%]\n"
     ]
    },
    {
     "name": "stderr",
     "output_type": "stream",
     "text": [
      "\n",
      "Train 35/100: 100%|██████████| 10/10 [00:00<00:00, 14.24it/s]\n",
      "Valid 35/100: 100%|██████████| 2/2 [00:00<00:00, 71.65it/s]"
     ]
    },
    {
     "name": "stdout",
     "output_type": "stream",
     "text": [
      "Epoch: 35/100, Loss: [0.1352, 0.2113], Miss: [25.50%, 32.50%]\n"
     ]
    },
    {
     "name": "stderr",
     "output_type": "stream",
     "text": [
      "\n",
      "Train 36/100: 100%|██████████| 10/10 [00:00<00:00, 14.39it/s]\n",
      "Valid 36/100: 100%|██████████| 2/2 [00:00<00:00, 71.45it/s]"
     ]
    },
    {
     "name": "stdout",
     "output_type": "stream",
     "text": [
      "Epoch: 36/100, Loss: [0.1675, 0.2191], Miss: [27.67%, 34.17%]\n"
     ]
    },
    {
     "name": "stderr",
     "output_type": "stream",
     "text": [
      "\n",
      "Train 37/100: 100%|██████████| 10/10 [00:00<00:00, 14.76it/s]\n",
      "Valid 37/100: 100%|██████████| 2/2 [00:00<00:00, 71.39it/s]"
     ]
    },
    {
     "name": "stdout",
     "output_type": "stream",
     "text": [
      "Epoch: 37/100, Loss: [0.1448, 0.2267], Miss: [30.17%, 39.17%]\n"
     ]
    },
    {
     "name": "stderr",
     "output_type": "stream",
     "text": [
      "\n",
      "Train 38/100: 100%|██████████| 10/10 [00:00<00:00, 13.93it/s]\n",
      "Valid 38/100: 100%|██████████| 2/2 [00:00<00:00, 71.60it/s]"
     ]
    },
    {
     "name": "stdout",
     "output_type": "stream",
     "text": [
      "Epoch: 38/100, Loss: [0.1516, 0.2625], Miss: [27.50%, 48.33%]\n"
     ]
    },
    {
     "name": "stderr",
     "output_type": "stream",
     "text": [
      "\n",
      "Train 39/100: 100%|██████████| 10/10 [00:00<00:00, 13.88it/s]\n",
      "Valid 39/100: 100%|██████████| 2/2 [00:00<00:00, 71.61it/s]"
     ]
    },
    {
     "name": "stdout",
     "output_type": "stream",
     "text": [
      "Epoch: 39/100, Loss: [0.1518, 0.2006], Miss: [28.17%, 30.00%]\n",
      "Improved validation. Saving weights file... "
     ]
    },
    {
     "name": "stderr",
     "output_type": "stream",
     "text": [
      "\n"
     ]
    },
    {
     "name": "stdout",
     "output_type": "stream",
     "text": [
      "Done.\n"
     ]
    },
    {
     "name": "stderr",
     "output_type": "stream",
     "text": [
      "Train 40/100: 100%|██████████| 10/10 [00:00<00:00, 13.30it/s]\n",
      "Valid 40/100: 100%|██████████| 2/2 [00:00<00:00, 71.68it/s]"
     ]
    },
    {
     "name": "stdout",
     "output_type": "stream",
     "text": [
      "Epoch: 40/100, Loss: [0.1371, 0.2136], Miss: [25.33%, 33.33%]\n"
     ]
    },
    {
     "name": "stderr",
     "output_type": "stream",
     "text": [
      "\n",
      "Train 41/100: 100%|██████████| 10/10 [00:00<00:00, 15.37it/s]\n",
      "Valid 41/100: 100%|██████████| 2/2 [00:00<00:00, 68.70it/s]"
     ]
    },
    {
     "name": "stdout",
     "output_type": "stream",
     "text": [
      "Epoch: 41/100, Loss: [0.1422, 0.2287], Miss: [24.83%, 35.83%]\n"
     ]
    },
    {
     "name": "stderr",
     "output_type": "stream",
     "text": [
      "\n",
      "Train 42/100: 100%|██████████| 10/10 [00:00<00:00, 15.08it/s]\n",
      "Valid 42/100: 100%|██████████| 2/2 [00:00<00:00, 71.46it/s]"
     ]
    },
    {
     "name": "stdout",
     "output_type": "stream",
     "text": [
      "Epoch: 42/100, Loss: [0.1500, 0.2451], Miss: [25.50%, 34.17%]\n"
     ]
    },
    {
     "name": "stderr",
     "output_type": "stream",
     "text": [
      "\n",
      "Train 43/100: 100%|██████████| 10/10 [00:00<00:00, 16.25it/s]\n",
      "Valid 43/100: 100%|██████████| 2/2 [00:00<00:00, 71.05it/s]"
     ]
    },
    {
     "name": "stdout",
     "output_type": "stream",
     "text": [
      "Epoch: 43/100, Loss: [0.1240, 0.2121], Miss: [23.67%, 34.17%]\n"
     ]
    },
    {
     "name": "stderr",
     "output_type": "stream",
     "text": [
      "\n",
      "Train 44/100: 100%|██████████| 10/10 [00:00<00:00, 15.69it/s]\n",
      "Valid 44/100: 100%|██████████| 2/2 [00:00<00:00, 71.81it/s]"
     ]
    },
    {
     "name": "stdout",
     "output_type": "stream",
     "text": [
      "Epoch: 44/100, Loss: [0.1438, 0.2328], Miss: [26.83%, 34.17%]\n"
     ]
    },
    {
     "name": "stderr",
     "output_type": "stream",
     "text": [
      "\n",
      "Train 45/100: 100%|██████████| 10/10 [00:00<00:00, 14.04it/s]\n",
      "Valid 45/100: 100%|██████████| 2/2 [00:00<00:00, 71.56it/s]"
     ]
    },
    {
     "name": "stdout",
     "output_type": "stream",
     "text": [
      "Epoch: 45/100, Loss: [0.1682, 0.2165], Miss: [24.67%, 30.83%]\n"
     ]
    },
    {
     "name": "stderr",
     "output_type": "stream",
     "text": [
      "\n",
      "Train 46/100: 100%|██████████| 10/10 [00:00<00:00, 14.46it/s]\n",
      "Valid 46/100: 100%|██████████| 2/2 [00:00<00:00, 71.24it/s]"
     ]
    },
    {
     "name": "stdout",
     "output_type": "stream",
     "text": [
      "Epoch: 46/100, Loss: [0.1154, 0.2048], Miss: [23.83%, 35.00%]\n"
     ]
    },
    {
     "name": "stderr",
     "output_type": "stream",
     "text": [
      "\n",
      "Train 47/100: 100%|██████████| 10/10 [00:00<00:00, 15.61it/s]\n",
      "Valid 47/100: 100%|██████████| 2/2 [00:00<00:00, 71.32it/s]"
     ]
    },
    {
     "name": "stdout",
     "output_type": "stream",
     "text": [
      "Epoch: 47/100, Loss: [0.1306, 0.2061], Miss: [23.00%, 30.00%]\n"
     ]
    },
    {
     "name": "stderr",
     "output_type": "stream",
     "text": [
      "\n",
      "Train 48/100: 100%|██████████| 10/10 [00:00<00:00, 16.62it/s]\n",
      "Valid 48/100: 100%|██████████| 2/2 [00:00<00:00, 71.18it/s]"
     ]
    },
    {
     "name": "stdout",
     "output_type": "stream",
     "text": [
      "Epoch: 48/100, Loss: [0.1208, 0.1945], Miss: [23.67%, 30.00%]\n"
     ]
    },
    {
     "name": "stderr",
     "output_type": "stream",
     "text": [
      "\n",
      "Train 49/100: 100%|██████████| 10/10 [00:00<00:00, 13.43it/s]\n",
      "Valid 49/100: 100%|██████████| 2/2 [00:00<00:00, 71.01it/s]"
     ]
    },
    {
     "name": "stdout",
     "output_type": "stream",
     "text": [
      "Epoch: 49/100, Loss: [0.1341, 0.2101], Miss: [22.17%, 30.83%]\n"
     ]
    },
    {
     "name": "stderr",
     "output_type": "stream",
     "text": [
      "\n",
      "Train 50/100: 100%|██████████| 10/10 [00:00<00:00, 12.90it/s]\n",
      "Valid 50/100: 100%|██████████| 2/2 [00:00<00:00, 71.66it/s]"
     ]
    },
    {
     "name": "stdout",
     "output_type": "stream",
     "text": [
      "Epoch: 50/100, Loss: [0.1454, 0.2064], Miss: [23.50%, 33.33%]\n"
     ]
    },
    {
     "name": "stderr",
     "output_type": "stream",
     "text": [
      "\n",
      "Train 51/100: 100%|██████████| 10/10 [00:00<00:00, 14.99it/s]\n",
      "Valid 51/100: 100%|██████████| 2/2 [00:00<00:00, 71.58it/s]"
     ]
    },
    {
     "name": "stdout",
     "output_type": "stream",
     "text": [
      "Epoch: 51/100, Loss: [0.1427, 0.2368], Miss: [23.67%, 34.17%]\n"
     ]
    },
    {
     "name": "stderr",
     "output_type": "stream",
     "text": [
      "\n",
      "Train 52/100: 100%|██████████| 10/10 [00:00<00:00, 15.34it/s]\n",
      "Valid 52/100: 100%|██████████| 2/2 [00:00<00:00, 71.56it/s]"
     ]
    },
    {
     "name": "stdout",
     "output_type": "stream",
     "text": [
      "Epoch: 52/100, Loss: [0.1371, 0.2414], Miss: [24.83%, 33.33%]\n"
     ]
    },
    {
     "name": "stderr",
     "output_type": "stream",
     "text": [
      "\n",
      "Train 53/100: 100%|██████████| 10/10 [00:00<00:00, 16.07it/s]\n",
      "Valid 53/100: 100%|██████████| 2/2 [00:00<00:00, 71.54it/s]"
     ]
    },
    {
     "name": "stdout",
     "output_type": "stream",
     "text": [
      "Epoch: 53/100, Loss: [0.1198, 0.2664], Miss: [22.50%, 31.67%]\n"
     ]
    },
    {
     "name": "stderr",
     "output_type": "stream",
     "text": [
      "\n",
      "Train 54/100: 100%|██████████| 10/10 [00:00<00:00, 13.92it/s]\n",
      "Valid 54/100: 100%|██████████| 2/2 [00:00<00:00, 70.83it/s]"
     ]
    },
    {
     "name": "stdout",
     "output_type": "stream",
     "text": [
      "Epoch: 54/100, Loss: [0.1278, 0.2233], Miss: [22.67%, 34.17%]\n"
     ]
    },
    {
     "name": "stderr",
     "output_type": "stream",
     "text": [
      "\n",
      "Train 55/100: 100%|██████████| 10/10 [00:00<00:00, 14.36it/s]\n",
      "Valid 55/100: 100%|██████████| 2/2 [00:00<00:00, 71.67it/s]"
     ]
    },
    {
     "name": "stdout",
     "output_type": "stream",
     "text": [
      "Epoch: 55/100, Loss: [0.1683, 0.2153], Miss: [25.17%, 35.83%]\n"
     ]
    },
    {
     "name": "stderr",
     "output_type": "stream",
     "text": [
      "\n",
      "Train 56/100: 100%|██████████| 10/10 [00:00<00:00, 12.82it/s]\n",
      "Valid 56/100: 100%|██████████| 2/2 [00:00<00:00, 71.48it/s]"
     ]
    },
    {
     "name": "stdout",
     "output_type": "stream",
     "text": [
      "Epoch: 56/100, Loss: [0.1324, 0.2356], Miss: [20.83%, 36.67%]\n"
     ]
    },
    {
     "name": "stderr",
     "output_type": "stream",
     "text": [
      "\n",
      "Train 57/100: 100%|██████████| 10/10 [00:00<00:00, 12.66it/s]\n",
      "Valid 57/100: 100%|██████████| 2/2 [00:00<00:00, 71.45it/s]"
     ]
    },
    {
     "name": "stdout",
     "output_type": "stream",
     "text": [
      "Epoch: 57/100, Loss: [0.1382, 0.2400], Miss: [22.33%, 35.00%]\n"
     ]
    },
    {
     "name": "stderr",
     "output_type": "stream",
     "text": [
      "\n",
      "Train 58/100: 100%|██████████| 10/10 [00:00<00:00, 13.90it/s]\n",
      "Valid 58/100: 100%|██████████| 2/2 [00:00<00:00, 71.23it/s]"
     ]
    },
    {
     "name": "stdout",
     "output_type": "stream",
     "text": [
      "Epoch: 58/100, Loss: [0.1120, 0.2751], Miss: [21.17%, 30.83%]\n"
     ]
    },
    {
     "name": "stderr",
     "output_type": "stream",
     "text": [
      "\n",
      "Train 59/100: 100%|██████████| 10/10 [00:00<00:00, 13.95it/s]\n",
      "Valid 59/100: 100%|██████████| 2/2 [00:00<00:00, 71.15it/s]"
     ]
    },
    {
     "name": "stdout",
     "output_type": "stream",
     "text": [
      "Epoch: 59/100, Loss: [0.1078, 0.2224], Miss: [20.83%, 35.00%]\n"
     ]
    },
    {
     "name": "stderr",
     "output_type": "stream",
     "text": [
      "\n",
      "Train 60/100: 100%|██████████| 10/10 [00:00<00:00, 14.72it/s]\n",
      "Valid 60/100: 100%|██████████| 2/2 [00:00<00:00, 71.04it/s]"
     ]
    },
    {
     "name": "stdout",
     "output_type": "stream",
     "text": [
      "Epoch: 60/100, Loss: [0.1087, 0.2340], Miss: [19.50%, 35.00%]\n"
     ]
    },
    {
     "name": "stderr",
     "output_type": "stream",
     "text": [
      "\n",
      "Train 61/100: 100%|██████████| 10/10 [00:00<00:00, 13.42it/s]\n",
      "Valid 61/100: 100%|██████████| 2/2 [00:00<00:00, 71.32it/s]"
     ]
    },
    {
     "name": "stdout",
     "output_type": "stream",
     "text": [
      "Epoch: 61/100, Loss: [0.0989, 0.2887], Miss: [17.83%, 43.33%]\n"
     ]
    },
    {
     "name": "stderr",
     "output_type": "stream",
     "text": [
      "\n",
      "Train 62/100: 100%|██████████| 10/10 [00:00<00:00, 15.04it/s]\n",
      "Valid 62/100: 100%|██████████| 2/2 [00:00<00:00, 71.33it/s]"
     ]
    },
    {
     "name": "stdout",
     "output_type": "stream",
     "text": [
      "Epoch: 62/100, Loss: [0.1250, 0.2111], Miss: [22.17%, 30.83%]\n"
     ]
    },
    {
     "name": "stderr",
     "output_type": "stream",
     "text": [
      "\n",
      "Train 63/100: 100%|██████████| 10/10 [00:00<00:00, 12.84it/s]\n",
      "Valid 63/100: 100%|██████████| 2/2 [00:00<00:00, 71.51it/s]"
     ]
    },
    {
     "name": "stdout",
     "output_type": "stream",
     "text": [
      "Epoch: 63/100, Loss: [0.1071, 0.2442], Miss: [17.50%, 30.83%]\n"
     ]
    },
    {
     "name": "stderr",
     "output_type": "stream",
     "text": [
      "\n",
      "Train 64/100: 100%|██████████| 10/10 [00:00<00:00, 14.73it/s]\n",
      "Valid 64/100: 100%|██████████| 2/2 [00:00<00:00, 71.48it/s]"
     ]
    },
    {
     "name": "stdout",
     "output_type": "stream",
     "text": [
      "Epoch: 64/100, Loss: [0.0978, 0.2428], Miss: [18.50%, 30.00%]\n"
     ]
    },
    {
     "name": "stderr",
     "output_type": "stream",
     "text": [
      "\n",
      "Train 65/100: 100%|██████████| 10/10 [00:00<00:00, 13.27it/s]\n",
      "Valid 65/100: 100%|██████████| 2/2 [00:00<00:00, 71.61it/s]"
     ]
    },
    {
     "name": "stdout",
     "output_type": "stream",
     "text": [
      "Epoch: 65/100, Loss: [0.0821, 0.2658], Miss: [15.50%, 31.67%]\n"
     ]
    },
    {
     "name": "stderr",
     "output_type": "stream",
     "text": [
      "\n",
      "Train 66/100: 100%|██████████| 10/10 [00:00<00:00, 15.45it/s]\n",
      "Valid 66/100: 100%|██████████| 2/2 [00:00<00:00, 71.80it/s]"
     ]
    },
    {
     "name": "stdout",
     "output_type": "stream",
     "text": [
      "Epoch: 66/100, Loss: [0.0942, 0.3221], Miss: [16.17%, 35.00%]\n"
     ]
    },
    {
     "name": "stderr",
     "output_type": "stream",
     "text": [
      "\n",
      "Train 67/100: 100%|██████████| 10/10 [00:00<00:00, 13.28it/s]\n",
      "Valid 67/100: 100%|██████████| 2/2 [00:00<00:00, 70.51it/s]"
     ]
    },
    {
     "name": "stdout",
     "output_type": "stream",
     "text": [
      "Epoch: 67/100, Loss: [0.0706, 0.2970], Miss: [15.00%, 33.33%]\n"
     ]
    },
    {
     "name": "stderr",
     "output_type": "stream",
     "text": [
      "\n",
      "Train 68/100: 100%|██████████| 10/10 [00:00<00:00, 13.22it/s]\n",
      "Valid 68/100: 100%|██████████| 2/2 [00:00<00:00, 71.11it/s]"
     ]
    },
    {
     "name": "stdout",
     "output_type": "stream",
     "text": [
      "Epoch: 68/100, Loss: [0.0852, 0.2964], Miss: [15.17%, 28.33%]\n",
      "Improved validation. Saving weights file... "
     ]
    },
    {
     "name": "stderr",
     "output_type": "stream",
     "text": [
      "\n"
     ]
    },
    {
     "name": "stdout",
     "output_type": "stream",
     "text": [
      "Done.\n"
     ]
    },
    {
     "name": "stderr",
     "output_type": "stream",
     "text": [
      "Train 69/100: 100%|██████████| 10/10 [00:00<00:00, 12.96it/s]\n",
      "Valid 69/100: 100%|██████████| 2/2 [00:00<00:00, 71.00it/s]"
     ]
    },
    {
     "name": "stdout",
     "output_type": "stream",
     "text": [
      "Epoch: 69/100, Loss: [0.0783, 0.2972], Miss: [13.83%, 32.50%]\n"
     ]
    },
    {
     "name": "stderr",
     "output_type": "stream",
     "text": [
      "\n",
      "Train 70/100: 100%|██████████| 10/10 [00:00<00:00, 15.33it/s]\n",
      "Valid 70/100: 100%|██████████| 2/2 [00:00<00:00, 71.58it/s]"
     ]
    },
    {
     "name": "stdout",
     "output_type": "stream",
     "text": [
      "Epoch: 70/100, Loss: [0.0790, 0.2712], Miss: [15.17%, 31.67%]\n"
     ]
    },
    {
     "name": "stderr",
     "output_type": "stream",
     "text": [
      "\n",
      "Train 71/100: 100%|██████████| 10/10 [00:00<00:00, 16.13it/s]\n",
      "Valid 71/100: 100%|██████████| 2/2 [00:00<00:00, 71.43it/s]"
     ]
    },
    {
     "name": "stdout",
     "output_type": "stream",
     "text": [
      "Epoch: 71/100, Loss: [0.0618, 0.2810], Miss: [13.83%, 32.50%]\n"
     ]
    },
    {
     "name": "stderr",
     "output_type": "stream",
     "text": [
      "\n",
      "Train 72/100: 100%|██████████| 10/10 [00:00<00:00, 14.50it/s]\n",
      "Valid 72/100: 100%|██████████| 2/2 [00:00<00:00, 71.09it/s]"
     ]
    },
    {
     "name": "stdout",
     "output_type": "stream",
     "text": [
      "Epoch: 72/100, Loss: [0.0754, 0.3121], Miss: [16.83%, 34.17%]\n"
     ]
    },
    {
     "name": "stderr",
     "output_type": "stream",
     "text": [
      "\n",
      "Train 73/100: 100%|██████████| 10/10 [00:00<00:00, 13.35it/s]\n",
      "Valid 73/100: 100%|██████████| 2/2 [00:00<00:00, 71.57it/s]"
     ]
    },
    {
     "name": "stdout",
     "output_type": "stream",
     "text": [
      "Epoch: 73/100, Loss: [0.0467, 0.3712], Miss: [12.00%, 32.50%]\n"
     ]
    },
    {
     "name": "stderr",
     "output_type": "stream",
     "text": [
      "\n",
      "Train 74/100: 100%|██████████| 10/10 [00:00<00:00, 13.75it/s]\n",
      "Valid 74/100: 100%|██████████| 2/2 [00:00<00:00, 71.74it/s]"
     ]
    },
    {
     "name": "stdout",
     "output_type": "stream",
     "text": [
      "Epoch: 74/100, Loss: [0.0483, 0.3770], Miss: [11.83%, 30.83%]\n"
     ]
    },
    {
     "name": "stderr",
     "output_type": "stream",
     "text": [
      "\n",
      "Train 75/100: 100%|██████████| 10/10 [00:00<00:00, 15.28it/s]\n",
      "Valid 75/100: 100%|██████████| 2/2 [00:00<00:00, 71.40it/s]"
     ]
    },
    {
     "name": "stdout",
     "output_type": "stream",
     "text": [
      "Epoch: 75/100, Loss: [0.0705, 0.3312], Miss: [13.17%, 29.17%]\n"
     ]
    },
    {
     "name": "stderr",
     "output_type": "stream",
     "text": [
      "\n",
      "Train 76/100: 100%|██████████| 10/10 [00:00<00:00, 13.73it/s]\n",
      "Valid 76/100: 100%|██████████| 2/2 [00:00<00:00, 71.36it/s]"
     ]
    },
    {
     "name": "stdout",
     "output_type": "stream",
     "text": [
      "Epoch: 76/100, Loss: [0.0571, 0.3145], Miss: [12.50%, 29.17%]\n"
     ]
    },
    {
     "name": "stderr",
     "output_type": "stream",
     "text": [
      "\n",
      "Train 77/100: 100%|██████████| 10/10 [00:00<00:00, 15.65it/s]\n",
      "Valid 77/100: 100%|██████████| 2/2 [00:00<00:00, 71.51it/s]"
     ]
    },
    {
     "name": "stdout",
     "output_type": "stream",
     "text": [
      "Epoch: 77/100, Loss: [0.0461, 0.3777], Miss: [10.33%, 33.33%]\n"
     ]
    },
    {
     "name": "stderr",
     "output_type": "stream",
     "text": [
      "\n",
      "Train 78/100: 100%|██████████| 10/10 [00:00<00:00, 13.63it/s]\n",
      "Valid 78/100: 100%|██████████| 2/2 [00:00<00:00, 70.59it/s]"
     ]
    },
    {
     "name": "stdout",
     "output_type": "stream",
     "text": [
      "Epoch: 78/100, Loss: [0.0498, 0.3611], Miss: [11.50%, 31.67%]\n"
     ]
    },
    {
     "name": "stderr",
     "output_type": "stream",
     "text": [
      "\n",
      "Train 79/100: 100%|██████████| 10/10 [00:00<00:00, 14.98it/s]\n",
      "Valid 79/100: 100%|██████████| 2/2 [00:00<00:00, 71.39it/s]"
     ]
    },
    {
     "name": "stdout",
     "output_type": "stream",
     "text": [
      "Epoch: 79/100, Loss: [0.0711, 0.3636], Miss: [12.83%, 28.33%]\n"
     ]
    },
    {
     "name": "stderr",
     "output_type": "stream",
     "text": [
      "\n",
      "Train 80/100: 100%|██████████| 10/10 [00:00<00:00, 15.46it/s]\n",
      "Valid 80/100: 100%|██████████| 2/2 [00:00<00:00, 71.34it/s]"
     ]
    },
    {
     "name": "stdout",
     "output_type": "stream",
     "text": [
      "Epoch: 80/100, Loss: [0.0510, 0.3759], Miss: [10.67%, 33.33%]\n"
     ]
    },
    {
     "name": "stderr",
     "output_type": "stream",
     "text": [
      "\n",
      "Train 81/100: 100%|██████████| 10/10 [00:00<00:00, 15.54it/s]\n",
      "Valid 81/100: 100%|██████████| 2/2 [00:00<00:00, 71.21it/s]"
     ]
    },
    {
     "name": "stdout",
     "output_type": "stream",
     "text": [
      "Epoch: 81/100, Loss: [0.0488, 0.3965], Miss: [11.33%, 29.17%]\n"
     ]
    },
    {
     "name": "stderr",
     "output_type": "stream",
     "text": [
      "\n",
      "Train 82/100: 100%|██████████| 10/10 [00:00<00:00, 12.66it/s]\n",
      "Valid 82/100: 100%|██████████| 2/2 [00:00<00:00, 71.58it/s]"
     ]
    },
    {
     "name": "stdout",
     "output_type": "stream",
     "text": [
      "Epoch: 82/100, Loss: [0.0408, 0.4053], Miss: [11.67%, 33.33%]\n"
     ]
    },
    {
     "name": "stderr",
     "output_type": "stream",
     "text": [
      "\n",
      "Train 83/100: 100%|██████████| 10/10 [00:00<00:00, 15.21it/s]\n",
      "Valid 83/100: 100%|██████████| 2/2 [00:00<00:00, 71.16it/s]"
     ]
    },
    {
     "name": "stdout",
     "output_type": "stream",
     "text": [
      "Epoch: 83/100, Loss: [0.0432, 0.3661], Miss: [12.33%, 30.00%]\n"
     ]
    },
    {
     "name": "stderr",
     "output_type": "stream",
     "text": [
      "\n",
      "Train 84/100: 100%|██████████| 10/10 [00:00<00:00, 15.48it/s]\n",
      "Valid 84/100: 100%|██████████| 2/2 [00:00<00:00, 71.21it/s]"
     ]
    },
    {
     "name": "stdout",
     "output_type": "stream",
     "text": [
      "Epoch: 84/100, Loss: [0.0410, 0.3564], Miss: [11.00%, 39.17%]\n"
     ]
    },
    {
     "name": "stderr",
     "output_type": "stream",
     "text": [
      "\n",
      "Train 85/100: 100%|██████████| 10/10 [00:00<00:00, 13.89it/s]\n",
      "Valid 85/100: 100%|██████████| 2/2 [00:00<00:00, 70.97it/s]"
     ]
    },
    {
     "name": "stdout",
     "output_type": "stream",
     "text": [
      "Epoch: 85/100, Loss: [0.0318, 0.3885], Miss: [9.17%, 27.50%]\n",
      "Improved validation. Saving weights file... "
     ]
    },
    {
     "name": "stderr",
     "output_type": "stream",
     "text": [
      "\n"
     ]
    },
    {
     "name": "stdout",
     "output_type": "stream",
     "text": [
      "Done.\n"
     ]
    },
    {
     "name": "stderr",
     "output_type": "stream",
     "text": [
      "Train 86/100: 100%|██████████| 10/10 [00:00<00:00, 13.39it/s]\n",
      "Valid 86/100: 100%|██████████| 2/2 [00:00<00:00, 70.66it/s]"
     ]
    },
    {
     "name": "stdout",
     "output_type": "stream",
     "text": [
      "Epoch: 86/100, Loss: [0.0571, 0.4090], Miss: [10.83%, 28.33%]\n"
     ]
    },
    {
     "name": "stderr",
     "output_type": "stream",
     "text": [
      "\n",
      "Train 87/100: 100%|██████████| 10/10 [00:00<00:00, 13.98it/s]\n",
      "Valid 87/100: 100%|██████████| 2/2 [00:00<00:00, 71.51it/s]"
     ]
    },
    {
     "name": "stdout",
     "output_type": "stream",
     "text": [
      "Epoch: 87/100, Loss: [0.0416, 0.3854], Miss: [10.50%, 32.50%]\n"
     ]
    },
    {
     "name": "stderr",
     "output_type": "stream",
     "text": [
      "\n",
      "Train 88/100: 100%|██████████| 10/10 [00:00<00:00, 13.66it/s]\n",
      "Valid 88/100: 100%|██████████| 2/2 [00:00<00:00, 70.50it/s]"
     ]
    },
    {
     "name": "stdout",
     "output_type": "stream",
     "text": [
      "Epoch: 88/100, Loss: [0.0458, 0.3334], Miss: [11.00%, 30.83%]\n"
     ]
    },
    {
     "name": "stderr",
     "output_type": "stream",
     "text": [
      "\n",
      "Train 89/100: 100%|██████████| 10/10 [00:00<00:00, 13.40it/s]\n",
      "Valid 89/100: 100%|██████████| 2/2 [00:00<00:00, 70.81it/s]"
     ]
    },
    {
     "name": "stdout",
     "output_type": "stream",
     "text": [
      "Epoch: 89/100, Loss: [0.0306, 0.3599], Miss: [9.67%, 29.17%]\n"
     ]
    },
    {
     "name": "stderr",
     "output_type": "stream",
     "text": [
      "\n",
      "Train 90/100: 100%|██████████| 10/10 [00:00<00:00, 12.97it/s]\n",
      "Valid 90/100: 100%|██████████| 2/2 [00:00<00:00, 71.32it/s]"
     ]
    },
    {
     "name": "stdout",
     "output_type": "stream",
     "text": [
      "Epoch: 90/100, Loss: [0.0335, 0.3706], Miss: [9.17%, 30.00%]\n"
     ]
    },
    {
     "name": "stderr",
     "output_type": "stream",
     "text": [
      "\n",
      "Train 91/100: 100%|██████████| 10/10 [00:00<00:00, 14.15it/s]\n",
      "Valid 91/100: 100%|██████████| 2/2 [00:00<00:00, 71.23it/s]"
     ]
    },
    {
     "name": "stdout",
     "output_type": "stream",
     "text": [
      "Epoch: 91/100, Loss: [0.0271, 0.4517], Miss: [9.17%, 30.00%]\n"
     ]
    },
    {
     "name": "stderr",
     "output_type": "stream",
     "text": [
      "\n",
      "Train 92/100: 100%|██████████| 10/10 [00:00<00:00, 13.36it/s]\n",
      "Valid 92/100: 100%|██████████| 2/2 [00:00<00:00, 70.81it/s]"
     ]
    },
    {
     "name": "stdout",
     "output_type": "stream",
     "text": [
      "Epoch: 92/100, Loss: [0.0329, 0.4707], Miss: [8.33%, 29.17%]\n"
     ]
    },
    {
     "name": "stderr",
     "output_type": "stream",
     "text": [
      "\n",
      "Train 93/100: 100%|██████████| 10/10 [00:00<00:00, 14.52it/s]\n",
      "Valid 93/100: 100%|██████████| 2/2 [00:00<00:00, 71.09it/s]"
     ]
    },
    {
     "name": "stdout",
     "output_type": "stream",
     "text": [
      "Epoch: 93/100, Loss: [0.0283, 0.4852], Miss: [9.17%, 33.33%]\n"
     ]
    },
    {
     "name": "stderr",
     "output_type": "stream",
     "text": [
      "\n",
      "Train 94/100: 100%|██████████| 10/10 [00:00<00:00, 12.82it/s]\n",
      "Valid 94/100: 100%|██████████| 2/2 [00:00<00:00, 70.81it/s]"
     ]
    },
    {
     "name": "stdout",
     "output_type": "stream",
     "text": [
      "Epoch: 94/100, Loss: [0.0276, 0.5534], Miss: [8.50%, 33.33%]\n"
     ]
    },
    {
     "name": "stderr",
     "output_type": "stream",
     "text": [
      "\n",
      "Train 95/100: 100%|██████████| 10/10 [00:00<00:00, 13.34it/s]\n",
      "Valid 95/100: 100%|██████████| 2/2 [00:00<00:00, 71.11it/s]"
     ]
    },
    {
     "name": "stdout",
     "output_type": "stream",
     "text": [
      "Epoch: 95/100, Loss: [0.0292, 0.5956], Miss: [8.83%, 34.17%]\n"
     ]
    },
    {
     "name": "stderr",
     "output_type": "stream",
     "text": [
      "\n",
      "Train 96/100: 100%|██████████| 10/10 [00:00<00:00, 15.82it/s]\n",
      "Valid 96/100: 100%|██████████| 2/2 [00:00<00:00, 71.08it/s]"
     ]
    },
    {
     "name": "stdout",
     "output_type": "stream",
     "text": [
      "Epoch: 96/100, Loss: [0.0349, 0.4923], Miss: [8.17%, 35.00%]\n"
     ]
    },
    {
     "name": "stderr",
     "output_type": "stream",
     "text": [
      "\n",
      "Train 97/100: 100%|██████████| 10/10 [00:00<00:00, 13.89it/s]\n",
      "Valid 97/100: 100%|██████████| 2/2 [00:00<00:00, 71.21it/s]"
     ]
    },
    {
     "name": "stdout",
     "output_type": "stream",
     "text": [
      "Epoch: 97/100, Loss: [0.0284, 0.4739], Miss: [8.50%, 33.33%]\n"
     ]
    },
    {
     "name": "stderr",
     "output_type": "stream",
     "text": [
      "\n",
      "Train 98/100: 100%|██████████| 10/10 [00:00<00:00, 13.44it/s]\n",
      "Valid 98/100: 100%|██████████| 2/2 [00:00<00:00, 70.98it/s]"
     ]
    },
    {
     "name": "stdout",
     "output_type": "stream",
     "text": [
      "Epoch: 98/100, Loss: [0.0247, 0.5233], Miss: [8.83%, 35.00%]\n"
     ]
    },
    {
     "name": "stderr",
     "output_type": "stream",
     "text": [
      "\n",
      "Train 99/100: 100%|██████████| 10/10 [00:00<00:00, 15.13it/s]\n",
      "Valid 99/100: 100%|██████████| 2/2 [00:00<00:00, 71.52it/s]"
     ]
    },
    {
     "name": "stdout",
     "output_type": "stream",
     "text": [
      "Epoch: 99/100, Loss: [0.0306, 0.5664], Miss: [8.83%, 35.00%]\n"
     ]
    },
    {
     "name": "stderr",
     "output_type": "stream",
     "text": [
      "\n",
      "Train 100/100: 100%|██████████| 10/10 [00:00<00:00, 14.21it/s]\n",
      "Valid 100/100: 100%|██████████| 2/2 [00:00<00:00, 71.11it/s]"
     ]
    },
    {
     "name": "stdout",
     "output_type": "stream",
     "text": [
      "Epoch: 100/100, Loss: [0.0295, 0.5403], Miss: [9.00%, 31.67%]\n"
     ]
    },
    {
     "name": "stderr",
     "output_type": "stream",
     "text": [
      "\n"
     ]
    }
   ],
   "source": [
    "model, opt, losses, missclass = run_epochs(model, train_dl, valid_dl, epochs=settings.epochs,\n",
    "                                           losses=losses, missclass=missclass)"
   ]
  },
  {
   "cell_type": "code",
   "execution_count": 29,
   "metadata": {},
   "outputs": [
    {
     "data": {
      "text/plain": [
       "tensor(2.3640, device='cuda:0', grad_fn=<NllLossBackward>)"
      ]
     },
     "execution_count": 29,
     "metadata": {},
     "output_type": "execute_result"
    }
   ],
   "source": [
    "x, y = next(iter(valid_dl))\n",
    "if cuda:\n",
    "    x = x.cuda()\n",
    "    y = y.cuda()\n",
    "loss_func = nn.CrossEntropyLoss()\n",
    "preds = model(x)\n",
    "_, y_preds = torch.max(preds, dim=1)\n",
    "loss = loss_func(preds, y.long())\n",
    "loss"
   ]
  },
  {
   "cell_type": "code",
   "execution_count": 30,
   "metadata": {},
   "outputs": [
    {
     "name": "stdout",
     "output_type": "stream",
     "text": [
      "torch.Size([60])\n",
      "tensor([1, 1, 1, 0, 1, 1, 0, 0, 0, 1, 0, 1, 0, 0, 0, 0, 1, 1, 0, 0, 1, 0, 0, 1,\n",
      "        0, 1, 1, 1, 1, 0, 1, 0, 2, 1, 1, 1, 0, 2, 0, 1, 2, 1, 0, 1, 1, 2, 1, 1,\n",
      "        1, 0, 0, 1, 1, 1, 1, 1, 0, 1, 0, 2], device='cuda:0')\n"
     ]
    }
   ],
   "source": [
    "print(y.shape)\n",
    "print(y[:])"
   ]
  },
  {
   "cell_type": "code",
   "execution_count": 31,
   "metadata": {
    "scrolled": true
   },
   "outputs": [
    {
     "name": "stdout",
     "output_type": "stream",
     "text": [
      "tensor([1, 1, 1, 0, 1, 1, 2, 2, 0, 1, 0, 1, 0, 0, 0, 0, 1, 1, 0, 0, 1, 0, 0, 2,\n",
      "        1, 1, 2, 1, 1, 0, 1, 0, 1, 0, 1, 1, 1, 1, 0, 0, 1, 1, 0, 1, 0, 1, 1, 2,\n",
      "        1, 1, 0, 2, 1, 1, 1, 1, 1, 1, 0, 2], device='cuda:0')\n",
      "tensor([[-2.9134,  8.9894, -2.7472],\n",
      "        [-1.3814,  2.7518, -0.7585],\n",
      "        [-2.8680, 11.0893, -4.2317],\n",
      "        [ 6.8768, -1.8920, -2.3301],\n",
      "        [-2.2565,  5.1861,  0.1614],\n",
      "        [-2.9596, 10.5690, -3.9475],\n",
      "        [-0.7743, -1.3633,  0.9433],\n",
      "        [-4.5001, -4.3665,  8.7878],\n",
      "        [ 6.8919, -2.7788, -1.9453],\n",
      "        [-2.8057, 10.8765, -4.2454],\n",
      "        [ 5.8457, -1.7918, -2.0701],\n",
      "        [-1.3525,  3.5023, -1.4944],\n",
      "        [ 3.9887, -2.7217, -0.8481],\n",
      "        [ 6.5153, -1.9030, -2.1798],\n",
      "        [ 1.7269,  0.2773, -1.4407],\n",
      "        [ 5.6513, -1.3962, -2.2793],\n",
      "        [-1.9182,  4.1985, -2.1228],\n",
      "        [-1.1791,  4.8220, -2.3851],\n",
      "        [ 6.7917, -1.7512, -2.3698],\n",
      "        [ 6.1277, -1.4977, -2.1855],\n",
      "        [-2.9797, 10.7019, -4.0286],\n",
      "        [ 5.2364, -1.4208, -1.6606],\n",
      "        [ 6.4592, -2.0299, -2.0691],\n",
      "        [-0.3254, -2.9376,  5.3609],\n",
      "        [-2.7507, 10.0561, -3.7912],\n",
      "        [-2.1278,  8.5130, -2.7937],\n",
      "        [-0.4761,  0.8296,  2.1244],\n",
      "        [-2.9808, 10.6952, -4.0322],\n",
      "        [-1.2157,  6.9496, -2.3233],\n",
      "        [ 3.7931,  1.7760, -1.8942],\n",
      "        [-2.9774, 10.6920, -4.0087],\n",
      "        [ 6.5601, -1.7610, -2.2760],\n",
      "        [-2.7003,  6.9447, -1.2371],\n",
      "        [ 6.0363, -1.3667, -2.1423],\n",
      "        [-2.8680,  9.8623, -3.5172],\n",
      "        [-2.2464,  9.0227, -3.3843],\n",
      "        [-2.7964,  8.8433, -2.7916],\n",
      "        [-3.0472, 10.5772, -3.9159],\n",
      "        [ 6.6060, -2.4241, -1.2542],\n",
      "        [ 6.4173, -1.8951, -1.3907],\n",
      "        [-2.7571,  9.9695, -3.5956],\n",
      "        [-2.0740,  8.4368, -2.7052],\n",
      "        [ 6.9586, -1.6407, -2.1595],\n",
      "        [-2.8651, 10.2060, -3.6375],\n",
      "        [ 6.3892, -1.3174, -2.3634],\n",
      "        [ 2.9324,  3.5748, -3.0619],\n",
      "        [-3.0683, 10.7253, -3.9742],\n",
      "        [-1.4435,  1.3944,  3.0515],\n",
      "        [-2.8505, 10.8849, -4.1604],\n",
      "        [-1.0120,  7.7432, -3.2496],\n",
      "        [ 5.9876, -1.8571, -2.0080],\n",
      "        [-0.7163, -2.6060,  5.7301],\n",
      "        [-0.4898,  6.3508, -2.9346],\n",
      "        [-1.6634,  5.5993, -1.7254],\n",
      "        [-3.0500, 10.3947, -3.8460],\n",
      "        [-1.8548,  4.4943, -1.4418],\n",
      "        [-1.8996,  4.2117, -1.3497],\n",
      "        [-3.0506, 10.5246, -3.9484],\n",
      "        [ 7.3711, -3.2578, -1.9341],\n",
      "        [-0.7036, -3.8690,  6.9204]],\n",
      "       device='cuda:0', grad_fn=<ThAddmmBackward>)\n"
     ]
    }
   ],
   "source": [
    "print(y_preds[:])\n",
    "print(preds)"
   ]
  },
  {
   "cell_type": "code",
   "execution_count": 32,
   "metadata": {},
   "outputs": [
    {
     "data": {
      "image/png": "[encoded data removed]",
      "text/plain": [
       "<Figure size 432x288 with 1 Axes>"
      ]
     },
     "metadata": {
      "needs_background": "light"
     },
     "output_type": "display_data"
    }
   ],
   "source": [
    "if in_notebook:\n",
    "    plt.plot(losses)\n",
    "    plt.legend(['train', 'valid'])"
   ]
  },
  {
   "cell_type": "code",
   "execution_count": 33,
   "metadata": {},
   "outputs": [
    {
     "data": {
      "image/png": "[encoded data removed]",
      "text/plain": [
       "<Figure size 432x288 with 1 Axes>"
      ]
     },
     "metadata": {
      "needs_background": "light"
     },
     "output_type": "display_data"
    }
   ],
   "source": [
    "if in_notebook:\n",
    "    plt.plot(missclass)\n",
    "    plt.legend(['train', 'valid'])"
   ]
  },
  {
   "cell_type": "code",
   "execution_count": null,
   "metadata": {},
   "outputs": [],
   "source": []
  },
  {
   "cell_type": "code",
   "execution_count": null,
   "metadata": {},
   "outputs": [],
   "source": []
  },
  {
   "cell_type": "code",
   "execution_count": null,
   "metadata": {},
   "outputs": [],
   "source": []
  }
 ],
 "metadata": {
  "kernelspec": {
   "display_name": "Python 3",
   "language": "python",
   "name": "python3"
  },
  "language_info": {
   "codemirror_mode": {
    "name": "ipython",
    "version": 3
   },
   "file_extension": ".py",
   "mimetype": "text/x-python",
   "name": "python",
   "nbconvert_exporter": "python",
   "pygments_lexer": "ipython3",
   "version": "3.7.0"
  }
 },
 "nbformat": 4,
 "nbformat_minor": 2
}
