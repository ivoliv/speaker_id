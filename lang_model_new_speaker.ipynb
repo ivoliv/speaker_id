{
 "cells": [
  {
   "cell_type": "code",
   "execution_count": 1,
   "metadata": {},
   "outputs": [
    {
     "name": "stderr",
     "output_type": "stream",
     "text": [
      "/anaconda3/envs/ONE/lib/python3.7/site-packages/sklearn/utils/__init__.py:4: DeprecationWarning: Using or importing the ABCs from 'collections' instead of from 'collections.abc' is deprecated, and in 3.8 it will stop working\n",
      "  from collections import Sequence\n"
     ]
    }
   ],
   "source": [
    "# To create python file:\n",
    "# jupyter nbconvert --to=python lang_model_new.ipynb\n",
    "\n",
    "import utils.data_import as data_import\n",
    "import utils.imdb_data as imdb_data\n",
    "import utils.ml_utils as ml_utils\n",
    "import model.neural as neural\n",
    "\n",
    "import torch\n",
    "import torch.nn as nn\n",
    "import torch.optim as optim\n",
    "\n",
    "from torchtext import data, vocab\n",
    "\n",
    "import os, sys\n",
    "import pdb\n",
    "import pandas as pd\n",
    "import numpy as np\n",
    "import math\n",
    "#from tqdm import tnrange, tqdm_notebook\n",
    "from tqdm import tqdm\n",
    "\n",
    "import importlib\n",
    "\n",
    "import settings\n",
    "\n",
    "np.random.seed(123)"
   ]
  },
  {
   "cell_type": "code",
   "execution_count": 2,
   "metadata": {},
   "outputs": [
    {
     "name": "stdout",
     "output_type": "stream",
     "text": [
      "Running in notebook: True\n"
     ]
    }
   ],
   "source": [
    "in_notebook = ml_utils.in_ipynb()\n",
    "print('Running in notebook:', in_notebook)"
   ]
  },
  {
   "cell_type": "code",
   "execution_count": 3,
   "metadata": {},
   "outputs": [
    {
     "name": "stdout",
     "output_type": "stream",
     "text": [
      "No cuda.\n"
     ]
    }
   ],
   "source": [
    "cuda = torch.cuda.is_available()\n",
    "if cuda:\n",
    "    print('Cuda is available!')\n",
    "    print('Device:', torch.cuda.get_device_name(torch.cuda.current_device()))\n",
    "else:\n",
    "    print('No cuda.')\n",
    "\n",
    "if in_notebook:\n",
    "    import matplotlib.pyplot as plt\n",
    "    %matplotlib inline"
   ]
  },
  {
   "cell_type": "code",
   "execution_count": 4,
   "metadata": {},
   "outputs": [
    {
     "name": "stdout",
     "output_type": "stream",
     "text": [
      "Importing vocab from vocab.p... Done.\n",
      "Imported vocab:  10,954\n",
      "Read total of: 871 lines from imdb file.\n",
      "Number of classes: 3: {'Doctor': 0, 'Patient': 1, 'Other': 2}\n",
      "Generated train: 609 lines\n",
      "Generated valid: 131 lines\n",
      "Generated test:  131 lines\n"
     ]
    },
    {
     "name": "stderr",
     "output_type": "stream",
     "text": [
      "/anaconda3/envs/ONE/lib/python3.7/site-packages/pandas/core/indexing.py:362: SettingWithCopyWarning: \n",
      "A value is trying to be set on a copy of a slice from a DataFrame.\n",
      "Try using .loc[row_indexer,col_indexer] = value instead\n",
      "\n",
      "See the caveats in the documentation: http://pandas.pydata.org/pandas-docs/stable/indexing.html#indexing-view-versus-copy\n",
      "  self.obj[key] = _infer_fill_value(value)\n",
      "/anaconda3/envs/ONE/lib/python3.7/site-packages/pandas/core/indexing.py:543: SettingWithCopyWarning: \n",
      "A value is trying to be set on a copy of a slice from a DataFrame.\n",
      "Try using .loc[row_indexer,col_indexer] = value instead\n",
      "\n",
      "See the caveats in the documentation: http://pandas.pydata.org/pandas-docs/stable/indexing.html#indexing-view-versus-copy\n",
      "  self.obj[item] = s\n"
     ]
    },
    {
     "data": {
      "text/html": [
       "<div>\n",
       "<style scoped>\n",
       "    .dataframe tbody tr th:only-of-type {\n",
       "        vertical-align: middle;\n",
       "    }\n",
       "\n",
       "    .dataframe tbody tr th {\n",
       "        vertical-align: top;\n",
       "    }\n",
       "\n",
       "    .dataframe thead th {\n",
       "        text-align: right;\n",
       "    }\n",
       "</style>\n",
       "<table border=\"1\" class=\"dataframe\">\n",
       "  <thead>\n",
       "    <tr style=\"text-align: right;\">\n",
       "      <th></th>\n",
       "      <th>tag</th>\n",
       "      <th>text</th>\n",
       "      <th>len</th>\n",
       "    </tr>\n",
       "  </thead>\n",
       "  <tbody>\n",
       "    <tr>\n",
       "      <th>425</th>\n",
       "      <td>2</td>\n",
       "      <td>[3, 27, 149, 158, 2, 3, 2, 2, 165, 149, 203, 6...</td>\n",
       "      <td>15</td>\n",
       "    </tr>\n",
       "    <tr>\n",
       "      <th>462</th>\n",
       "      <td>0</td>\n",
       "      <td>[3, 7893, 16, 1]</td>\n",
       "      <td>4</td>\n",
       "    </tr>\n",
       "    <tr>\n",
       "      <th>710</th>\n",
       "      <td>0</td>\n",
       "      <td>[3, 2, 2, 16, 1]</td>\n",
       "      <td>5</td>\n",
       "    </tr>\n",
       "    <tr>\n",
       "      <th>666</th>\n",
       "      <td>1</td>\n",
       "      <td>[3, 293, 725, 340, 2, 47, 2, 1828, 16, 1]</td>\n",
       "      <td>10</td>\n",
       "    </tr>\n",
       "    <tr>\n",
       "      <th>443</th>\n",
       "      <td>0</td>\n",
       "      <td>[3, 470, 2, 452, 216, 2, 2, 3, 925, 2, 470, 28...</td>\n",
       "      <td>17</td>\n",
       "    </tr>\n",
       "  </tbody>\n",
       "</table>\n",
       "</div>"
      ],
      "text/plain": [
       "     tag                                               text  len\n",
       "425    2  [3, 27, 149, 158, 2, 3, 2, 2, 165, 149, 203, 6...   15\n",
       "462    0                                   [3, 7893, 16, 1]    4\n",
       "710    0                                   [3, 2, 2, 16, 1]    5\n",
       "666    1          [3, 293, 725, 340, 2, 47, 2, 1828, 16, 1]   10\n",
       "443    0  [3, 470, 2, 452, 216, 2, 2, 3, 925, 2, 470, 28...   17"
      ]
     },
     "execution_count": 4,
     "metadata": {},
     "output_type": "execute_result"
    }
   ],
   "source": [
    "corpus = imdb_data.ImdbCorpus(filename=settings.speaker_id_file, lines=settings.lines_id, \n",
    "                              text_col='text', tag_col='tag',\n",
    "                              vocab_file='vocab.p'\n",
    "                             )\n",
    "corpus.train.itoklist_df.head()"
   ]
  },
  {
   "cell_type": "code",
   "execution_count": 5,
   "metadata": {},
   "outputs": [
    {
     "data": {
      "text/plain": [
       "<matplotlib.axes._subplots.AxesSubplot at 0x1a1eacb7f0>"
      ]
     },
     "execution_count": 5,
     "metadata": {},
     "output_type": "execute_result"
    },
    {
     "data": {
      "image/png": "[encoded data removed]",
      "text/plain": [
       "<Figure size 432x288 with 1 Axes>"
      ]
     },
     "metadata": {
      "needs_background": "light"
     },
     "output_type": "display_data"
    }
   ],
   "source": [
    "corpus.train.itoklist_df['len'].hist()"
   ]
  },
  {
   "cell_type": "code",
   "execution_count": 6,
   "metadata": {},
   "outputs": [
    {
     "name": "stdout",
     "output_type": "stream",
     "text": [
      " Number of batches: 10\n",
      " Preserved texts: 600\n",
      " Matrix size:       torch.Size([127, 60])\n",
      " Number of batches: 2\n",
      " Preserved texts: 120\n",
      " Matrix size:       torch.Size([30, 60])\n",
      " Number of batches: 2\n",
      " Preserved texts: 120\n",
      " Matrix size:       torch.Size([33, 60])\n"
     ]
    }
   ],
   "source": [
    "train_dl = imdb_data.ImdbTextDataset(corpus.train, pad_idx=corpus.vocab.stoi['<pad>'],\n",
    "                                     batch_size=settings.batch_size_id, seq_length=settings.window_size_id, \n",
    "                                     rand_range=5, sort=True, rebatch_and_shuffle=True)\n",
    "valid_dl = imdb_data.ImdbTextDataset(corpus.valid, pad_idx=corpus.vocab.stoi['<pad>'],\n",
    "                                     batch_size=settings.batch_size_id, seq_length=settings.window_size_id, \n",
    "                                     rand_range=5, sort=True)\n",
    "test_dl = imdb_data.ImdbTextDataset(corpus.test, pad_idx=corpus.vocab.stoi['<pad>'],\n",
    "                                    batch_size=settings.batch_size_id, seq_length=settings.window_size_id, \n",
    "                                    rand_range=5, sort=True)"
   ]
  },
  {
   "cell_type": "code",
   "execution_count": 7,
   "metadata": {},
   "outputs": [
    {
     "name": "stdout",
     "output_type": "stream",
     "text": [
      "0 torch.Size([20, 60])\n",
      "tensor([2, 1, 2, 0, 2, 2, 1, 2, 1, 0, 1, 1, 0, 1, 2, 0, 2, 1, 1, 1, 2, 0, 1, 1,\n",
      "        1, 1, 0, 0, 0, 1, 2, 0, 0, 1, 0, 1, 2, 1, 1, 1, 1, 1, 0, 1, 2, 1, 0, 0,\n",
      "        1, 1, 0, 2, 2, 2, 1, 1, 0, 1, 0, 1])\n",
      "[[67, 88], [14, 20], [0, 6], [33, 40], [109, 127], [88, 109], [20, 33], [40, 51], [51, 67], [6, 14]]\n",
      "1 torch.Size([5, 60])\n",
      "tensor([2, 0, 0, 0, 2, 1, 0, 0, 1, 0, 0, 2, 2, 0, 0, 1, 0, 0, 1, 0, 2, 0, 2, 0,\n",
      "        0, 2, 0, 0, 2, 0, 0, 0, 0, 2, 2, 0, 0, 0, 0, 0, 2, 0, 0, 1, 0, 0, 2, 0,\n",
      "        2, 0, 0, 2, 0, 1, 1, 0, 0, 0, 1, 2])\n",
      "[[67, 88], [14, 20], [0, 6], [33, 40], [109, 127], [88, 109], [20, 33], [40, 51], [51, 67], [6, 14]]\n",
      "2 torch.Size([5, 60])\n",
      "tensor([0, 0, 1, 2, 0, 0, 0, 1, 0, 0, 0, 1, 0, 0, 0, 0, 0, 0, 0, 0, 0, 0, 1, 0,\n",
      "        0, 2, 2, 0, 2, 2, 1, 0, 0, 0, 2, 0, 0, 0, 0, 0, 0, 1, 1, 0, 1, 2, 0, 0,\n",
      "        1, 1, 0, 2, 0, 0, 0, 0, 0, 0, 1, 2])\n",
      "[[67, 88], [14, 20], [0, 6], [33, 40], [109, 127], [88, 109], [20, 33], [40, 51], [51, 67], [6, 14]]\n",
      "3 torch.Size([6, 60])\n",
      "tensor([0, 1, 0, 0, 1, 0, 0, 1, 1, 1, 1, 1, 0, 1, 0, 1, 0, 1, 1, 1, 0, 1, 2, 0,\n",
      "        1, 1, 0, 1, 1, 0, 1, 0, 2, 0, 1, 1, 1, 0, 2, 1, 2, 1, 0, 2, 1, 1, 2, 1,\n",
      "        0, 0, 1, 2, 1, 1, 2, 1, 1, 1, 1, 0])\n",
      "[[67, 88], [14, 20], [0, 6], [33, 40], [109, 127], [88, 109], [20, 33], [40, 51], [51, 67], [6, 14]]\n",
      "4 torch.Size([17, 60])\n",
      "tensor([2, 0, 1, 1, 2, 1, 1, 1, 0, 0, 0, 1, 2, 1, 1, 1, 1, 1, 0, 1, 1, 1, 0, 1,\n",
      "        1, 0, 1, 1, 0, 1, 1, 0, 0, 1, 2, 0, 1, 1, 0, 1, 2, 0, 0, 1, 1, 0, 1, 1,\n",
      "        2, 0, 2, 0, 1, 0, 1, 0, 0, 0, 0, 1])\n",
      "[[67, 88], [14, 20], [0, 6], [33, 40], [109, 127], [88, 109], [20, 33], [40, 51], [51, 67], [6, 14]]\n",
      "5 torch.Size([20, 60])\n",
      "tensor([1, 1, 1, 0, 1, 1, 0, 1, 1, 0, 0, 0, 1, 1, 1, 0, 1, 1, 2, 0, 0, 0, 1, 2,\n",
      "        1, 1, 0, 1, 0, 1, 1, 0, 1, 0, 0, 1, 1, 0, 0, 2, 1, 0, 1, 1, 1, 1, 1, 0,\n",
      "        1, 2, 1, 0, 0, 1, 1, 0, 0, 1, 1, 1])\n",
      "[[67, 88], [14, 20], [0, 6], [33, 40], [109, 127], [88, 109], [20, 33], [40, 51], [51, 67], [6, 14]]\n",
      "6 torch.Size([12, 60])\n",
      "tensor([0, 0, 0, 0, 0, 0, 0, 1, 1, 0, 1, 1, 0, 2, 1, 0, 2, 2, 1, 1, 0, 1, 2, 0,\n",
      "        1, 0, 0, 1, 1, 0, 1, 1, 0, 1, 1, 1, 1, 2, 0, 1, 1, 0, 0, 0, 0, 1, 0, 0,\n",
      "        1, 0, 0, 0, 0, 1, 1, 1, 1, 0, 0, 1])\n",
      "[[67, 88], [14, 20], [0, 6], [33, 40], [109, 127], [88, 109], [20, 33], [40, 51], [51, 67], [6, 14]]\n",
      "7 torch.Size([10, 60])\n",
      "tensor([0, 1, 0, 1, 1, 1, 2, 1, 1, 2, 0, 0, 1, 1, 2, 1, 1, 1, 1, 0, 0, 0, 2, 1,\n",
      "        1, 2, 1, 0, 1, 1, 0, 1, 0, 1, 0, 1, 1, 1, 1, 1, 0, 0, 1, 0, 1, 0, 1, 1,\n",
      "        0, 1, 1, 1, 1, 0, 1, 0, 1, 1, 0, 0])\n",
      "[[67, 88], [14, 20], [0, 6], [33, 40], [109, 127], [88, 109], [20, 33], [40, 51], [51, 67], [6, 14]]\n",
      "8 torch.Size([15, 60])\n",
      "tensor([2, 1, 1, 0, 1, 1, 1, 1, 1, 1, 1, 0, 0, 2, 0, 1, 1, 0, 1, 1, 0, 0, 1, 2,\n",
      "        0, 2, 2, 1, 1, 0, 2, 1, 1, 1, 1, 1, 1, 0, 1, 0, 1, 2, 1, 1, 1, 1, 1, 1,\n",
      "        1, 1, 1, 1, 0, 1, 0, 1, 0, 0, 1, 0])\n",
      "[[67, 88], [14, 20], [0, 6], [33, 40], [109, 127], [88, 109], [20, 33], [40, 51], [51, 67], [6, 14]]\n"
     ]
    }
   ],
   "source": [
    "if in_notebook:\n",
    "    for idx, (train_x, train_y) in enumerate(train_dl):\n",
    "        print(idx, train_x.shape)\n",
    "        print(train_y)\n",
    "        print(train_dl.itoklistFrame.batch_start_end)\n",
    "        if idx == 8:\n",
    "            break"
   ]
  },
  {
   "cell_type": "code",
   "execution_count": 8,
   "metadata": {},
   "outputs": [
    {
     "name": "stdout",
     "output_type": "stream",
     "text": [
      "sequence lengths per batch:\n",
      "[21  6  6  7 18 21 13 11 16  8]\n"
     ]
    }
   ],
   "source": [
    "lengths = np.array(train_dl.itoklistFrame.batch_start_end)\n",
    "lengths = lengths[:,1] - lengths[:,0]\n",
    "print('sequence lengths per batch:')\n",
    "print(lengths)"
   ]
  },
  {
   "cell_type": "code",
   "execution_count": 9,
   "metadata": {},
   "outputs": [
    {
     "name": "stdout",
     "output_type": "stream",
     "text": [
      "0 20\n",
      "<upcase> all right . <upcase> <unk> let me ask you this . <eol> <pad> <pad> <pad> <pad> <pad> <pad> <pad> ## Patient ##\n",
      "1 5\n",
      "<upcase> <unk> . <eol> <pad> ## Doctor ##\n",
      "2 5\n",
      "<unk> <eol> <pad> <pad> <pad> ## Doctor ##\n",
      "3 6\n",
      "<upcase> <unk> about two hours . ## Patient ##\n",
      "4 17\n",
      "<upcase> <unk> <unk> <unk> this is normal . <upcase> most people have some difficulty a couple of ## Doctor ##\n"
     ]
    }
   ],
   "source": [
    "if in_notebook:\n",
    "    for idx, (x, y) in enumerate(train_dl):\n",
    "        if idx >= 5:\n",
    "            break\n",
    "        print(idx, len(x[:,1]))\n",
    "        for i in x[:,1]:\n",
    "            print(corpus.vocab.itos[i], end=' ')\n",
    "        print('##', corpus.classes.itos[y[1].item()], '##')"
   ]
  },
  {
   "cell_type": "code",
   "execution_count": 10,
   "metadata": {},
   "outputs": [],
   "source": [
    "model = neural.class_model_LSTM(vocab_dim=len(corpus.vocab),\n",
    "                                emb_dim=settings.emb_dim,\n",
    "                                hidden_dim=settings.hidden_dim,\n",
    "                                n_layers=settings.num_layers,\n",
    "                                dropout=settings.dropout,\n",
    "                                n_classes=corpus.n_classes\n",
    "                               )"
   ]
  },
  {
   "cell_type": "code",
   "execution_count": 11,
   "metadata": {},
   "outputs": [],
   "source": [
    "if cuda:\n",
    "    model = model.cuda()"
   ]
  },
  {
   "cell_type": "code",
   "execution_count": 12,
   "metadata": {},
   "outputs": [
    {
     "name": "stdout",
     "output_type": "stream",
     "text": [
      "class_model_LSTM(\n",
      "  (embedding): Embedding(10954, 50)\n",
      "  (lstm): LSTM(50, 300, num_layers=2, dropout=0.4, bidirectional=True)\n",
      "  (fc): Linear(in_features=600, out_features=3, bias=True)\n",
      "  (dropout): Dropout(p=0.4)\n",
      ")\n"
     ]
    }
   ],
   "source": [
    "print(model)"
   ]
  },
  {
   "cell_type": "code",
   "execution_count": 13,
   "metadata": {},
   "outputs": [
    {
     "name": "stdout",
     "output_type": "stream",
     "text": [
      "torch.Size([20, 60])\n",
      "tensor([[   3,    3,    3,  ...,    3,    3,   16],\n",
      "        [9474,  564,    2,  ...,  725,   79,   16],\n",
      "        [1435, 4704,  504,  ...,    2,  725,   16],\n",
      "        ...,\n",
      "        [   0,    0,    0,  ...,    0,    0,    0],\n",
      "        [   0,    0,    0,  ...,    0,    0,    0],\n",
      "        [   0,    0,    0,  ...,    0,    0,    0]])\n",
      "torch.Size([60])\n",
      "torch.Size([60, 3])\n",
      "tensor([2, 1, 2, 0, 2, 2, 1, 2, 1, 0, 1, 1, 0, 1, 2, 0, 2, 1, 1, 1, 2, 0, 1, 1,\n",
      "        1, 1, 0, 0, 0, 1, 2, 0, 0, 1, 0, 1, 2, 1, 1, 1, 1, 1, 0, 1, 2, 1, 0, 0,\n",
      "        1, 1, 0, 2, 2, 2, 1, 1, 0, 1, 0, 1])\n",
      "tensor([[ 0.0150,  0.0087, -0.0065],\n",
      "        [ 0.0097, -0.0184, -0.0145],\n",
      "        [ 0.0270,  0.0233,  0.0023],\n",
      "        [ 0.0130,  0.0159,  0.0048],\n",
      "        [ 0.0267,  0.0136,  0.0067],\n",
      "        [ 0.0262, -0.0081, -0.0055],\n",
      "        [ 0.0026,  0.0108,  0.0205],\n",
      "        [ 0.0021,  0.0042, -0.0013],\n",
      "        [ 0.0135,  0.0156,  0.0006],\n",
      "        [ 0.0174,  0.0006, -0.0057],\n",
      "        [ 0.0085,  0.0105,  0.0285],\n",
      "        [ 0.0188, -0.0097,  0.0020],\n",
      "        [ 0.0128, -0.0010,  0.0106],\n",
      "        [ 0.0073,  0.0005,  0.0028],\n",
      "        [ 0.0003,  0.0110, -0.0045],\n",
      "        [ 0.0144, -0.0088,  0.0023],\n",
      "        [ 0.0008,  0.0039,  0.0001],\n",
      "        [ 0.0022,  0.0132,  0.0088],\n",
      "        [ 0.0190, -0.0006, -0.0010],\n",
      "        [ 0.0279,  0.0234, -0.0063],\n",
      "        [ 0.0179,  0.0123, -0.0359],\n",
      "        [ 0.0036,  0.0128,  0.0144],\n",
      "        [ 0.0088,  0.0092, -0.0076],\n",
      "        [ 0.0096,  0.0122,  0.0222],\n",
      "        [ 0.0163, -0.0208,  0.0121],\n",
      "        [ 0.0267,  0.0064, -0.0127],\n",
      "        [ 0.0243,  0.0082, -0.0122],\n",
      "        [ 0.0144,  0.0081,  0.0168],\n",
      "        [-0.0038, -0.0026, -0.0034],\n",
      "        [ 0.0114,  0.0332,  0.0082],\n",
      "        [ 0.0247, -0.0136, -0.0157],\n",
      "        [ 0.0176, -0.0019, -0.0027],\n",
      "        [ 0.0301,  0.0122, -0.0065],\n",
      "        [ 0.0157,  0.0080,  0.0010],\n",
      "        [ 0.0133,  0.0093,  0.0076],\n",
      "        [ 0.0244,  0.0159,  0.0010],\n",
      "        [ 0.0159,  0.0040, -0.0119],\n",
      "        [ 0.0304, -0.0041,  0.0023],\n",
      "        [ 0.0183, -0.0050,  0.0131],\n",
      "        [ 0.0083,  0.0095, -0.0014],\n",
      "        [ 0.0072,  0.0211, -0.0041],\n",
      "        [ 0.0109,  0.0311, -0.0103],\n",
      "        [ 0.0200,  0.0023,  0.0024],\n",
      "        [ 0.0033,  0.0241, -0.0105],\n",
      "        [ 0.0122, -0.0001,  0.0037],\n",
      "        [ 0.0233,  0.0209,  0.0149],\n",
      "        [ 0.0410, -0.0031, -0.0068],\n",
      "        [ 0.0244,  0.0078, -0.0011],\n",
      "        [ 0.0216,  0.0127, -0.0120],\n",
      "        [-0.0002,  0.0104,  0.0127],\n",
      "        [-0.0052,  0.0165,  0.0068],\n",
      "        [-0.0206,  0.0202, -0.0030],\n",
      "        [ 0.0122,  0.0123, -0.0172],\n",
      "        [ 0.0256,  0.0020, -0.0005],\n",
      "        [ 0.0067,  0.0056, -0.0148],\n",
      "        [ 0.0081, -0.0036, -0.0263],\n",
      "        [ 0.0001, -0.0036,  0.0093],\n",
      "        [ 0.0169,  0.0047, -0.0095],\n",
      "        [ 0.0200,  0.0158,  0.0032],\n",
      "        [ 0.0325, -0.0011, -0.0138]], grad_fn=<ThAddmmBackward>)\n"
     ]
    }
   ],
   "source": [
    "if in_notebook:\n",
    "    x, y = next(iter(train_dl))\n",
    "    print(x.shape)\n",
    "    print(x)\n",
    "    print(y.shape)\n",
    "    preds = model(x)\n",
    "    print(preds.shape)\n",
    "    print(y)\n",
    "    print(preds)\n",
    "    loss_func = nn.CrossEntropyLoss()\n",
    "    loss = loss_func(preds, y.long())"
   ]
  },
  {
   "cell_type": "code",
   "execution_count": 14,
   "metadata": {},
   "outputs": [],
   "source": [
    "#model = torch.load('model_weights_speaker_id.pt')"
   ]
  },
  {
   "cell_type": "code",
   "execution_count": 15,
   "metadata": {},
   "outputs": [],
   "source": [
    "missclass = []\n",
    "missclass_next = []\n",
    "losses = []"
   ]
  },
  {
   "cell_type": "code",
   "execution_count": 16,
   "metadata": {},
   "outputs": [],
   "source": [
    "def run_epochs(model, train_dl, valid_dl, epochs=settings.epochs,\n",
    "               losses=[], missclass=[]):\n",
    "    \n",
    "    opt = optim.Adam(model.parameters(), lr=0.001, weight_decay=1e-6)\n",
    "    #opt = optim.Adam(model.parameters(), lr=0.001)\n",
    "    #loss_func = nn.NLLLoss()\n",
    "    loss_func = nn.CrossEntropyLoss()\n",
    "    \n",
    "    scheduler = optim.lr_scheduler.StepLR(opt, step_size=20, gamma=0.8)\n",
    "    \n",
    "    best_missclass_te = 1e10\n",
    "    \n",
    "    try: # Allow for user interrupt\n",
    " \n",
    "        for epoch in range(1, epochs + 1):\n",
    "            \n",
    "            scheduler.step()\n",
    "            running_loss = 0.0\n",
    "            running_corrects = 0\n",
    "            model.train() # turn on training mode\n",
    "\n",
    "            num_vals = 0\n",
    "            num_correct = 0\n",
    "\n",
    "            #pdb.set_trace()\n",
    "\n",
    "            for x, y in tqdm(train_dl, desc='Train {}/{}'.format(epoch, epochs)):\n",
    "                opt.zero_grad()\n",
    "                \n",
    "                if cuda:\n",
    "                    x = x.cuda()\n",
    "                    y = y.cuda()\n",
    "\n",
    "                preds = model(x)\n",
    "                loss = loss_func(preds, y.long())\n",
    "\n",
    "                loss.backward()\n",
    "                torch.nn.utils.clip_grad_norm_(model.parameters(), 0.25)\n",
    "                opt.step()\n",
    "\n",
    "                running_loss += loss.item() * x.size(0) / x.size(1)\n",
    "\n",
    "                _, y_preds = torch.max(preds, dim=1)\n",
    "                num_correct += torch.sum(y == y_preds).item()\n",
    "                num_vals += y.size(0)\n",
    "\n",
    "            #pdb.set_trace()\n",
    "\n",
    "            missclass_tr = 1 - num_correct / num_vals\n",
    "\n",
    "            epoch_loss = running_loss / len(train_dl)\n",
    "\n",
    "            num_vals = 0\n",
    "            num_correct = 0\n",
    "\n",
    "            # calculate the validation loss for this epoch\n",
    "            val_loss = 0.0\n",
    "            model.eval() # turn on evaluation mode\n",
    "            \n",
    "            with torch.no_grad():\n",
    "                for x, y in tqdm(valid_dl, desc='Valid {}/{}'.format(epoch, epochs)):\n",
    "                    if cuda:\n",
    "                        x = x.cuda()\n",
    "                        y = y.cuda()   \n",
    "                        \n",
    "                    preds = model(x)\n",
    "                    loss = loss_func(preds, y.long())\n",
    "\n",
    "                    val_loss += loss.item() * x.size(0) / x.size(1)\n",
    "\n",
    "                    _, y_preds = torch.max(preds, dim=1)\n",
    "                    num_correct += torch.sum(y == y_preds).item()\n",
    "                    num_vals += y.size(0)\n",
    "\n",
    "            #pdb.set_trace()\n",
    "\n",
    "            missclass_te = 1 - num_correct / num_vals\n",
    "            val_loss /= len(valid_dl)\n",
    "            \n",
    "            missclass.append((missclass_tr, missclass_te))\n",
    "            losses.append((epoch_loss, val_loss))\n",
    "\n",
    "            print('Epoch: {}/{}, Loss: [{:.4f}, {:.4f}], Miss: [{:.2%}, {:.2%}]'\\\n",
    "                  .format(epoch, epochs, epoch_loss, val_loss, \n",
    "                          missclass_tr, missclass_te))\n",
    "            sys.stdout.flush()\n",
    "\n",
    "            if missclass_te < best_missclass_te:\n",
    "                print('Improved validation. Saving weights file...', end=' ', flush=True)\n",
    "                torch.save(model, 'model_weights_speaker_id.pt')\n",
    "                print('Done.', flush=True)\n",
    "                best_missclass_te = missclass_te\n",
    "            \n",
    "    except KeyboardInterrupt:\n",
    "        print('Stopping with latest weights.')\n",
    "        \n",
    "    return model, opt, losses, missclass"
   ]
  },
  {
   "cell_type": "code",
   "execution_count": 17,
   "metadata": {
    "scrolled": false
   },
   "outputs": [
    {
     "name": "stderr",
     "output_type": "stream",
     "text": [
      "Train 1/50: 100%|██████████| 10/10 [00:02<00:00,  3.50it/s]\n",
      "Valid 1/50: 100%|██████████| 2/2 [00:00<00:00, 14.04it/s]"
     ]
    },
    {
     "name": "stdout",
     "output_type": "stream",
     "text": [
      "Epoch: 1/50, Loss: [0.2005, 0.2362], Miss: [64.33%, 54.17%]\n",
      "Improved validation. Saving weights file... Done.\n"
     ]
    },
    {
     "name": "stderr",
     "output_type": "stream",
     "text": [
      "\n",
      "Train 2/50: 100%|██████████| 10/10 [00:03<00:00,  3.17it/s]\n",
      "Valid 2/50: 100%|██████████| 2/2 [00:00<00:00, 14.63it/s]"
     ]
    },
    {
     "name": "stdout",
     "output_type": "stream",
     "text": [
      "Epoch: 2/50, Loss: [0.2186, 0.2209], Miss: [51.33%, 39.17%]\n",
      "Improved validation. Saving weights file... Done.\n"
     ]
    },
    {
     "name": "stderr",
     "output_type": "stream",
     "text": [
      "\n",
      "Train 3/50: 100%|██████████| 10/10 [00:02<00:00,  3.68it/s]\n",
      "Valid 3/50: 100%|██████████| 2/2 [00:00<00:00, 14.74it/s]"
     ]
    },
    {
     "name": "stdout",
     "output_type": "stream",
     "text": [
      "Epoch: 3/50, Loss: [0.1780, 0.2096], Miss: [41.33%, 44.17%]\n"
     ]
    },
    {
     "name": "stderr",
     "output_type": "stream",
     "text": [
      "\n",
      "Train 4/50: 100%|██████████| 10/10 [00:02<00:00,  3.65it/s]\n",
      "Valid 4/50: 100%|██████████| 2/2 [00:00<00:00, 13.58it/s]"
     ]
    },
    {
     "name": "stdout",
     "output_type": "stream",
     "text": [
      "Epoch: 4/50, Loss: [0.1676, 0.2472], Miss: [40.50%, 43.33%]\n"
     ]
    },
    {
     "name": "stderr",
     "output_type": "stream",
     "text": [
      "\n",
      "Train 5/50: 100%|██████████| 10/10 [00:02<00:00,  3.48it/s]\n",
      "Valid 5/50: 100%|██████████| 2/2 [00:00<00:00, 13.26it/s]"
     ]
    },
    {
     "name": "stdout",
     "output_type": "stream",
     "text": [
      "Epoch: 5/50, Loss: [0.2200, 0.2562], Miss: [35.83%, 38.33%]\n",
      "Improved validation. Saving weights file... Done.\n"
     ]
    },
    {
     "name": "stderr",
     "output_type": "stream",
     "text": [
      "\n",
      "Train 6/50: 100%|██████████| 10/10 [00:03<00:00,  3.29it/s]\n",
      "Valid 6/50: 100%|██████████| 2/2 [00:00<00:00, 14.81it/s]"
     ]
    },
    {
     "name": "stdout",
     "output_type": "stream",
     "text": [
      "Epoch: 6/50, Loss: [0.1583, 0.1990], Miss: [32.17%, 35.83%]\n",
      "Improved validation. Saving weights file... Done.\n"
     ]
    },
    {
     "name": "stderr",
     "output_type": "stream",
     "text": [
      "\n",
      "Train 7/50: 100%|██████████| 10/10 [00:02<00:00,  3.82it/s]\n",
      "Valid 7/50: 100%|██████████| 2/2 [00:00<00:00, 14.86it/s]"
     ]
    },
    {
     "name": "stdout",
     "output_type": "stream",
     "text": [
      "Epoch: 7/50, Loss: [0.1277, 0.2650], Miss: [33.83%, 46.67%]\n"
     ]
    },
    {
     "name": "stderr",
     "output_type": "stream",
     "text": [
      "\n",
      "Train 8/50: 100%|██████████| 10/10 [00:02<00:00,  3.73it/s]\n",
      "Valid 8/50: 100%|██████████| 2/2 [00:00<00:00, 12.75it/s]"
     ]
    },
    {
     "name": "stdout",
     "output_type": "stream",
     "text": [
      "Epoch: 8/50, Loss: [0.1239, 0.2470], Miss: [29.67%, 42.50%]\n"
     ]
    },
    {
     "name": "stderr",
     "output_type": "stream",
     "text": [
      "\n",
      "Train 9/50: 100%|██████████| 10/10 [00:02<00:00,  3.66it/s]\n",
      "Valid 9/50: 100%|██████████| 2/2 [00:00<00:00, 13.32it/s]"
     ]
    },
    {
     "name": "stdout",
     "output_type": "stream",
     "text": [
      "Epoch: 9/50, Loss: [0.1143, 0.1938], Miss: [26.83%, 31.67%]\n",
      "Improved validation. Saving weights file... Done.\n"
     ]
    },
    {
     "name": "stderr",
     "output_type": "stream",
     "text": [
      "\n",
      "Train 10/50: 100%|██████████| 10/10 [00:02<00:00,  3.42it/s]\n",
      "Valid 10/50: 100%|██████████| 2/2 [00:00<00:00, 13.46it/s]"
     ]
    },
    {
     "name": "stdout",
     "output_type": "stream",
     "text": [
      "Epoch: 10/50, Loss: [0.1139, 0.2342], Miss: [25.33%, 34.17%]\n"
     ]
    },
    {
     "name": "stderr",
     "output_type": "stream",
     "text": [
      "\n",
      "Train 11/50: 100%|██████████| 10/10 [00:02<00:00,  3.55it/s]\n",
      "Valid 11/50: 100%|██████████| 2/2 [00:00<00:00, 14.87it/s]"
     ]
    },
    {
     "name": "stdout",
     "output_type": "stream",
     "text": [
      "Epoch: 11/50, Loss: [0.1063, 0.2025], Miss: [25.17%, 34.17%]\n"
     ]
    },
    {
     "name": "stderr",
     "output_type": "stream",
     "text": [
      "\n",
      "Train 12/50: 100%|██████████| 10/10 [00:02<00:00,  3.89it/s]\n",
      "Valid 12/50: 100%|██████████| 2/2 [00:00<00:00, 13.48it/s]"
     ]
    },
    {
     "name": "stdout",
     "output_type": "stream",
     "text": [
      "Epoch: 12/50, Loss: [0.0909, 0.2369], Miss: [24.17%, 39.17%]\n"
     ]
    },
    {
     "name": "stderr",
     "output_type": "stream",
     "text": [
      "\n",
      "Train 13/50: 100%|██████████| 10/10 [00:02<00:00,  3.48it/s]\n",
      "Valid 13/50: 100%|██████████| 2/2 [00:00<00:00, 13.87it/s]"
     ]
    },
    {
     "name": "stdout",
     "output_type": "stream",
     "text": [
      "Epoch: 13/50, Loss: [0.1719, 0.2159], Miss: [24.83%, 41.67%]\n"
     ]
    },
    {
     "name": "stderr",
     "output_type": "stream",
     "text": [
      "\n",
      "Train 14/50: 100%|██████████| 10/10 [00:02<00:00,  3.57it/s]\n",
      "Valid 14/50: 100%|██████████| 2/2 [00:00<00:00, 14.85it/s]"
     ]
    },
    {
     "name": "stdout",
     "output_type": "stream",
     "text": [
      "Epoch: 14/50, Loss: [0.1004, 0.3650], Miss: [21.83%, 36.67%]\n"
     ]
    },
    {
     "name": "stderr",
     "output_type": "stream",
     "text": [
      "\n",
      "Train 15/50: 100%|██████████| 10/10 [00:02<00:00,  3.76it/s]\n",
      "Valid 15/50: 100%|██████████| 2/2 [00:00<00:00, 13.72it/s]"
     ]
    },
    {
     "name": "stdout",
     "output_type": "stream",
     "text": [
      "Epoch: 15/50, Loss: [0.1805, 0.4413], Miss: [24.67%, 37.50%]\n"
     ]
    },
    {
     "name": "stderr",
     "output_type": "stream",
     "text": [
      "\n",
      "Train 16/50: 100%|██████████| 10/10 [00:02<00:00,  4.27it/s]\n",
      "Valid 16/50: 100%|██████████| 2/2 [00:00<00:00, 13.58it/s]"
     ]
    },
    {
     "name": "stdout",
     "output_type": "stream",
     "text": [
      "Epoch: 16/50, Loss: [0.0739, 0.4205], Miss: [20.00%, 50.83%]\n"
     ]
    },
    {
     "name": "stderr",
     "output_type": "stream",
     "text": [
      "\n",
      "Train 17/50: 100%|██████████| 10/10 [00:02<00:00,  3.63it/s]\n",
      "Valid 17/50: 100%|██████████| 2/2 [00:00<00:00, 13.72it/s]"
     ]
    },
    {
     "name": "stdout",
     "output_type": "stream",
     "text": [
      "Epoch: 17/50, Loss: [0.0928, 0.3679], Miss: [21.33%, 42.50%]\n"
     ]
    },
    {
     "name": "stderr",
     "output_type": "stream",
     "text": [
      "\n",
      "Train 18/50: 100%|██████████| 10/10 [00:03<00:00,  3.27it/s]\n",
      "Valid 18/50: 100%|██████████| 2/2 [00:00<00:00, 12.55it/s]"
     ]
    },
    {
     "name": "stdout",
     "output_type": "stream",
     "text": [
      "Epoch: 18/50, Loss: [0.0942, 0.2217], Miss: [19.83%, 42.50%]\n"
     ]
    },
    {
     "name": "stderr",
     "output_type": "stream",
     "text": [
      "\n",
      "Train 19/50: 100%|██████████| 10/10 [00:02<00:00,  3.95it/s]\n",
      "Valid 19/50: 100%|██████████| 2/2 [00:00<00:00, 13.27it/s]"
     ]
    },
    {
     "name": "stdout",
     "output_type": "stream",
     "text": [
      "Epoch: 19/50, Loss: [0.0827, 0.2985], Miss: [20.33%, 37.50%]\n"
     ]
    },
    {
     "name": "stderr",
     "output_type": "stream",
     "text": [
      "\n",
      "Train 20/50: 100%|██████████| 10/10 [00:02<00:00,  3.65it/s]\n",
      "Valid 20/50: 100%|██████████| 2/2 [00:00<00:00, 13.23it/s]"
     ]
    },
    {
     "name": "stdout",
     "output_type": "stream",
     "text": [
      "Epoch: 20/50, Loss: [0.0894, 0.3056], Miss: [20.33%, 47.50%]\n"
     ]
    },
    {
     "name": "stderr",
     "output_type": "stream",
     "text": [
      "\n",
      "Train 21/50: 100%|██████████| 10/10 [00:02<00:00,  3.60it/s]\n",
      "Valid 21/50: 100%|██████████| 2/2 [00:00<00:00, 11.13it/s]"
     ]
    },
    {
     "name": "stdout",
     "output_type": "stream",
     "text": [
      "Epoch: 21/50, Loss: [0.1003, 0.2963], Miss: [24.17%, 33.33%]\n"
     ]
    },
    {
     "name": "stderr",
     "output_type": "stream",
     "text": [
      "\n",
      "Train 22/50: 100%|██████████| 10/10 [00:03<00:00,  2.99it/s]\n",
      "Valid 22/50: 100%|██████████| 2/2 [00:00<00:00, 12.73it/s]"
     ]
    },
    {
     "name": "stdout",
     "output_type": "stream",
     "text": [
      "Epoch: 22/50, Loss: [0.0702, 0.2702], Miss: [19.00%, 40.00%]\n"
     ]
    },
    {
     "name": "stderr",
     "output_type": "stream",
     "text": [
      "\n",
      "Train 23/50: 100%|██████████| 10/10 [00:02<00:00,  3.56it/s]\n",
      "Valid 23/50: 100%|██████████| 2/2 [00:00<00:00, 12.92it/s]"
     ]
    },
    {
     "name": "stdout",
     "output_type": "stream",
     "text": [
      "Epoch: 23/50, Loss: [0.0639, 0.3121], Miss: [17.67%, 36.67%]\n"
     ]
    },
    {
     "name": "stderr",
     "output_type": "stream",
     "text": [
      "\n",
      "Train 24/50: 100%|██████████| 10/10 [00:03<00:00,  3.14it/s]\n",
      "Valid 24/50: 100%|██████████| 2/2 [00:00<00:00, 13.14it/s]"
     ]
    },
    {
     "name": "stdout",
     "output_type": "stream",
     "text": [
      "Epoch: 24/50, Loss: [0.0893, 0.3238], Miss: [18.17%, 35.00%]\n"
     ]
    },
    {
     "name": "stderr",
     "output_type": "stream",
     "text": [
      "\n",
      "Train 25/50: 100%|██████████| 10/10 [00:03<00:00,  3.15it/s]\n",
      "Valid 25/50: 100%|██████████| 2/2 [00:00<00:00,  9.54it/s]"
     ]
    },
    {
     "name": "stdout",
     "output_type": "stream",
     "text": [
      "Epoch: 25/50, Loss: [0.0622, 0.2768], Miss: [17.17%, 36.67%]\n"
     ]
    },
    {
     "name": "stderr",
     "output_type": "stream",
     "text": [
      "\n",
      "Train 26/50: 100%|██████████| 10/10 [00:03<00:00,  3.04it/s]\n",
      "Valid 26/50: 100%|██████████| 2/2 [00:00<00:00, 11.12it/s]"
     ]
    },
    {
     "name": "stdout",
     "output_type": "stream",
     "text": [
      "Epoch: 26/50, Loss: [0.0687, 0.3413], Miss: [16.33%, 36.67%]\n"
     ]
    },
    {
     "name": "stderr",
     "output_type": "stream",
     "text": [
      "\n",
      "Train 27/50: 100%|██████████| 10/10 [00:03<00:00,  3.14it/s]\n",
      "Valid 27/50: 100%|██████████| 2/2 [00:00<00:00, 11.54it/s]"
     ]
    },
    {
     "name": "stdout",
     "output_type": "stream",
     "text": [
      "Epoch: 27/50, Loss: [0.0503, 0.3662], Miss: [16.50%, 30.83%]\n",
      "Improved validation. Saving weights file... "
     ]
    },
    {
     "name": "stderr",
     "output_type": "stream",
     "text": [
      "\n"
     ]
    },
    {
     "name": "stdout",
     "output_type": "stream",
     "text": [
      "Done.\n"
     ]
    },
    {
     "name": "stderr",
     "output_type": "stream",
     "text": [
      "Train 28/50: 100%|██████████| 10/10 [00:01<00:00,  6.07it/s]\n",
      "Valid 28/50: 100%|██████████| 2/2 [00:00<00:00,  7.07it/s]"
     ]
    },
    {
     "name": "stdout",
     "output_type": "stream",
     "text": [
      "Epoch: 28/50, Loss: [0.0620, 0.3634], Miss: [16.67%, 39.17%]\n"
     ]
    },
    {
     "name": "stderr",
     "output_type": "stream",
     "text": [
      "\n",
      "Train 29/50: 100%|██████████| 10/10 [00:08<00:00,  1.25it/s]\n",
      "Valid 29/50: 100%|██████████| 2/2 [00:00<00:00,  3.62it/s]"
     ]
    },
    {
     "name": "stdout",
     "output_type": "stream",
     "text": [
      "Epoch: 29/50, Loss: [0.0647, 0.3264], Miss: [21.33%, 42.50%]\n"
     ]
    },
    {
     "name": "stderr",
     "output_type": "stream",
     "text": [
      "\n",
      "Train 30/50: 100%|██████████| 10/10 [00:07<00:00,  1.35it/s]\n",
      "Valid 30/50: 100%|██████████| 2/2 [00:00<00:00,  8.39it/s]"
     ]
    },
    {
     "name": "stdout",
     "output_type": "stream",
     "text": [
      "Epoch: 30/50, Loss: [0.0536, 0.3295], Miss: [14.83%, 33.33%]\n"
     ]
    },
    {
     "name": "stderr",
     "output_type": "stream",
     "text": [
      "\n",
      "Train 31/50: 100%|██████████| 10/10 [00:04<00:00,  2.11it/s]\n",
      "Valid 31/50: 100%|██████████| 2/2 [00:00<00:00,  6.28it/s]"
     ]
    },
    {
     "name": "stdout",
     "output_type": "stream",
     "text": [
      "Epoch: 31/50, Loss: [0.0485, 0.3887], Miss: [15.00%, 34.17%]\n"
     ]
    },
    {
     "name": "stderr",
     "output_type": "stream",
     "text": [
      "\n",
      "Train 32/50: 100%|██████████| 10/10 [00:03<00:00,  2.93it/s]\n",
      "Valid 32/50: 100%|██████████| 2/2 [00:00<00:00, 10.27it/s]"
     ]
    },
    {
     "name": "stdout",
     "output_type": "stream",
     "text": [
      "Epoch: 32/50, Loss: [0.0351, 0.4432], Miss: [14.00%, 35.00%]\n"
     ]
    },
    {
     "name": "stderr",
     "output_type": "stream",
     "text": [
      "\n",
      "Train 33/50: 100%|██████████| 10/10 [00:03<00:00,  2.86it/s]\n",
      "Valid 33/50: 100%|██████████| 2/2 [00:00<00:00,  9.97it/s]"
     ]
    },
    {
     "name": "stdout",
     "output_type": "stream",
     "text": [
      "Epoch: 33/50, Loss: [0.0464, 0.4688], Miss: [14.50%, 36.67%]\n"
     ]
    },
    {
     "name": "stderr",
     "output_type": "stream",
     "text": [
      "\n",
      "Train 34/50: 100%|██████████| 10/10 [00:03<00:00,  2.86it/s]\n",
      "Valid 34/50: 100%|██████████| 2/2 [00:00<00:00,  9.79it/s]"
     ]
    },
    {
     "name": "stdout",
     "output_type": "stream",
     "text": [
      "Epoch: 34/50, Loss: [0.0509, 0.3931], Miss: [14.67%, 37.50%]\n"
     ]
    },
    {
     "name": "stderr",
     "output_type": "stream",
     "text": [
      "\n",
      "Train 35/50: 100%|██████████| 10/10 [00:03<00:00,  2.51it/s]\n",
      "Valid 35/50: 100%|██████████| 2/2 [00:00<00:00, 10.88it/s]"
     ]
    },
    {
     "name": "stdout",
     "output_type": "stream",
     "text": [
      "Epoch: 35/50, Loss: [0.0503, 0.4919], Miss: [16.33%, 32.50%]\n"
     ]
    },
    {
     "name": "stderr",
     "output_type": "stream",
     "text": [
      "\n",
      "Train 36/50: 100%|██████████| 10/10 [00:04<00:00,  2.35it/s]\n",
      "Valid 36/50: 100%|██████████| 2/2 [00:00<00:00, 11.14it/s]"
     ]
    },
    {
     "name": "stdout",
     "output_type": "stream",
     "text": [
      "Epoch: 36/50, Loss: [0.0486, 0.4118], Miss: [14.50%, 33.33%]\n"
     ]
    },
    {
     "name": "stderr",
     "output_type": "stream",
     "text": [
      "\n",
      "Train 37/50: 100%|██████████| 10/10 [00:04<00:00,  2.49it/s]\n",
      "Valid 37/50: 100%|██████████| 2/2 [00:00<00:00, 10.52it/s]"
     ]
    },
    {
     "name": "stdout",
     "output_type": "stream",
     "text": [
      "Epoch: 37/50, Loss: [0.0466, 0.4751], Miss: [13.67%, 34.17%]\n"
     ]
    },
    {
     "name": "stderr",
     "output_type": "stream",
     "text": [
      "\n",
      "Train 38/50: 100%|██████████| 10/10 [00:04<00:00,  2.31it/s]\n",
      "Valid 38/50: 100%|██████████| 2/2 [00:00<00:00,  8.73it/s]"
     ]
    },
    {
     "name": "stdout",
     "output_type": "stream",
     "text": [
      "Epoch: 38/50, Loss: [0.0473, 0.4843], Miss: [13.67%, 33.33%]\n"
     ]
    },
    {
     "name": "stderr",
     "output_type": "stream",
     "text": [
      "\n",
      "Train 39/50: 100%|██████████| 10/10 [00:03<00:00,  2.79it/s]\n",
      "Valid 39/50: 100%|██████████| 2/2 [00:00<00:00, 10.37it/s]"
     ]
    },
    {
     "name": "stdout",
     "output_type": "stream",
     "text": [
      "Epoch: 39/50, Loss: [0.0361, 0.5165], Miss: [13.00%, 33.33%]\n"
     ]
    },
    {
     "name": "stderr",
     "output_type": "stream",
     "text": [
      "\n",
      "Train 40/50: 100%|██████████| 10/10 [00:04<00:00,  2.18it/s]\n",
      "Valid 40/50: 100%|██████████| 2/2 [00:00<00:00, 11.53it/s]"
     ]
    },
    {
     "name": "stdout",
     "output_type": "stream",
     "text": [
      "Epoch: 40/50, Loss: [0.0418, 0.5586], Miss: [13.50%, 32.50%]\n"
     ]
    },
    {
     "name": "stderr",
     "output_type": "stream",
     "text": [
      "\n",
      "Train 41/50: 100%|██████████| 10/10 [00:04<00:00,  2.35it/s]\n",
      "Valid 41/50: 100%|██████████| 2/2 [00:00<00:00,  6.48it/s]"
     ]
    },
    {
     "name": "stdout",
     "output_type": "stream",
     "text": [
      "Epoch: 41/50, Loss: [0.0445, 0.5192], Miss: [13.50%, 34.17%]\n"
     ]
    },
    {
     "name": "stderr",
     "output_type": "stream",
     "text": [
      "\n",
      "Train 42/50: 100%|██████████| 10/10 [00:04<00:00,  2.23it/s]\n",
      "Valid 42/50: 100%|██████████| 2/2 [00:00<00:00,  9.22it/s]"
     ]
    },
    {
     "name": "stdout",
     "output_type": "stream",
     "text": [
      "Epoch: 42/50, Loss: [0.0459, 0.5591], Miss: [13.00%, 37.50%]\n"
     ]
    },
    {
     "name": "stderr",
     "output_type": "stream",
     "text": [
      "\n",
      "Train 43/50: 100%|██████████| 10/10 [00:03<00:00,  2.73it/s]\n",
      "Valid 43/50: 100%|██████████| 2/2 [00:00<00:00, 10.28it/s]"
     ]
    },
    {
     "name": "stdout",
     "output_type": "stream",
     "text": [
      "Epoch: 43/50, Loss: [0.0482, 0.5391], Miss: [15.00%, 47.50%]\n"
     ]
    },
    {
     "name": "stderr",
     "output_type": "stream",
     "text": [
      "\n",
      "Train 44/50: 100%|██████████| 10/10 [00:03<00:00,  2.83it/s]\n",
      "Valid 44/50: 100%|██████████| 2/2 [00:00<00:00, 10.76it/s]"
     ]
    },
    {
     "name": "stdout",
     "output_type": "stream",
     "text": [
      "Epoch: 44/50, Loss: [0.0368, 0.5165], Miss: [13.33%, 50.83%]\n"
     ]
    },
    {
     "name": "stderr",
     "output_type": "stream",
     "text": [
      "\n",
      "Train 45/50: 100%|██████████| 10/10 [00:03<00:00,  2.88it/s]\n",
      "Valid 45/50: 100%|██████████| 2/2 [00:00<00:00, 10.05it/s]"
     ]
    },
    {
     "name": "stdout",
     "output_type": "stream",
     "text": [
      "Epoch: 45/50, Loss: [0.0507, 0.5174], Miss: [18.33%, 40.83%]\n"
     ]
    },
    {
     "name": "stderr",
     "output_type": "stream",
     "text": [
      "\n",
      "Train 46/50: 100%|██████████| 10/10 [00:04<00:00,  2.42it/s]\n",
      "Valid 46/50: 100%|██████████| 2/2 [00:00<00:00, 11.00it/s]"
     ]
    },
    {
     "name": "stdout",
     "output_type": "stream",
     "text": [
      "Epoch: 46/50, Loss: [0.0430, 0.5605], Miss: [14.33%, 35.00%]\n"
     ]
    },
    {
     "name": "stderr",
     "output_type": "stream",
     "text": [
      "\n",
      "Train 47/50: 100%|██████████| 10/10 [00:03<00:00,  3.27it/s]\n",
      "Valid 47/50: 100%|██████████| 2/2 [00:00<00:00, 10.65it/s]"
     ]
    },
    {
     "name": "stdout",
     "output_type": "stream",
     "text": [
      "Epoch: 47/50, Loss: [0.0325, 0.4592], Miss: [14.00%, 32.50%]\n"
     ]
    },
    {
     "name": "stderr",
     "output_type": "stream",
     "text": [
      "\n",
      "Train 48/50: 100%|██████████| 10/10 [00:03<00:00,  2.68it/s]\n",
      "Valid 48/50: 100%|██████████| 2/2 [00:00<00:00, 11.17it/s]"
     ]
    },
    {
     "name": "stdout",
     "output_type": "stream",
     "text": [
      "Epoch: 48/50, Loss: [0.0522, 0.4966], Miss: [14.00%, 34.17%]\n"
     ]
    },
    {
     "name": "stderr",
     "output_type": "stream",
     "text": [
      "\n",
      "Train 49/50: 100%|██████████| 10/10 [00:02<00:00,  3.36it/s]\n",
      "Valid 49/50: 100%|██████████| 2/2 [00:00<00:00,  8.47it/s]"
     ]
    },
    {
     "name": "stdout",
     "output_type": "stream",
     "text": [
      "Epoch: 49/50, Loss: [0.0327, 0.5464], Miss: [13.00%, 45.00%]\n"
     ]
    },
    {
     "name": "stderr",
     "output_type": "stream",
     "text": [
      "\n",
      "Train 50/50: 100%|██████████| 10/10 [00:03<00:00,  3.03it/s]\n",
      "Valid 50/50: 100%|██████████| 2/2 [00:00<00:00, 10.75it/s]"
     ]
    },
    {
     "name": "stdout",
     "output_type": "stream",
     "text": [
      "Epoch: 50/50, Loss: [0.0397, 0.4817], Miss: [12.17%, 35.00%]\n"
     ]
    },
    {
     "name": "stderr",
     "output_type": "stream",
     "text": [
      "\n"
     ]
    }
   ],
   "source": [
    "model, opt, losses, missclass = run_epochs(model, train_dl, valid_dl, epochs=settings.epochs,\n",
    "                                           losses=losses, missclass=missclass)"
   ]
  },
  {
   "cell_type": "code",
   "execution_count": 18,
   "metadata": {},
   "outputs": [
    {
     "data": {
      "text/plain": [
       "tensor(1.0988, grad_fn=<NllLossBackward>)"
      ]
     },
     "execution_count": 18,
     "metadata": {},
     "output_type": "execute_result"
    }
   ],
   "source": [
    "loss_func(preds, y.long())"
   ]
  },
  {
   "cell_type": "code",
   "execution_count": 19,
   "metadata": {},
   "outputs": [
    {
     "data": {
      "text/plain": [
       "tensor(2.4376, grad_fn=<NllLossBackward>)"
      ]
     },
     "execution_count": 19,
     "metadata": {},
     "output_type": "execute_result"
    }
   ],
   "source": [
    "x, y = next(iter(valid_dl))\n",
    "if cuda:\n",
    "    x = x.cuda()\n",
    "    y = y.cuda()\n",
    "loss_func = nn.CrossEntropyLoss()\n",
    "preds = model(x)\n",
    "_, y_preds = torch.max(preds, dim=1)\n",
    "loss = loss_func(preds, y.long())\n",
    "loss"
   ]
  },
  {
   "cell_type": "code",
   "execution_count": 20,
   "metadata": {},
   "outputs": [
    {
     "name": "stdout",
     "output_type": "stream",
     "text": [
      "torch.Size([60])\n",
      "tensor([1, 0, 0, 1, 1, 1, 0, 0, 1, 1, 0, 1, 0, 1, 0, 0, 1, 1, 1, 1, 0, 0, 0, 1,\n",
      "        1, 1, 0, 0, 1, 1, 0, 1, 1, 2, 1, 0, 0, 1, 1, 2, 2, 1, 0, 1, 1, 0, 1, 2,\n",
      "        1, 1, 1, 1, 0, 0, 1, 1, 1, 1, 2, 0])\n"
     ]
    }
   ],
   "source": [
    "print(y.shape)\n",
    "print(y[:])"
   ]
  },
  {
   "cell_type": "code",
   "execution_count": 21,
   "metadata": {
    "scrolled": true
   },
   "outputs": [
    {
     "name": "stdout",
     "output_type": "stream",
     "text": [
      "tensor([1, 0, 0, 1, 1, 1, 0, 0, 1, 0, 0, 1, 0, 1, 2, 0, 0, 0, 1, 1, 0, 1, 0, 0,\n",
      "        1, 1, 1, 0, 1, 2, 1, 1, 0, 0, 1, 0, 0, 1, 2, 1, 1, 1, 1, 1, 1, 0, 1, 1,\n",
      "        0, 2, 1, 0, 0, 2, 1, 1, 1, 1, 0, 0])\n",
      "tensor([[-2.0909,  3.9862, -2.7688],\n",
      "        [ 5.2209, -2.4705, -1.8312],\n",
      "        [ 1.3287,  0.2348, -1.3405],\n",
      "        [ 0.7436,  1.0162, -1.6292],\n",
      "        [-3.8635,  4.8715, -2.1264],\n",
      "        [-1.8764,  1.2000,  0.4150],\n",
      "        [ 0.7499, -0.2540, -0.2328],\n",
      "        [ 8.8264, -4.8610, -2.5944],\n",
      "        [-3.2668,  4.4807, -2.2679],\n",
      "        [ 1.1431, -0.7095,  0.0103],\n",
      "        [ 6.6519, -2.7940, -2.6045],\n",
      "        [-1.3701,  1.6297, -0.6705],\n",
      "        [ 4.0980, -1.7180, -1.5737],\n",
      "        [-2.4706,  3.7235, -1.9610],\n",
      "        [ 0.3432, -2.8342,  2.4662],\n",
      "        [ 8.2872, -4.3719, -2.5605],\n",
      "        [ 8.4163, -4.8289, -2.3416],\n",
      "        [ 4.0678, -4.5323,  1.4861],\n",
      "        [-5.0503,  7.3283, -4.0191],\n",
      "        [ 1.3042,  1.4753, -2.5087],\n",
      "        [ 3.7113, -1.9061, -0.9346],\n",
      "        [-2.8638,  4.0592, -1.9968],\n",
      "        [ 5.7603, -2.3621, -2.3223],\n",
      "        [ 4.8827, -1.7239, -2.0924],\n",
      "        [-4.1708,  5.4343, -2.2709],\n",
      "        [-2.0561,  2.1415, -0.3800],\n",
      "        [-4.0078,  4.9255, -2.0334],\n",
      "        [ 8.4822, -4.2724, -2.7170],\n",
      "        [-4.6800,  5.9323, -2.4614],\n",
      "        [-1.5118,  0.2965,  1.3719],\n",
      "        [-3.6106,  4.5001, -1.7329],\n",
      "        [-1.7909,  3.6848, -2.5008],\n",
      "        [ 5.0496, -1.6589, -2.4302],\n",
      "        [ 3.5728, -3.1442,  0.4565],\n",
      "        [-2.5451,  3.1851, -1.0465],\n",
      "        [ 4.2228, -1.3269, -1.9248],\n",
      "        [ 6.0569, -2.4974, -2.2837],\n",
      "        [ 0.0937,  0.0942, -0.1957],\n",
      "        [ 0.1879, -4.7771,  5.0312],\n",
      "        [-5.4944,  7.8423, -4.2891],\n",
      "        [-5.1132,  7.0159, -3.5823],\n",
      "        [-4.9463,  5.6302, -1.8399],\n",
      "        [-2.1497,  2.8043, -1.1083],\n",
      "        [-4.4009,  5.3395, -1.8240],\n",
      "        [-4.9193,  2.8503,  1.4946],\n",
      "        [ 2.5094, -1.2720, -0.6469],\n",
      "        [-3.8435,  4.6350, -1.7387],\n",
      "        [-3.8022,  2.7906,  0.7627],\n",
      "        [ 3.1067, -0.7457, -1.7581],\n",
      "        [-1.2474, -0.5143,  1.9249],\n",
      "        [-5.3284,  7.5827, -3.9561],\n",
      "        [ 7.8466, -3.3632, -3.0866],\n",
      "        [ 9.1870, -4.6054, -3.1369],\n",
      "        [-2.0111, -4.0067,  5.9939],\n",
      "        [-5.4026,  7.3550, -3.6861],\n",
      "        [-5.1763,  7.0878, -3.4121],\n",
      "        [-4.7379,  6.9145, -3.4865],\n",
      "        [-4.3108,  5.9862, -2.8322],\n",
      "        [ 6.5926, -3.3693, -1.9330],\n",
      "        [ 8.7841, -4.0071, -3.3588]], grad_fn=<ThAddmmBackward>)\n"
     ]
    }
   ],
   "source": [
    "print(y_preds[:])\n",
    "print(preds)"
   ]
  },
  {
   "cell_type": "code",
   "execution_count": 22,
   "metadata": {},
   "outputs": [
    {
     "data": {
      "image/png": "[encoded data removed]",
      "text/plain": [
       "<Figure size 432x288 with 1 Axes>"
      ]
     },
     "metadata": {
      "needs_background": "light"
     },
     "output_type": "display_data"
    }
   ],
   "source": [
    "if in_notebook:\n",
    "    plt.plot(losses)\n",
    "    plt.legend(['train', 'valid'])"
   ]
  },
  {
   "cell_type": "code",
   "execution_count": 23,
   "metadata": {},
   "outputs": [
    {
     "data": {
      "image/png": "[encoded data removed]",
      "text/plain": [
       "<Figure size 432x288 with 1 Axes>"
      ]
     },
     "metadata": {
      "needs_background": "light"
     },
     "output_type": "display_data"
    }
   ],
   "source": [
    "if in_notebook:\n",
    "    plt.plot(missclass)\n",
    "    plt.legend(['train', 'valid'])"
   ]
  },
  {
   "cell_type": "code",
   "execution_count": null,
   "metadata": {},
   "outputs": [],
   "source": []
  },
  {
   "cell_type": "code",
   "execution_count": null,
   "metadata": {},
   "outputs": [],
   "source": []
  },
  {
   "cell_type": "code",
   "execution_count": null,
   "metadata": {},
   "outputs": [],
   "source": []
  }
 ],
 "metadata": {
  "kernelspec": {
   "display_name": "Python 3",
   "language": "python",
   "name": "python3"
  },
  "language_info": {
   "codemirror_mode": {
    "name": "ipython",
    "version": 3
   },
   "file_extension": ".py",
   "mimetype": "text/x-python",
   "name": "python",
   "nbconvert_exporter": "python",
   "pygments_lexer": "ipython3",
   "version": "3.7.0"
  }
 },
 "nbformat": 4,
 "nbformat_minor": 2
}
